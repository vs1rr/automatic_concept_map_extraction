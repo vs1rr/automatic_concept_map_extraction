{
 "cells": [
  {
   "cell_type": "markdown",
   "metadata": {},
   "source": [
    "## Hyperparameter search"
   ]
  },
  {
   "cell_type": "markdown",
   "metadata": {},
   "source": [
    "### Loading and Preparing Data"
   ]
  },
  {
   "cell_type": "code",
   "execution_count": 1,
   "metadata": {},
   "outputs": [],
   "source": [
    "import pandas as pd\n",
    "import numpy as np\n",
    "import plotly.express as px\n",
    "from IPython.display import display\n",
    "from scipy.stats import pearsonr, spearmanr, kendalltau\n",
    "\n",
    "method_to_func = {\"pearson\": pearsonr, \"kendall\": kendalltau, \"spearman\": spearmanr}\n",
    "\n",
    "def build_cols(metrics):\n",
    "    \"\"\" Columns for df \"\"\"\n",
    "    columns = []\n",
    "    for x in metrics:\n",
    "        columns += [f\"{x}_corr\", f\"{x}_pval\"]\n",
    "    return columns\n",
    "\n",
    "def get_correlations(df, method, params, metrics):\n",
    "    \"\"\" Retrieve correlations between params and metrics \"\"\"\n",
    "    data, mappings = [], {}\n",
    "    for p in params:\n",
    "        curr_data = []\n",
    "        for m in metrics:\n",
    "            if all (isinstance(x, float) for x in df[p].values):\n",
    "                x = list(df[p].values)\n",
    "            else:\n",
    "                curr_mapping = {val: index for index, val in enumerate(df[p].unique())}\n",
    "                mappings[p] = curr_mapping\n",
    "                x = [curr_mapping[elt] for elt in df[p].values]\n",
    "            curr_data += list(method_to_func[method](x, list(df[m].values)))\n",
    "        data.append(curr_data)\n",
    "    return pd.DataFrame(data, columns=build_cols(metrics), index=params), mappings"
   ]
  },
  {
   "cell_type": "code",
   "execution_count": 2,
   "metadata": {},
   "outputs": [
    {
     "data": {
      "text/html": [
       "<div>\n",
       "<style scoped>\n",
       "    .dataframe tbody tr th:only-of-type {\n",
       "        vertical-align: middle;\n",
       "    }\n",
       "\n",
       "    .dataframe tbody tr th {\n",
       "        vertical-align: top;\n",
       "    }\n",
       "\n",
       "    .dataframe thead th {\n",
       "        text-align: right;\n",
       "    }\n",
       "</style>\n",
       "<table border=\"1\" class=\"dataframe\">\n",
       "  <thead>\n",
       "    <tr style=\"text-align: right;\">\n",
       "      <th></th>\n",
       "      <th>summary_method</th>\n",
       "      <th>summary_percentage</th>\n",
       "      <th>ranking</th>\n",
       "      <th>ranking_how</th>\n",
       "      <th>ranking_perc_threshold</th>\n",
       "      <th>entity</th>\n",
       "      <th>relation</th>\n",
       "      <th>meteor_pr</th>\n",
       "      <th>meteor_re</th>\n",
       "      <th>meteor_f1</th>\n",
       "      <th>rouge-2_pr</th>\n",
       "      <th>rouge-2_re</th>\n",
       "      <th>rouge-2_f1</th>\n",
       "    </tr>\n",
       "  </thead>\n",
       "  <tbody>\n",
       "    <tr>\n",
       "      <th>15</th>\n",
       "      <td>none</td>\n",
       "      <td>none</td>\n",
       "      <td>page\\_rank</td>\n",
       "      <td>all</td>\n",
       "      <td>15.0</td>\n",
       "      <td>dbpedia\\_spotlight</td>\n",
       "      <td>corenlp</td>\n",
       "      <td>37.0</td>\n",
       "      <td>21.2</td>\n",
       "      <td>26.2</td>\n",
       "      <td>1.8</td>\n",
       "      <td>23.6</td>\n",
       "      <td>3.0</td>\n",
       "    </tr>\n",
       "    <tr>\n",
       "      <th>116</th>\n",
       "      <td>none</td>\n",
       "      <td>none</td>\n",
       "      <td>page\\_rank</td>\n",
       "      <td>all</td>\n",
       "      <td>15.0</td>\n",
       "      <td>dbpedia\\_spotlight</td>\n",
       "      <td>rebel\\_hf</td>\n",
       "      <td>35.3</td>\n",
       "      <td>20.4</td>\n",
       "      <td>25.4</td>\n",
       "      <td>2.1</td>\n",
       "      <td>23.7</td>\n",
       "      <td>3.8</td>\n",
       "    </tr>\n",
       "    <tr>\n",
       "      <th>129</th>\n",
       "      <td>none</td>\n",
       "      <td>none</td>\n",
       "      <td>page\\_rank</td>\n",
       "      <td>all</td>\n",
       "      <td>15.0</td>\n",
       "      <td>dbpedia\\_spotlight</td>\n",
       "      <td>rebel\\_ft</td>\n",
       "      <td>33.0</td>\n",
       "      <td>21.4</td>\n",
       "      <td>25.4</td>\n",
       "      <td>3.6</td>\n",
       "      <td>21.6</td>\n",
       "      <td>6.0</td>\n",
       "    </tr>\n",
       "  </tbody>\n",
       "</table>\n",
       "</div>"
      ],
      "text/plain": [
       "    summary_method summary_percentage     ranking ranking_how  \\\n",
       "15            none               none  page\\_rank         all   \n",
       "116           none               none  page\\_rank         all   \n",
       "129           none               none  page\\_rank         all   \n",
       "\n",
       "    ranking_perc_threshold              entity   relation  meteor_pr  \\\n",
       "15                    15.0  dbpedia\\_spotlight    corenlp       37.0   \n",
       "116                   15.0  dbpedia\\_spotlight  rebel\\_hf       35.3   \n",
       "129                   15.0  dbpedia\\_spotlight  rebel\\_ft       33.0   \n",
       "\n",
       "     meteor_re  meteor_f1  rouge-2_pr  rouge-2_re  rouge-2_f1  \n",
       "15        21.2       26.2         1.8        23.6         3.0  \n",
       "116       20.4       25.4         2.1        23.7         3.8  \n",
       "129       21.4       25.4         3.6        21.6         6.0  "
      ]
     },
     "execution_count": 2,
     "metadata": {},
     "output_type": "execute_result"
    }
   ],
   "source": [
    "df = pd.read_csv(\"hp_search_results.csv\", index_col=0).fillna(\"none\")\n",
    "df.head(3)"
   ]
  },
  {
   "cell_type": "code",
   "execution_count": 3,
   "metadata": {},
   "outputs": [
    {
     "name": "stdout",
     "output_type": "stream",
     "text": [
      "summary_method\t['none' 'chat-gpt' 'lex-rank']\n",
      "summary_percentage\t['none' 15.0 30.0]\n",
      "ranking\t['page\\\\_rank' 'word2vec' 'none']\n",
      "ranking_how\t['all' 'none']\n",
      "ranking_perc_threshold\t[15.0 30.0 'none']\n",
      "entity\t['dbpedia\\\\_spotlight' 'nps']\n",
      "relation\t['corenlp' 'rebel\\\\_hf' 'rebel\\\\_ft']\n",
      "meteor_pr\t12.0/27.61/44.6\n",
      "meteor_re\t13.0/21.87/34.5\n",
      "meteor_f1\t12.5/23.02/30.7\n",
      "rouge-2_pr\t0.4/4.5/12.7\n",
      "rouge-2_re\t2.3/15.67/36.3\n",
      "rouge-2_f1\t0.9/5.26/10.5\n"
     ]
    },
    {
     "data": {
      "text/html": [
       "<div>\n",
       "<style scoped>\n",
       "    .dataframe tbody tr th:only-of-type {\n",
       "        vertical-align: middle;\n",
       "    }\n",
       "\n",
       "    .dataframe tbody tr th {\n",
       "        vertical-align: top;\n",
       "    }\n",
       "\n",
       "    .dataframe thead th {\n",
       "        text-align: right;\n",
       "    }\n",
       "</style>\n",
       "<table border=\"1\" class=\"dataframe\">\n",
       "  <thead>\n",
       "    <tr style=\"text-align: right;\">\n",
       "      <th></th>\n",
       "      <th>summary_method</th>\n",
       "      <th>summary_percentage</th>\n",
       "      <th>ranking</th>\n",
       "      <th>ranking_how</th>\n",
       "      <th>ranking_perc_threshold</th>\n",
       "      <th>entity</th>\n",
       "      <th>relation</th>\n",
       "      <th>meteor_pr</th>\n",
       "      <th>meteor_re</th>\n",
       "      <th>meteor_f1</th>\n",
       "      <th>rouge-2_pr</th>\n",
       "      <th>rouge-2_re</th>\n",
       "      <th>rouge-2_f1</th>\n",
       "      <th>avg_pr</th>\n",
       "      <th>avg_re</th>\n",
       "      <th>avg_f1</th>\n",
       "    </tr>\n",
       "  </thead>\n",
       "  <tbody>\n",
       "    <tr>\n",
       "      <th>15</th>\n",
       "      <td>none</td>\n",
       "      <td>none</td>\n",
       "      <td>page\\_rank</td>\n",
       "      <td>all</td>\n",
       "      <td>15.0</td>\n",
       "      <td>dbpedia\\_spotlight</td>\n",
       "      <td>corenlp</td>\n",
       "      <td>37.0</td>\n",
       "      <td>21.2</td>\n",
       "      <td>26.2</td>\n",
       "      <td>1.8</td>\n",
       "      <td>23.6</td>\n",
       "      <td>3.0</td>\n",
       "      <td>19.4</td>\n",
       "      <td>22.40</td>\n",
       "      <td>14.6</td>\n",
       "    </tr>\n",
       "    <tr>\n",
       "      <th>116</th>\n",
       "      <td>none</td>\n",
       "      <td>none</td>\n",
       "      <td>page\\_rank</td>\n",
       "      <td>all</td>\n",
       "      <td>15.0</td>\n",
       "      <td>dbpedia\\_spotlight</td>\n",
       "      <td>rebel\\_hf</td>\n",
       "      <td>35.3</td>\n",
       "      <td>20.4</td>\n",
       "      <td>25.4</td>\n",
       "      <td>2.1</td>\n",
       "      <td>23.7</td>\n",
       "      <td>3.8</td>\n",
       "      <td>18.7</td>\n",
       "      <td>22.05</td>\n",
       "      <td>14.6</td>\n",
       "    </tr>\n",
       "    <tr>\n",
       "      <th>129</th>\n",
       "      <td>none</td>\n",
       "      <td>none</td>\n",
       "      <td>page\\_rank</td>\n",
       "      <td>all</td>\n",
       "      <td>15.0</td>\n",
       "      <td>dbpedia\\_spotlight</td>\n",
       "      <td>rebel\\_ft</td>\n",
       "      <td>33.0</td>\n",
       "      <td>21.4</td>\n",
       "      <td>25.4</td>\n",
       "      <td>3.6</td>\n",
       "      <td>21.6</td>\n",
       "      <td>6.0</td>\n",
       "      <td>18.3</td>\n",
       "      <td>21.50</td>\n",
       "      <td>15.7</td>\n",
       "    </tr>\n",
       "  </tbody>\n",
       "</table>\n",
       "</div>"
      ],
      "text/plain": [
       "    summary_method summary_percentage     ranking ranking_how  \\\n",
       "15            none               none  page\\_rank         all   \n",
       "116           none               none  page\\_rank         all   \n",
       "129           none               none  page\\_rank         all   \n",
       "\n",
       "    ranking_perc_threshold              entity   relation  meteor_pr  \\\n",
       "15                    15.0  dbpedia\\_spotlight    corenlp       37.0   \n",
       "116                   15.0  dbpedia\\_spotlight  rebel\\_hf       35.3   \n",
       "129                   15.0  dbpedia\\_spotlight  rebel\\_ft       33.0   \n",
       "\n",
       "     meteor_re  meteor_f1  rouge-2_pr  rouge-2_re  rouge-2_f1  avg_pr  avg_re  \\\n",
       "15        21.2       26.2         1.8        23.6         3.0    19.4   22.40   \n",
       "116       20.4       25.4         2.1        23.7         3.8    18.7   22.05   \n",
       "129       21.4       25.4         3.6        21.6         6.0    18.3   21.50   \n",
       "\n",
       "     avg_f1  \n",
       "15     14.6  \n",
       "116    14.6  \n",
       "129    15.7  "
      ]
     },
     "execution_count": 3,
     "metadata": {},
     "output_type": "execute_result"
    }
   ],
   "source": [
    "params = [x for x in df.columns if not any(x.startswith(y) for y in [\"rouge\", \"meteor\", \"avg\"])]\n",
    "# params_summary_ranking = [x for x in df.columns if any(x.startswith(y) for y in [\"summary\", \"ranking\"])]\n",
    "# df[\"params_sr\"] = df.apply(lambda row: \"_\".join(str(row[x]) for x in params_summary_ranking), axis=1)\n",
    "# params += [\"params_sr\"]\n",
    "metrics = [x for x in df.columns if any(x.startswith(y) for y in [\"rouge\", \"meteor\"])]\n",
    "for p in params:\n",
    "    print(f\"{p}\\t{df[p].unique()}\")\n",
    "for m in metrics:\n",
    "    print(f\"{m}\\t{np.min(df[m].values)}/{round(np.mean(df[m].values), 2)}/{np.max(df[m].values)}\")\n",
    "for val in [\"pr\", \"re\", \"f1\"]:\n",
    "    df[f\"avg_{val}\"] = (df[f\"meteor_{val}\"] + df[f\"rouge-2_{val}\"])/2\n",
    "df.head(3)"
   ]
  },
  {
   "cell_type": "markdown",
   "metadata": {},
   "source": [
    "### Correlations for entity + relations"
   ]
  },
  {
   "cell_type": "code",
   "execution_count": 4,
   "metadata": {},
   "outputs": [
    {
     "name": "stdout",
     "output_type": "stream",
     "text": [
      "entity:\t{'dbpedia\\\\_spotlight': 0, 'nps': 1}\n"
     ]
    },
    {
     "data": {
      "text/html": [
       "<div>\n",
       "<style scoped>\n",
       "    .dataframe tbody tr th:only-of-type {\n",
       "        vertical-align: middle;\n",
       "    }\n",
       "\n",
       "    .dataframe tbody tr th {\n",
       "        vertical-align: top;\n",
       "    }\n",
       "\n",
       "    .dataframe thead th {\n",
       "        text-align: right;\n",
       "    }\n",
       "</style>\n",
       "<table border=\"1\" class=\"dataframe\">\n",
       "  <thead>\n",
       "    <tr style=\"text-align: right;\">\n",
       "      <th></th>\n",
       "      <th>avg_pr_corr</th>\n",
       "      <th>avg_pr_pval</th>\n",
       "      <th>avg_re_corr</th>\n",
       "      <th>avg_re_pval</th>\n",
       "      <th>avg_f1_corr</th>\n",
       "      <th>avg_f1_pval</th>\n",
       "    </tr>\n",
       "  </thead>\n",
       "  <tbody>\n",
       "    <tr>\n",
       "      <th>entity</th>\n",
       "      <td>-0.482235</td>\n",
       "      <td>1.226712e-09</td>\n",
       "      <td>-0.542095</td>\n",
       "      <td>3.228761e-12</td>\n",
       "      <td>-0.635097</td>\n",
       "      <td>2.095694e-17</td>\n",
       "    </tr>\n",
       "  </tbody>\n",
       "</table>\n",
       "</div>"
      ],
      "text/plain": [
       "        avg_pr_corr   avg_pr_pval  avg_re_corr   avg_re_pval  avg_f1_corr  \\\n",
       "entity    -0.482235  1.226712e-09    -0.542095  3.228761e-12    -0.635097   \n",
       "\n",
       "         avg_f1_pval  \n",
       "entity  2.095694e-17  "
      ]
     },
     "execution_count": 4,
     "metadata": {},
     "output_type": "execute_result"
    }
   ],
   "source": [
    "corrs, mappings = get_correlations(df, 'pearson', ['entity'], [\"avg_pr\", \"avg_re\", \"avg_f1\"])\n",
    "for k, v in mappings.items():\n",
    "    print(f\"{k}:\\t{v}\")\n",
    "corrs"
   ]
  },
  {
   "cell_type": "code",
   "execution_count": 5,
   "metadata": {},
   "outputs": [
    {
     "name": "stdout",
     "output_type": "stream",
     "text": [
      "relation:\t{'corenlp': 0, 'rebel\\\\_ft': 1}\n"
     ]
    },
    {
     "data": {
      "text/html": [
       "<div>\n",
       "<style scoped>\n",
       "    .dataframe tbody tr th:only-of-type {\n",
       "        vertical-align: middle;\n",
       "    }\n",
       "\n",
       "    .dataframe tbody tr th {\n",
       "        vertical-align: top;\n",
       "    }\n",
       "\n",
       "    .dataframe thead th {\n",
       "        text-align: right;\n",
       "    }\n",
       "</style>\n",
       "<table border=\"1\" class=\"dataframe\">\n",
       "  <thead>\n",
       "    <tr style=\"text-align: right;\">\n",
       "      <th></th>\n",
       "      <th>avg_pr_corr</th>\n",
       "      <th>avg_pr_pval</th>\n",
       "      <th>avg_re_corr</th>\n",
       "      <th>avg_re_pval</th>\n",
       "      <th>avg_f1_corr</th>\n",
       "      <th>avg_f1_pval</th>\n",
       "    </tr>\n",
       "  </thead>\n",
       "  <tbody>\n",
       "    <tr>\n",
       "      <th>relation</th>\n",
       "      <td>0.108574</td>\n",
       "      <td>0.297567</td>\n",
       "      <td>0.030114</td>\n",
       "      <td>0.773253</td>\n",
       "      <td>0.368055</td>\n",
       "      <td>0.000263</td>\n",
       "    </tr>\n",
       "  </tbody>\n",
       "</table>\n",
       "</div>"
      ],
      "text/plain": [
       "          avg_pr_corr  avg_pr_pval  avg_re_corr  avg_re_pval  avg_f1_corr  \\\n",
       "relation     0.108574     0.297567     0.030114     0.773253     0.368055   \n",
       "\n",
       "          avg_f1_pval  \n",
       "relation     0.000263  "
      ]
     },
     "metadata": {},
     "output_type": "display_data"
    },
    {
     "name": "stdout",
     "output_type": "stream",
     "text": [
      "relation:\t{'corenlp': 0, 'rebel\\\\_hf': 1}\n"
     ]
    },
    {
     "data": {
      "text/html": [
       "<div>\n",
       "<style scoped>\n",
       "    .dataframe tbody tr th:only-of-type {\n",
       "        vertical-align: middle;\n",
       "    }\n",
       "\n",
       "    .dataframe tbody tr th {\n",
       "        vertical-align: top;\n",
       "    }\n",
       "\n",
       "    .dataframe thead th {\n",
       "        text-align: right;\n",
       "    }\n",
       "</style>\n",
       "<table border=\"1\" class=\"dataframe\">\n",
       "  <thead>\n",
       "    <tr style=\"text-align: right;\">\n",
       "      <th></th>\n",
       "      <th>avg_pr_corr</th>\n",
       "      <th>avg_pr_pval</th>\n",
       "      <th>avg_re_corr</th>\n",
       "      <th>avg_re_pval</th>\n",
       "      <th>avg_f1_corr</th>\n",
       "      <th>avg_f1_pval</th>\n",
       "    </tr>\n",
       "  </thead>\n",
       "  <tbody>\n",
       "    <tr>\n",
       "      <th>relation</th>\n",
       "      <td>0.193341</td>\n",
       "      <td>0.061889</td>\n",
       "      <td>0.190373</td>\n",
       "      <td>0.066079</td>\n",
       "      <td>0.383837</td>\n",
       "      <td>0.000134</td>\n",
       "    </tr>\n",
       "  </tbody>\n",
       "</table>\n",
       "</div>"
      ],
      "text/plain": [
       "          avg_pr_corr  avg_pr_pval  avg_re_corr  avg_re_pval  avg_f1_corr  \\\n",
       "relation     0.193341     0.061889     0.190373     0.066079     0.383837   \n",
       "\n",
       "          avg_f1_pval  \n",
       "relation     0.000134  "
      ]
     },
     "metadata": {},
     "output_type": "display_data"
    },
    {
     "name": "stdout",
     "output_type": "stream",
     "text": [
      "relation:\t{'rebel\\\\_hf': 0, 'rebel\\\\_ft': 1}\n"
     ]
    },
    {
     "data": {
      "text/html": [
       "<div>\n",
       "<style scoped>\n",
       "    .dataframe tbody tr th:only-of-type {\n",
       "        vertical-align: middle;\n",
       "    }\n",
       "\n",
       "    .dataframe tbody tr th {\n",
       "        vertical-align: top;\n",
       "    }\n",
       "\n",
       "    .dataframe thead th {\n",
       "        text-align: right;\n",
       "    }\n",
       "</style>\n",
       "<table border=\"1\" class=\"dataframe\">\n",
       "  <thead>\n",
       "    <tr style=\"text-align: right;\">\n",
       "      <th></th>\n",
       "      <th>avg_pr_corr</th>\n",
       "      <th>avg_pr_pval</th>\n",
       "      <th>avg_re_corr</th>\n",
       "      <th>avg_re_pval</th>\n",
       "      <th>avg_f1_corr</th>\n",
       "      <th>avg_f1_pval</th>\n",
       "    </tr>\n",
       "  </thead>\n",
       "  <tbody>\n",
       "    <tr>\n",
       "      <th>relation</th>\n",
       "      <td>-0.101366</td>\n",
       "      <td>0.325753</td>\n",
       "      <td>-0.200435</td>\n",
       "      <td>0.050224</td>\n",
       "      <td>0.012486</td>\n",
       "      <td>0.903898</td>\n",
       "    </tr>\n",
       "  </tbody>\n",
       "</table>\n",
       "</div>"
      ],
      "text/plain": [
       "          avg_pr_corr  avg_pr_pval  avg_re_corr  avg_re_pval  avg_f1_corr  \\\n",
       "relation    -0.101366     0.325753    -0.200435     0.050224     0.012486   \n",
       "\n",
       "          avg_f1_pval  \n",
       "relation     0.903898  "
      ]
     },
     "metadata": {},
     "output_type": "display_data"
    }
   ],
   "source": [
    "corrs, mappings = get_correlations(df[df.relation.isin(['corenlp', 'rebel\\_ft'])], 'pearson', ['relation'], [\"avg_pr\", \"avg_re\", \"avg_f1\"])\n",
    "for k, v in mappings.items():\n",
    "    print(f\"{k}:\\t{v}\")\n",
    "display(corrs)\n",
    "\n",
    "corrs, mappings = get_correlations(df[df.relation.isin(['corenlp', 'rebel\\_hf'])], 'pearson', ['relation'], [\"avg_pr\", \"avg_re\", \"avg_f1\"])\n",
    "for k, v in mappings.items():\n",
    "    print(f\"{k}:\\t{v}\")\n",
    "display(corrs)\n",
    "\n",
    "corrs, mappings = get_correlations(df[df.relation.isin(['rebel\\_hf', 'rebel\\_ft'])], 'pearson', ['relation'], [\"avg_pr\", \"avg_re\", \"avg_f1\"])\n",
    "for k, v in mappings.items():\n",
    "    print(f\"{k}:\\t{v}\")\n",
    "display(corrs)"
   ]
  },
  {
   "cell_type": "markdown",
   "metadata": {},
   "source": [
    "Params\n",
    "* `entity = \"dbpedia\\\\_spotlight\"`\n",
    "* `relation = \"rebel\\\\_hf\"`"
   ]
  },
  {
   "cell_type": "code",
   "execution_count": 6,
   "metadata": {},
   "outputs": [
    {
     "name": "stdout",
     "output_type": "stream",
     "text": [
      "(24, 16)\n"
     ]
    },
    {
     "data": {
      "text/html": [
       "<div>\n",
       "<style scoped>\n",
       "    .dataframe tbody tr th:only-of-type {\n",
       "        vertical-align: middle;\n",
       "    }\n",
       "\n",
       "    .dataframe tbody tr th {\n",
       "        vertical-align: top;\n",
       "    }\n",
       "\n",
       "    .dataframe thead th {\n",
       "        text-align: right;\n",
       "    }\n",
       "</style>\n",
       "<table border=\"1\" class=\"dataframe\">\n",
       "  <thead>\n",
       "    <tr style=\"text-align: right;\">\n",
       "      <th></th>\n",
       "      <th>summary_method</th>\n",
       "      <th>summary_percentage</th>\n",
       "      <th>ranking</th>\n",
       "      <th>ranking_how</th>\n",
       "      <th>ranking_perc_threshold</th>\n",
       "      <th>entity</th>\n",
       "      <th>relation</th>\n",
       "      <th>meteor_pr</th>\n",
       "      <th>meteor_re</th>\n",
       "      <th>meteor_f1</th>\n",
       "      <th>rouge-2_pr</th>\n",
       "      <th>rouge-2_re</th>\n",
       "      <th>rouge-2_f1</th>\n",
       "      <th>avg_pr</th>\n",
       "      <th>avg_re</th>\n",
       "      <th>avg_f1</th>\n",
       "    </tr>\n",
       "  </thead>\n",
       "  <tbody>\n",
       "    <tr>\n",
       "      <th>116</th>\n",
       "      <td>none</td>\n",
       "      <td>none</td>\n",
       "      <td>page\\_rank</td>\n",
       "      <td>all</td>\n",
       "      <td>15.0</td>\n",
       "      <td>dbpedia\\_spotlight</td>\n",
       "      <td>rebel\\_hf</td>\n",
       "      <td>35.3</td>\n",
       "      <td>20.4</td>\n",
       "      <td>25.4</td>\n",
       "      <td>2.1</td>\n",
       "      <td>23.7</td>\n",
       "      <td>3.8</td>\n",
       "      <td>18.70</td>\n",
       "      <td>22.05</td>\n",
       "      <td>14.60</td>\n",
       "    </tr>\n",
       "    <tr>\n",
       "      <th>60</th>\n",
       "      <td>none</td>\n",
       "      <td>none</td>\n",
       "      <td>page\\_rank</td>\n",
       "      <td>all</td>\n",
       "      <td>30.0</td>\n",
       "      <td>dbpedia\\_spotlight</td>\n",
       "      <td>rebel\\_hf</td>\n",
       "      <td>39.0</td>\n",
       "      <td>18.9</td>\n",
       "      <td>25.1</td>\n",
       "      <td>1.3</td>\n",
       "      <td>29.2</td>\n",
       "      <td>2.4</td>\n",
       "      <td>20.15</td>\n",
       "      <td>24.05</td>\n",
       "      <td>13.75</td>\n",
       "    </tr>\n",
       "    <tr>\n",
       "      <th>121</th>\n",
       "      <td>none</td>\n",
       "      <td>none</td>\n",
       "      <td>word2vec</td>\n",
       "      <td>all</td>\n",
       "      <td>15.0</td>\n",
       "      <td>dbpedia\\_spotlight</td>\n",
       "      <td>rebel\\_hf</td>\n",
       "      <td>34.2</td>\n",
       "      <td>17.6</td>\n",
       "      <td>22.8</td>\n",
       "      <td>1.8</td>\n",
       "      <td>22.7</td>\n",
       "      <td>3.3</td>\n",
       "      <td>18.00</td>\n",
       "      <td>20.15</td>\n",
       "      <td>13.05</td>\n",
       "    </tr>\n",
       "  </tbody>\n",
       "</table>\n",
       "</div>"
      ],
      "text/plain": [
       "    summary_method summary_percentage     ranking ranking_how  \\\n",
       "116           none               none  page\\_rank         all   \n",
       "60            none               none  page\\_rank         all   \n",
       "121           none               none    word2vec         all   \n",
       "\n",
       "    ranking_perc_threshold              entity   relation  meteor_pr  \\\n",
       "116                   15.0  dbpedia\\_spotlight  rebel\\_hf       35.3   \n",
       "60                    30.0  dbpedia\\_spotlight  rebel\\_hf       39.0   \n",
       "121                   15.0  dbpedia\\_spotlight  rebel\\_hf       34.2   \n",
       "\n",
       "     meteor_re  meteor_f1  rouge-2_pr  rouge-2_re  rouge-2_f1  avg_pr  avg_re  \\\n",
       "116       20.4       25.4         2.1        23.7         3.8   18.70   22.05   \n",
       "60        18.9       25.1         1.3        29.2         2.4   20.15   24.05   \n",
       "121       17.6       22.8         1.8        22.7         3.3   18.00   20.15   \n",
       "\n",
       "     avg_f1  \n",
       "116   14.60  \n",
       "60    13.75  \n",
       "121   13.05  "
      ]
     },
     "execution_count": 6,
     "metadata": {},
     "output_type": "execute_result"
    }
   ],
   "source": [
    "# Only keeping dbpedia spotlight for entity\n",
    "df_filter = df[(df.entity == 'dbpedia\\\\_spotlight') & (df.relation == \"rebel\\_hf\")]\n",
    "print(df_filter.shape)\n",
    "df_filter.head(3)"
   ]
  },
  {
   "cell_type": "markdown",
   "metadata": {},
   "source": [
    "### Summary + Importance Ranking"
   ]
  },
  {
   "cell_type": "code",
   "execution_count": 24,
   "metadata": {},
   "outputs": [
    {
     "name": "stdout",
     "output_type": "stream",
     "text": [
      "summary_method:\t{'chat-gpt': 0, 'lex-rank': 1}\n",
      "ranking:\t{'page\\\\_rank': 0, 'word2vec': 1}\n"
     ]
    },
    {
     "data": {
      "text/html": [
       "<div>\n",
       "<style scoped>\n",
       "    .dataframe tbody tr th:only-of-type {\n",
       "        vertical-align: middle;\n",
       "    }\n",
       "\n",
       "    .dataframe tbody tr th {\n",
       "        vertical-align: top;\n",
       "    }\n",
       "\n",
       "    .dataframe thead th {\n",
       "        text-align: right;\n",
       "    }\n",
       "</style>\n",
       "<table border=\"1\" class=\"dataframe\">\n",
       "  <thead>\n",
       "    <tr style=\"text-align: right;\">\n",
       "      <th></th>\n",
       "      <th>avg_pr_corr</th>\n",
       "      <th>avg_pr_pval</th>\n",
       "      <th>avg_re_corr</th>\n",
       "      <th>avg_re_pval</th>\n",
       "      <th>avg_f1_corr</th>\n",
       "      <th>avg_f1_pval</th>\n",
       "    </tr>\n",
       "  </thead>\n",
       "  <tbody>\n",
       "    <tr>\n",
       "      <th>summary_method</th>\n",
       "      <td>-0.556913</td>\n",
       "      <td>0.025035</td>\n",
       "      <td>-0.629487</td>\n",
       "      <td>0.008977</td>\n",
       "      <td>-0.917694</td>\n",
       "      <td>5.507472e-07</td>\n",
       "    </tr>\n",
       "    <tr>\n",
       "      <th>summary_percentage</th>\n",
       "      <td>0.207607</td>\n",
       "      <td>0.440394</td>\n",
       "      <td>0.403822</td>\n",
       "      <td>0.120856</td>\n",
       "      <td>-0.051860</td>\n",
       "      <td>8.487297e-01</td>\n",
       "    </tr>\n",
       "    <tr>\n",
       "      <th>ranking</th>\n",
       "      <td>-0.082384</td>\n",
       "      <td>0.761647</td>\n",
       "      <td>-0.154402</td>\n",
       "      <td>0.568032</td>\n",
       "      <td>-0.142051</td>\n",
       "      <td>5.997319e-01</td>\n",
       "    </tr>\n",
       "    <tr>\n",
       "      <th>ranking_perc_threshold</th>\n",
       "      <td>0.570095</td>\n",
       "      <td>0.021127</td>\n",
       "      <td>0.451330</td>\n",
       "      <td>0.079297</td>\n",
       "      <td>-0.060879</td>\n",
       "      <td>8.227814e-01</td>\n",
       "    </tr>\n",
       "  </tbody>\n",
       "</table>\n",
       "</div>"
      ],
      "text/plain": [
       "                        avg_pr_corr  avg_pr_pval  avg_re_corr  avg_re_pval  \\\n",
       "summary_method            -0.556913     0.025035    -0.629487     0.008977   \n",
       "summary_percentage         0.207607     0.440394     0.403822     0.120856   \n",
       "ranking                   -0.082384     0.761647    -0.154402     0.568032   \n",
       "ranking_perc_threshold     0.570095     0.021127     0.451330     0.079297   \n",
       "\n",
       "                        avg_f1_corr   avg_f1_pval  \n",
       "summary_method            -0.917694  5.507472e-07  \n",
       "summary_percentage        -0.051860  8.487297e-01  \n",
       "ranking                   -0.142051  5.997319e-01  \n",
       "ranking_perc_threshold    -0.060879  8.227814e-01  "
      ]
     },
     "execution_count": 24,
     "metadata": {},
     "output_type": "execute_result"
    }
   ],
   "source": [
    "curr_df = df_filter[(df_filter.summary_method != \"none\") & (df_filter.ranking != \"none\")]\n",
    "corrs, mappings = get_correlations(curr_df, 'pearson', ['summary_method', 'summary_percentage', 'ranking', 'ranking_perc_threshold'], [\"avg_pr\", \"avg_re\", \"avg_f1\"])\n",
    "for k, v in mappings.items():\n",
    "    print(f\"{k}:\\t{v}\")\n",
    "corrs"
   ]
  },
  {
   "cell_type": "code",
   "execution_count": 25,
   "metadata": {},
   "outputs": [
    {
     "name": "stdout",
     "output_type": "stream",
     "text": [
      "avg_f1\n"
     ]
    },
    {
     "data": {
      "text/html": [
       "<div>\n",
       "<style scoped>\n",
       "    .dataframe tbody tr th:only-of-type {\n",
       "        vertical-align: middle;\n",
       "    }\n",
       "\n",
       "    .dataframe tbody tr th {\n",
       "        vertical-align: top;\n",
       "    }\n",
       "\n",
       "    .dataframe thead th {\n",
       "        text-align: right;\n",
       "    }\n",
       "</style>\n",
       "<table border=\"1\" class=\"dataframe\">\n",
       "  <thead>\n",
       "    <tr style=\"text-align: right;\">\n",
       "      <th></th>\n",
       "      <th>summary_method</th>\n",
       "      <th>summary_percentage</th>\n",
       "      <th>ranking</th>\n",
       "      <th>ranking_perc_threshold</th>\n",
       "    </tr>\n",
       "  </thead>\n",
       "  <tbody>\n",
       "    <tr>\n",
       "      <th>136</th>\n",
       "      <td>chat-gpt</td>\n",
       "      <td>15.0</td>\n",
       "      <td>word2vec</td>\n",
       "      <td>15.0</td>\n",
       "    </tr>\n",
       "  </tbody>\n",
       "</table>\n",
       "</div>"
      ],
      "text/plain": [
       "    summary_method summary_percentage   ranking ranking_perc_threshold\n",
       "136       chat-gpt               15.0  word2vec                   15.0"
      ]
     },
     "metadata": {},
     "output_type": "display_data"
    }
   ],
   "source": [
    "print('avg_f1')\n",
    "display(curr_df[curr_df['avg_f1']==np.max(curr_df['avg_f1'].values)][['summary_method', 'summary_percentage', 'ranking', 'ranking_perc_threshold']])"
   ]
  },
  {
   "cell_type": "markdown",
   "metadata": {},
   "source": [
    "* `summary_method = \"chat-gpt\"` (significant)\n",
    "* `summary_percentage = 15` (best, not significant)\n",
    "* `ranking = \"word2vec\"`(best, not significant)\n",
    "* `ranking_perc_threshold = 15` (best, not significant)"
   ]
  },
  {
   "cell_type": "code",
   "execution_count": 26,
   "metadata": {},
   "outputs": [
    {
     "data": {
      "text/html": [
       "<div>\n",
       "<style scoped>\n",
       "    .dataframe tbody tr th:only-of-type {\n",
       "        vertical-align: middle;\n",
       "    }\n",
       "\n",
       "    .dataframe tbody tr th {\n",
       "        vertical-align: top;\n",
       "    }\n",
       "\n",
       "    .dataframe thead th {\n",
       "        text-align: right;\n",
       "    }\n",
       "</style>\n",
       "<table border=\"1\" class=\"dataframe\">\n",
       "  <thead>\n",
       "    <tr style=\"text-align: right;\">\n",
       "      <th></th>\n",
       "      <th>meteor_pr</th>\n",
       "      <th>meteor_re</th>\n",
       "      <th>meteor_f1</th>\n",
       "      <th>rouge-2_pr</th>\n",
       "      <th>rouge-2_re</th>\n",
       "      <th>rouge-2_f1</th>\n",
       "    </tr>\n",
       "  </thead>\n",
       "  <tbody>\n",
       "    <tr>\n",
       "      <th>136</th>\n",
       "      <td>26.3</td>\n",
       "      <td>28.8</td>\n",
       "      <td>26.8</td>\n",
       "      <td>9.4</td>\n",
       "      <td>13.5</td>\n",
       "      <td>10.3</td>\n",
       "    </tr>\n",
       "  </tbody>\n",
       "</table>\n",
       "</div>"
      ],
      "text/plain": [
       "     meteor_pr  meteor_re  meteor_f1  rouge-2_pr  rouge-2_re  rouge-2_f1\n",
       "136       26.3       28.8       26.8         9.4        13.5        10.3"
      ]
     },
     "execution_count": 26,
     "metadata": {},
     "output_type": "execute_result"
    }
   ],
   "source": [
    "df_filter[(df_filter.summary_method == \"chat-gpt\") & (df_filter.summary_percentage == 15) & \\\n",
    "    (df_filter.ranking == \"word2vec\") & (df_filter.ranking_perc_threshold == 15)][metrics]"
   ]
  },
  {
   "cell_type": "markdown",
   "metadata": {},
   "source": [
    "### Summary Only"
   ]
  },
  {
   "cell_type": "code",
   "execution_count": 27,
   "metadata": {},
   "outputs": [
    {
     "name": "stdout",
     "output_type": "stream",
     "text": [
      "summary_method:\t{'chat-gpt': 0, 'lex-rank': 1}\n"
     ]
    },
    {
     "data": {
      "text/html": [
       "<div>\n",
       "<style scoped>\n",
       "    .dataframe tbody tr th:only-of-type {\n",
       "        vertical-align: middle;\n",
       "    }\n",
       "\n",
       "    .dataframe tbody tr th {\n",
       "        vertical-align: top;\n",
       "    }\n",
       "\n",
       "    .dataframe thead th {\n",
       "        text-align: right;\n",
       "    }\n",
       "</style>\n",
       "<table border=\"1\" class=\"dataframe\">\n",
       "  <thead>\n",
       "    <tr style=\"text-align: right;\">\n",
       "      <th></th>\n",
       "      <th>avg_pr_corr</th>\n",
       "      <th>avg_pr_pval</th>\n",
       "      <th>avg_re_corr</th>\n",
       "      <th>avg_re_pval</th>\n",
       "      <th>avg_f1_corr</th>\n",
       "      <th>avg_f1_pval</th>\n",
       "    </tr>\n",
       "  </thead>\n",
       "  <tbody>\n",
       "    <tr>\n",
       "      <th>summary_method</th>\n",
       "      <td>0.546263</td>\n",
       "      <td>0.453737</td>\n",
       "      <td>-0.500433</td>\n",
       "      <td>0.499567</td>\n",
       "      <td>-0.962876</td>\n",
       "      <td>0.037124</td>\n",
       "    </tr>\n",
       "    <tr>\n",
       "      <th>summary_percentage</th>\n",
       "      <td>0.667655</td>\n",
       "      <td>0.332345</td>\n",
       "      <td>0.706494</td>\n",
       "      <td>0.293506</td>\n",
       "      <td>-0.262603</td>\n",
       "      <td>0.737397</td>\n",
       "    </tr>\n",
       "  </tbody>\n",
       "</table>\n",
       "</div>"
      ],
      "text/plain": [
       "                    avg_pr_corr  avg_pr_pval  avg_re_corr  avg_re_pval  \\\n",
       "summary_method         0.546263     0.453737    -0.500433     0.499567   \n",
       "summary_percentage     0.667655     0.332345     0.706494     0.293506   \n",
       "\n",
       "                    avg_f1_corr  avg_f1_pval  \n",
       "summary_method        -0.962876     0.037124  \n",
       "summary_percentage    -0.262603     0.737397  "
      ]
     },
     "execution_count": 27,
     "metadata": {},
     "output_type": "execute_result"
    }
   ],
   "source": [
    "curr_df = df_filter[(df_filter.summary_method != \"none\") & (df_filter.ranking == \"none\")]\n",
    "corrs, mappings = get_correlations(curr_df, 'pearson', ['summary_method', 'summary_percentage'], [\"avg_pr\", \"avg_re\", \"avg_f1\"])\n",
    "for k, v in mappings.items():\n",
    "    print(f\"{k}:\\t{v}\")\n",
    "corrs"
   ]
  },
  {
   "cell_type": "code",
   "execution_count": 28,
   "metadata": {},
   "outputs": [
    {
     "name": "stdout",
     "output_type": "stream",
     "text": [
      "avg_f1\n"
     ]
    },
    {
     "data": {
      "text/html": [
       "<div>\n",
       "<style scoped>\n",
       "    .dataframe tbody tr th:only-of-type {\n",
       "        vertical-align: middle;\n",
       "    }\n",
       "\n",
       "    .dataframe tbody tr th {\n",
       "        vertical-align: top;\n",
       "    }\n",
       "\n",
       "    .dataframe thead th {\n",
       "        text-align: right;\n",
       "    }\n",
       "</style>\n",
       "<table border=\"1\" class=\"dataframe\">\n",
       "  <thead>\n",
       "    <tr style=\"text-align: right;\">\n",
       "      <th></th>\n",
       "      <th>summary_method</th>\n",
       "      <th>summary_percentage</th>\n",
       "    </tr>\n",
       "  </thead>\n",
       "  <tbody>\n",
       "    <tr>\n",
       "      <th>16</th>\n",
       "      <td>chat-gpt</td>\n",
       "      <td>15.0</td>\n",
       "    </tr>\n",
       "  </tbody>\n",
       "</table>\n",
       "</div>"
      ],
      "text/plain": [
       "   summary_method summary_percentage\n",
       "16       chat-gpt               15.0"
      ]
     },
     "metadata": {},
     "output_type": "display_data"
    }
   ],
   "source": [
    "print('avg_f1')\n",
    "display(curr_df[curr_df['avg_f1']==np.max(curr_df['avg_f1'].values)][['summary_method', 'summary_percentage']])"
   ]
  },
  {
   "cell_type": "markdown",
   "metadata": {},
   "source": [
    "* `summary_method = \"chat-gpt\"` (significant for f1 but not others)\n",
    "* `summary_percentage = 15` (best, not significant)"
   ]
  },
  {
   "cell_type": "code",
   "execution_count": 29,
   "metadata": {},
   "outputs": [
    {
     "data": {
      "text/html": [
       "<div>\n",
       "<style scoped>\n",
       "    .dataframe tbody tr th:only-of-type {\n",
       "        vertical-align: middle;\n",
       "    }\n",
       "\n",
       "    .dataframe tbody tr th {\n",
       "        vertical-align: top;\n",
       "    }\n",
       "\n",
       "    .dataframe thead th {\n",
       "        text-align: right;\n",
       "    }\n",
       "</style>\n",
       "<table border=\"1\" class=\"dataframe\">\n",
       "  <thead>\n",
       "    <tr style=\"text-align: right;\">\n",
       "      <th></th>\n",
       "      <th>meteor_pr</th>\n",
       "      <th>meteor_re</th>\n",
       "      <th>meteor_f1</th>\n",
       "      <th>rouge-2_pr</th>\n",
       "      <th>rouge-2_re</th>\n",
       "      <th>rouge-2_f1</th>\n",
       "    </tr>\n",
       "  </thead>\n",
       "  <tbody>\n",
       "    <tr>\n",
       "      <th>16</th>\n",
       "      <td>34.6</td>\n",
       "      <td>23.1</td>\n",
       "      <td>27.0</td>\n",
       "      <td>3.2</td>\n",
       "      <td>23.6</td>\n",
       "      <td>5.4</td>\n",
       "    </tr>\n",
       "  </tbody>\n",
       "</table>\n",
       "</div>"
      ],
      "text/plain": [
       "    meteor_pr  meteor_re  meteor_f1  rouge-2_pr  rouge-2_re  rouge-2_f1\n",
       "16       34.6       23.1       27.0         3.2        23.6         5.4"
      ]
     },
     "execution_count": 29,
     "metadata": {},
     "output_type": "execute_result"
    }
   ],
   "source": [
    "curr_df[(curr_df.summary_method == \"chat-gpt\") & (curr_df.summary_percentage == 15)][metrics]"
   ]
  },
  {
   "cell_type": "markdown",
   "metadata": {},
   "source": [
    "### Ranking Only"
   ]
  },
  {
   "cell_type": "code",
   "execution_count": 32,
   "metadata": {},
   "outputs": [
    {
     "name": "stdout",
     "output_type": "stream",
     "text": [
      "ranking:\t{'page\\\\_rank': 0, 'word2vec': 1}\n"
     ]
    },
    {
     "data": {
      "text/html": [
       "<div>\n",
       "<style scoped>\n",
       "    .dataframe tbody tr th:only-of-type {\n",
       "        vertical-align: middle;\n",
       "    }\n",
       "\n",
       "    .dataframe tbody tr th {\n",
       "        vertical-align: top;\n",
       "    }\n",
       "\n",
       "    .dataframe thead th {\n",
       "        text-align: right;\n",
       "    }\n",
       "</style>\n",
       "<table border=\"1\" class=\"dataframe\">\n",
       "  <thead>\n",
       "    <tr style=\"text-align: right;\">\n",
       "      <th></th>\n",
       "      <th>avg_pr_corr</th>\n",
       "      <th>avg_pr_pval</th>\n",
       "      <th>avg_re_corr</th>\n",
       "      <th>avg_re_pval</th>\n",
       "      <th>avg_f1_corr</th>\n",
       "      <th>avg_f1_pval</th>\n",
       "    </tr>\n",
       "  </thead>\n",
       "  <tbody>\n",
       "    <tr>\n",
       "      <th>ranking</th>\n",
       "      <td>-0.360342</td>\n",
       "      <td>0.639658</td>\n",
       "      <td>-0.599482</td>\n",
       "      <td>0.400518</td>\n",
       "      <td>-0.891338</td>\n",
       "      <td>0.108662</td>\n",
       "    </tr>\n",
       "    <tr>\n",
       "      <th>ranking_perc_threshold</th>\n",
       "      <td>0.930885</td>\n",
       "      <td>0.069115</td>\n",
       "      <td>0.796327</td>\n",
       "      <td>0.203673</td>\n",
       "      <td>-0.371391</td>\n",
       "      <td>0.628609</td>\n",
       "    </tr>\n",
       "  </tbody>\n",
       "</table>\n",
       "</div>"
      ],
      "text/plain": [
       "                        avg_pr_corr  avg_pr_pval  avg_re_corr  avg_re_pval  \\\n",
       "ranking                   -0.360342     0.639658    -0.599482     0.400518   \n",
       "ranking_perc_threshold     0.930885     0.069115     0.796327     0.203673   \n",
       "\n",
       "                        avg_f1_corr  avg_f1_pval  \n",
       "ranking                   -0.891338     0.108662  \n",
       "ranking_perc_threshold    -0.371391     0.628609  "
      ]
     },
     "execution_count": 32,
     "metadata": {},
     "output_type": "execute_result"
    }
   ],
   "source": [
    "curr_df = df_filter[(df_filter.summary_method == \"none\") & (df_filter.ranking != \"none\")]\n",
    "corrs, mappings = get_correlations(curr_df, 'pearson', ['ranking', 'ranking_perc_threshold'], [\"avg_pr\", \"avg_re\", \"avg_f1\"])\n",
    "for k, v in mappings.items():\n",
    "    print(f\"{k}:\\t{v}\")\n",
    "corrs"
   ]
  },
  {
   "cell_type": "code",
   "execution_count": 33,
   "metadata": {},
   "outputs": [
    {
     "name": "stdout",
     "output_type": "stream",
     "text": [
      "avg_f1\n"
     ]
    },
    {
     "data": {
      "text/html": [
       "<div>\n",
       "<style scoped>\n",
       "    .dataframe tbody tr th:only-of-type {\n",
       "        vertical-align: middle;\n",
       "    }\n",
       "\n",
       "    .dataframe tbody tr th {\n",
       "        vertical-align: top;\n",
       "    }\n",
       "\n",
       "    .dataframe thead th {\n",
       "        text-align: right;\n",
       "    }\n",
       "</style>\n",
       "<table border=\"1\" class=\"dataframe\">\n",
       "  <thead>\n",
       "    <tr style=\"text-align: right;\">\n",
       "      <th></th>\n",
       "      <th>ranking</th>\n",
       "      <th>ranking_perc_threshold</th>\n",
       "    </tr>\n",
       "  </thead>\n",
       "  <tbody>\n",
       "    <tr>\n",
       "      <th>116</th>\n",
       "      <td>page\\_rank</td>\n",
       "      <td>15.0</td>\n",
       "    </tr>\n",
       "  </tbody>\n",
       "</table>\n",
       "</div>"
      ],
      "text/plain": [
       "        ranking ranking_perc_threshold\n",
       "116  page\\_rank                   15.0"
      ]
     },
     "metadata": {},
     "output_type": "display_data"
    }
   ],
   "source": [
    "print('avg_f1')\n",
    "display(curr_df[curr_df['avg_f1']==np.max(curr_df['avg_f1'].values)][['ranking', 'ranking_perc_threshold']])"
   ]
  },
  {
   "cell_type": "markdown",
   "metadata": {},
   "source": [
    "* `ranking = \"page\\\\_rank\"`(not significant)\n",
    "* `ranking_perc_threshold = 15` (significant for precision)"
   ]
  },
  {
   "cell_type": "code",
   "execution_count": 34,
   "metadata": {},
   "outputs": [
    {
     "data": {
      "text/html": [
       "<div>\n",
       "<style scoped>\n",
       "    .dataframe tbody tr th:only-of-type {\n",
       "        vertical-align: middle;\n",
       "    }\n",
       "\n",
       "    .dataframe tbody tr th {\n",
       "        vertical-align: top;\n",
       "    }\n",
       "\n",
       "    .dataframe thead th {\n",
       "        text-align: right;\n",
       "    }\n",
       "</style>\n",
       "<table border=\"1\" class=\"dataframe\">\n",
       "  <thead>\n",
       "    <tr style=\"text-align: right;\">\n",
       "      <th></th>\n",
       "      <th>meteor_pr</th>\n",
       "      <th>meteor_re</th>\n",
       "      <th>meteor_f1</th>\n",
       "      <th>rouge-2_pr</th>\n",
       "      <th>rouge-2_re</th>\n",
       "      <th>rouge-2_f1</th>\n",
       "    </tr>\n",
       "  </thead>\n",
       "  <tbody>\n",
       "    <tr>\n",
       "      <th>116</th>\n",
       "      <td>35.3</td>\n",
       "      <td>20.4</td>\n",
       "      <td>25.4</td>\n",
       "      <td>2.1</td>\n",
       "      <td>23.7</td>\n",
       "      <td>3.8</td>\n",
       "    </tr>\n",
       "  </tbody>\n",
       "</table>\n",
       "</div>"
      ],
      "text/plain": [
       "     meteor_pr  meteor_re  meteor_f1  rouge-2_pr  rouge-2_re  rouge-2_f1\n",
       "116       35.3       20.4       25.4         2.1        23.7         3.8"
      ]
     },
     "execution_count": 34,
     "metadata": {},
     "output_type": "execute_result"
    }
   ],
   "source": [
    "curr_df[(curr_df.ranking == 'page\\\\_rank') & (curr_df.ranking_perc_threshold == 15)][metrics]"
   ]
  }
 ],
 "metadata": {
  "kernelspec": {
   "display_name": "ConceptMapsSummaries",
   "language": "python",
   "name": "python3"
  },
  "language_info": {
   "codemirror_mode": {
    "name": "ipython",
    "version": 3
   },
   "file_extension": ".py",
   "mimetype": "text/x-python",
   "name": "python",
   "nbconvert_exporter": "python",
   "pygments_lexer": "ipython3",
   "version": "3.11.3"
  }
 },
 "nbformat": 4,
 "nbformat_minor": 2
}
