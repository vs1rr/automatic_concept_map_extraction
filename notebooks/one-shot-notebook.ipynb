{
 "cells": [
  {
   "cell_type": "code",
   "execution_count": 60,
   "metadata": {},
   "outputs": [],
   "source": [
    "import os\n",
    "\n",
    "from openai import OpenAI\n",
    "from tqdm import tqdm"
   ]
  },
  {
   "cell_type": "code",
   "execution_count": 61,
   "metadata": {},
   "outputs": [],
   "source": [
    "CLIENT = OpenAI(api_key=\"\")\n",
    "MODEL = \"gpt-3.5-turbo-0125\"\n",
    "folder_path = \"./data/Corpora_Falke/Wiki/test/102\""
   ]
  },
  {
   "cell_type": "code",
   "execution_count": 62,
   "metadata": {},
   "outputs": [],
   "source": [
    "def read_cmap_file(folder_path):\n",
    "    \"\"\"\n",
    "    Read the .cmap file in the specified folder and return its content.\n",
    "\n",
    "    Args:\n",
    "    - folder_path (str): The path to the folder containing the .cmap file.\n",
    "\n",
    "    Returns:\n",
    "    - cmap_content (str): The content of the .cmap file.\n",
    "    \"\"\"\n",
    "    # Get the list of files in the folder\n",
    "    files = os.listdir(folder_path)\n",
    "\n",
    "    # Filter files to find the .cmap file\n",
    "    cmap_files = [file for file in files if file.endswith('.cmap')]\n",
    "\n",
    "    # Check if there is exactly one .cmap file\n",
    "    if len(cmap_files) != 1:\n",
    "        raise ValueError(\"There should be exactly one .cmap file in the folder.\")\n",
    "\n",
    "    # Get the path of the .cmap file\n",
    "    cmap_file_path = os.path.join(folder_path, cmap_files[0])\n",
    "\n",
    "    # Open and read the content of the .cmap file\n",
    "    with open(cmap_file_path, 'r') as file:\n",
    "        cmap_content = file.read()\n",
    "\n",
    "    return cmap_content"
   ]
  },
  {
   "cell_type": "code",
   "execution_count": 63,
   "metadata": {},
   "outputs": [],
   "source": [
    "def read_txt_files(folder_path):\n",
    "    \"\"\"\n",
    "    Read all .txt files in the specified folder and return their content in a dictionary.\n",
    "\n",
    "    Args:\n",
    "    - folder_path (str): The path to the folder containing the .txt files.\n",
    "\n",
    "    Returns:\n",
    "    - txt_contents (dict): A dictionary where keys are file names (without the .txt extension) and values are the content of each file.\n",
    "    \"\"\"\n",
    "    files = os.listdir(folder_path)\n",
    "\n",
    "    txt_files = [file for file in files if file.endswith('.txt')]\n",
    "\n",
    "    txt_contents = {}\n",
    "\n",
    "    for txt_file in txt_files:\n",
    "        txt_file_path = os.path.join(folder_path, txt_file)\n",
    "        with open(txt_file_path, 'r') as file:\n",
    "            txt_contents[txt_file.replace('.txt', '')] = file.read()\n",
    "\n",
    "    return txt_contents"
   ]
  },
  {
   "cell_type": "code",
   "execution_count": 64,
   "metadata": {},
   "outputs": [],
   "source": [
    "folder_path = \"./data/Corpora_Falke/Wiki/test/102\"\n",
    "txt_contents = read_txt_files(folder_path)\n",
    "cmap_content = read_cmap_file(folder_path)\n",
    "\n",
    "PROMPT_CONCEPT_MAP = \"\"\"\n",
    "                    Task Description: Concept Map Generation\n",
    "\n",
    "                    Your task is to process a collection of {} and extract triples from them.\n",
    "\n",
    "                    Subsequently, you'll aggregate this information to construct a unique and comprehensive Concept Map representing the information\n",
    "                    in all the texts in the given folder.\n",
    "\n",
    "                    The resulting Concept Map should adhere to the following structure:\n",
    "                    <Subject> - <Predicate> - <Object>,\n",
    "                    <Subject> - <Predicate> - <Object>,\n",
    "                    <Subject> - <Predicate> - <Object>,\n",
    "\n",
    "                    The Concept Map should contain only the most important triple that best summarizes the content of all texts and avoid redundancy across triples.\n",
    "                    In your answer, you must give the output in a .csv file with the columns `subject`, `predicate`, and `object`.\n",
    "\n",
    "                    The output is a single:\n",
    "                    ```csv\n",
    "                    \"\"\"\n",
    "\n",
    "\n",
    "def get_concept_map(texts, cmap_content):\n",
    "    res = []\n",
    "    for text in tqdm(texts):\n",
    "        prompt = PROMPT_CONCEPT_MAP.format(cmap_content, text)\n",
    "        completion = CLIENT.chat.completions.create(\n",
    "            model=MODEL, messages=[{\"role\": \"user\", \"content\": prompt}], temperature=0)\n",
    "        res.append(completion.choices[0].message.content)\n",
    "    return res\n"
   ]
  },
  {
   "cell_type": "code",
   "execution_count": 65,
   "metadata": {},
   "outputs": [
    {
     "name": "stderr",
     "output_type": "stream",
     "text": [
      "100%|██████████| 16/16 [00:46<00:00,  2.94s/it]\n"
     ]
    }
   ],
   "source": [
    "FOLDER = \"./data/Corpora_Falke/Wiki/test/103\"\n",
    "TEXTS = [x for x in os.listdir(FOLDER) if x.endswith(\".txt\")]\n",
    "TEXTS = [open(os.path.join(FOLDER, x)).read() for x in TEXTS]\n",
    "texts = list(txt_contents.values())\n",
    "CONCEPT_MAPS = get_concept_map(texts, cmap_content)"
   ]
  },
  {
   "cell_type": "code",
   "execution_count": 66,
   "metadata": {},
   "outputs": [
    {
     "name": "stdout",
     "output_type": "stream",
     "text": [
      "['Concept Map:\\nacra - built by - antiochus epiphanes\\nacra - destroyed by - bce\\nacra - was used to oversee the temple and maintain control over - jerusalem\\nacra - was built to consolidate - seleucid empire\\nacra - was built specifically to control access to - temple mount\\nantiochus epiphanes - is ruler of - seleucid empire\\ncity of david - is the lowest area of - jerusalem\\nisrael antiquities authority - concentrating in the area of the herodian street west of - temple mount\\ntemple mount - sits - jerusalem\\nyoram tsafrir - has interpreted a masonry joint in the southeastern corner of - temple mount', 'Concept Map:\\nacra - built by - antiochus epiphanes\\nacra - destroyed by - bce\\nacra - was used to oversee the temple and maintain control over - jerusalem\\nacra - was built to consolidate - seleucid empire\\nacra - was built specifically to control access to - temple mount\\nantiochus epiphanes - is ruler of - seleucid empire\\ncity of david - is the lowest area of - jerusalem\\nisrael antiquities authority - concentrating in the area of the herodian street west of - temple mount\\ntemple mount - sits - jerusalem\\nyoram tsafrir - has interpreted a masonry joint in the southeastern corner of - temple mount', 'Concept Map:\\nacra - built by - antiochus epiphanes\\nacra - destroyed by - bce\\nacra - was used to oversee the temple and maintain control over - jerusalem\\nacra - was built to consolidate - seleucid empire\\nacra - was built specifically to control access to - temple mount\\nantiochus epiphanes - is ruler of - seleucid empire\\ncity of david - is the lowest area of - jerusalem\\nisrael antiquities authority - concentrating in the area of the herodian street west of - temple mount\\ntemple mount - sits - jerusalem\\nyoram tsafrir - has interpreted a masonry joint in the southeastern corner of - temple mount', 'Concept Map:\\nacra - built by - antiochus epiphanes\\nacra - destroyed by - bce\\nacra - was used to oversee the temple and maintain control over - jerusalem\\nacra - was built to consolidate - seleucid empire\\nacra - was built specifically to control access to - temple mount\\nantiochus epiphanes - is ruler of - seleucid empire\\ncity of david - is the lowest area of - jerusalem\\nisrael antiquities authority - concentrating in the area of the herodian street west of - temple mount\\ntemple mount - sits - jerusalem\\nyoram tsafrir - has interpreted a masonry joint in the southeastern corner of - temple mount', 'Concept Map:\\nacra - built by - antiochus epiphanes\\nacra - destroyed by - bce\\nacra - was used to oversee the temple and maintain control over - jerusalem\\nacra - was built to consolidate - seleucid empire\\nacra - was built specifically to control access to - temple mount\\nantiochus epiphanes - is ruler of - seleucid empire\\ncity of david - is the lowest area of - jerusalem\\nisrael antiquities authority - concentrating in the area of the herodian street west of - temple mount\\ntemple mount - sits - jerusalem\\nyoram tsafrir - has interpreted a masonry joint in the southeastern corner of - temple mount', 'Concept Map:\\nacra - built by - antiochus epiphanes\\nacra - destroyed by - bce\\nacra - was used to oversee the temple and maintain control over - jerusalem\\nacra - was built to consolidate - seleucid empire\\nacra - was built specifically to control access to - temple mount\\nantiochus epiphanes - is ruler of - seleucid empire\\ncity of david - is the lowest area of - jerusalem\\nisrael antiquities authority - concentrating in the area of the herodian street west of - temple mount\\ntemple mount - sits - jerusalem\\nyoram tsafrir - has interpreted a masonry joint in the southeastern corner of - temple mount', 'Concept Map:\\nacra - built by - antiochus epiphanes\\nacra - destroyed by - bce\\nacra - was used to oversee the temple and maintain control over - jerusalem\\nacra - was built to consolidate - seleucid empire\\nacra - was built specifically to control access to - temple mount\\nantiochus epiphanes - is ruler of - seleucid empire\\ncity of david - is the lowest area of - jerusalem\\nisrael antiquities authority - concentrating in the area of the herodian street west of - temple mount\\ntemple mount - sits - jerusalem\\nyoram tsafrir - has interpreted a masonry joint in the southeastern corner of - temple mount', 'Concept Map:\\nacra - built by - antiochus epiphanes\\nacra - destroyed by - bce\\nacra - was used to oversee the temple and maintain control over - jerusalem\\nacra - was built to consolidate - seleucid empire\\nacra - was built specifically to control access to - temple mount\\nantiochus epiphanes - is ruler of - seleucid empire\\ncity of david - is the lowest area of - jerusalem\\nisrael antiquities authority - concentrating in the area of the herodian street west of - temple mount\\ntemple mount - sits - jerusalem\\nyoram tsafrir - has interpreted a masonry joint in the southeastern corner of - temple mount', 'Concept Map:\\ncity of david - is the lowest area of - jerusalem\\nacra - built by - antiochus epiphanes\\nacra - destroyed by - bce\\nacra - was used to oversee the temple and maintain control over - jerusalem\\nacra - was built to consolidate - seleucid empire\\nacra - was built specifically to control access to - temple mount\\nantiochus epiphanes - is ruler of - seleucid empire\\nisrael antiquities authority - concentrating in the area of the herodian street west of - temple mount\\ntemple mount - sits - jerusalem\\nyoram tsafrir - has interpreted a masonry joint in the southeastern corner of - temple mount', 'Concept Map:\\nacra - built by - antiochus epiphanes\\nacra - destroyed by - bce\\nacra - was used to oversee the temple and maintain control over - jerusalem\\nacra - was built to consolidate - seleucid empire\\nacra - was built specifically to control access to - temple mount\\nantiochus epiphanes - is ruler of - seleucid empire\\ncity of david - is the lowest area of - jerusalem\\nisrael antiquities authority - concentrating in the area of the herodian street west of - temple mount\\ntemple mount - sits - jerusalem\\nyoram tsafrir - has interpreted a masonry joint in the southeastern corner of - temple mount', 'Concept Map:\\nacra - built by - antiochus epiphanes\\nacra - destroyed by - bce\\nacra - was used to oversee the temple and maintain control over - jerusalem\\nacra - was built to consolidate - seleucid empire\\nacra - was built specifically to control access to - temple mount\\nantiochus epiphanes - is ruler of - seleucid empire\\ncity of david - is the lowest area of - jerusalem\\nisrael antiquities authority - concentrating in the area of the herodian street west of - temple mount\\ntemple mount - sits - jerusalem\\nyoram tsafrir - has interpreted a masonry joint in the southeastern corner of - temple mount', 'Concept Map:\\nacra - built by - antiochus epiphanes\\nacra - destroyed by - bce\\nacra - was used to oversee the temple and maintain control over - jerusalem\\nacra - was built to consolidate - seleucid empire\\nacra - was built specifically to control access to - temple mount\\nantiochus epiphanes - is ruler of - seleucid empire\\ncity of david - is the lowest area of - jerusalem\\nisrael antiquities authority - concentrating in the area of the herodian street west of - temple mount\\ntemple mount - sits - jerusalem\\nyoram tsafrir - has interpreted a masonry joint in the southeastern corner of - temple mount', 'Concept Map:\\nacra - built by - antiochus epiphanes\\nacra - destroyed by - bce\\nacra - was used to oversee the temple and maintain control over - jerusalem\\nacra - was built to consolidate - seleucid empire\\nacra - was built specifically to control access to - temple mount\\nantiochus epiphanes - is ruler of - seleucid empire\\ncity of david - is the lowest area of - jerusalem\\nisrael antiquities authority - concentrating in the area of the herodian street west of - temple mount\\ntemple mount - sits - jerusalem\\nyoram tsafrir - has interpreted a masonry joint in the southeastern corner of - temple mount', 'Concept Map:\\nacra - built by - antiochus epiphanes\\nacra - destroyed by - bce\\nacra - was used to oversee the temple and maintain control over - jerusalem\\nacra - was built to consolidate - seleucid empire\\nacra - was built specifically to control access to - temple mount\\nantiochus epiphanes - is ruler of - seleucid empire\\ncity of david - is the lowest area of - jerusalem\\nisrael antiquities authority - concentrating in the area of the herodian street west of - temple mount\\ntemple mount - sits - jerusalem\\nyoram tsafrir - has interpreted a masonry joint in the southeastern corner of - temple mount', 'Concept Map:\\nacra - built by - antiochus epiphanes\\nacra - destroyed by - bce\\nacra - was used to oversee the temple and maintain control over - jerusalem\\nacra - was built to consolidate - seleucid empire\\nacra - was built specifically to control access to - temple mount\\nantiochus epiphanes - is ruler of - seleucid empire\\ncity of david - is the lowest area of - jerusalem\\nisrael antiquities authority - concentrating in the area of the herodian street west of - temple mount\\ntemple mount - sits - jerusalem\\nyoram tsafrir - has interpreted a masonry joint in the southeastern corner of - temple mount', 'Concept Map:\\nacra - built by - antiochus epiphanes\\nacra - destroyed by - bce\\nacra - was used to oversee the temple and maintain control over - jerusalem\\nacra - was built to consolidate - seleucid empire\\nacra - was built specifically to control access to - temple mount\\nantiochus epiphanes - is ruler of - seleucid empire\\ncity of david - is the lowest area of - jerusalem\\nisrael antiquities authority - concentrating in the area of the herodian street west of - temple mount\\ntemple mount - sits - jerusalem\\nyoram tsafrir - has interpreted a masonry joint in the southeastern corner of - temple mount']\n"
     ]
    }
   ],
   "source": [
    "print(CONCEPT_MAPS)"
   ]
  },
  {
   "cell_type": "code",
   "execution_count": null,
   "metadata": {},
   "outputs": [],
   "source": []
  }
 ],
 "metadata": {
  "kernelspec": {
   "display_name": "Python 3 (ipykernel)",
   "language": "python",
   "name": "python3"
  },
  "language_info": {
   "codemirror_mode": {
    "name": "ipython",
    "version": 3
   },
   "file_extension": ".py",
   "mimetype": "text/x-python",
   "name": "python",
   "nbconvert_exporter": "python",
   "pygments_lexer": "ipython3",
   "version": "3.9.6"
  }
 },
 "nbformat": 4,
 "nbformat_minor": 4
}