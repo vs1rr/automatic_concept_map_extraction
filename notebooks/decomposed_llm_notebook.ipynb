{
 "cells": [
  {
   "cell_type": "markdown",
   "metadata": {},
   "source": [
    "## Concept Map Extraction - Chain-of-thought Prompting"
   ]
  },
  {
   "cell_type": "code",
   "execution_count": 1,
   "metadata": {},
   "outputs": [],
   "source": [
    "import os\n",
    "from openai import OpenAI\n",
    "from io import StringIO\n",
    "import pandas as pd\n",
    "from tqdm import tqdm\n",
    "from src.baselines.cot_baseline import run_gpt, DecomposedLLMBaseline\n",
    "from src.settings import API_KEY_GPT"
   ]
  },
  {
   "cell_type": "code",
   "execution_count": 2,
   "metadata": {},
   "outputs": [],
   "source": [
    "MODEL = \"gpt-3.5-turbo-0125\"\n",
    "DLLM = DecomposedLLMBaseline(model=MODEL)"
   ]
  },
  {
   "cell_type": "code",
   "execution_count": 3,
   "metadata": {},
   "outputs": [
    {
     "data": {
      "text/plain": [
       "['A fascinating, recent discovery appears to have solved one of Jerusalem’s biggest historical mysteries: the location of the Acra, the fortified compound in Jerusalem built by Antiochus Epiphanes, ruler of the Hellenistic Seleucid Empire, following his sack of the city in 168 BCE.\\nThe renowned fortress was used to control the Jewish city and to monitor the activities in the temple.\\nThe Akra was eventually conquered by the Hasmoneans.',\n",
       " '(CNN)Archaeologists believe they have found the remains of the ancient Greek fort of Acra, solving \"one of Jerusalem\\'s greatest archaeological mysteries.\\n\" The stronghold ruins were unearthed from beneath a parking lot in Jerusalem, Israel\\'s Antiquities Authority said.\\nAcra dates back more than 2,000 years, to the time of Greek ruler Antiochus IV Epiphanes.\\nExcavation directors Doron Ben-Ami, Yana Tchekhanovets and Salome Cohen called it a \"sensational discovery.\\n\" \"The new archaeological finds indicate the establishment of a well-fortified stronghold that was constructed on the high bedrock cliff overlooking the steep slopes of the City of David hill,\" a statement from the team said.\\n\"The newly-discovered fort controls all means of approach to the temple atop the Temple Mount,\" it added.\\nAcra, which was occupied by mercenaries and Hellenized Jews, was built to consolidate the Seleucid Empire\\'s control over the city.\\nIt also played a pivotal role in following years during the Maccabean revolt against Greek rulers.\\nThe stronghold was recaptured by the Jews in 141 BCE and was believed to have been razed some years later.\\nA more than century-long mystery The mystery of Acra had stumped experts for well over a century.\\nBoth the Book of Maccabees and the historian Josephus Flavius locate the fort within the City of David. Excavations at the parking lot site, which are open to the public, have been ongoing for a decade, Israel\\'s Ministry of Foreign Affairs said.\\nArtifacts retrieved from the site include lead sling shots, bronze arrowheads and ballista stones stamped with a trident, a symbol of Antiochus IV Epiphanes.\\nOther items like amphorae -- wine jars -- which were imported from the Aegean region, also point to non-Jewish inhabitants.',\n",
       " 'Researchers with the Israel Antiquities Authority believe they have found the remains of the stronghold - the Acra - which the Greeks used to control the Temple more than 2,000 years ago - and evidence of the Hasmonean attempts to conquer the stronghold.\\nRemains of the citadel and tower uncovered in Jerusalem A fascinating discovery recently uncovered in archaeological excavations the Israel Antiquities Authority is conducting in the Givati ?? parking lot at the City of David, in the Jerusalem Walls National Park, has apparently led to solving one of Jerusalem\\'s greatest archaeological mysteries: the question of the location of the Greek (Seleucid)\\nAcra - the famous stronghold built by Antiochus IV in order to control Jerusalem and monitor activity in the Temple which was eventually liberated by the Hasmoneans from Greek rule.\\nThe parking lot excavations in the City of David National Park have been ongoing for a decade.\\nThe Elad Foundation, which operates the national park, is funding the extensive excavations.\\nThe Givati excavation continues to uncover numerous artifacts from more than ten different ancient cultures from Jerusalem\\'s history.\\nthe Givati excavation is open daily to the general public.\\nOver the past 100 years of archaeological research in Jerusalem numerous theories have been put forth identifying the location of the Acra, The uncertainty stemmed from the paucity of architectural remains that can be traced to the Greek presence in Jerusalem.\\nBoth the Book of Maccabees, as well as the historian Josephus Flavius, locate the Acra within the City of David.\\n\"And they built the city of David with a great and strong wall, and with strong towers, and made it a fortress\\n[Greek:\\nAcra] for them: And they placed there a sinful nation, wicked men, and they fortified themselves therein.\\n\" (1 Maccabees 1:35 - 38)\"....and when he had overthrown the city walls, he built a citadel\\n[Greek:\\nAcra] in the lower part of the city, for the place was high, and overlooked the temple; on which account he fortified it with high walls and towers, and put into it a garrison of Macedonians.\\n\" (Flavius Josephus, Antiquities of the Jews 12:252-253)In recent months, excavators believe that they have exposed evidence of the Acra citadel on the City of David hill: a section of a massive wall, a base of a tower of impressive dimensions (width c. 4 m, length c. 20 m) and a glacis.\\nThe glacis, which was built next to the wall, is a defensive sloping embankment composed of layers of soil, stone and plaster, designed to keep attackers away from the base of the wall.\\nThis embankment extended as far down as the bottom of the Tyropoeon - the valley that bisected the city in antiquity and constituted an additional obstacle in the citadel\\'s defenses.\\nLead sling shots, bronze arrowheads and ballista stones that were discovered at the site and stamped with a trident, which symbolized the reign of Antiochus Epiphanes, are the silent remains of battles that were waged there at the time of the Hasmoneans, in their attempt to conquer the citadel which was viewed as a ‘thorn in the flesh\\' of the city.\\nHistorical sources state the stronghold was occupied by mercenaries and Hellenized Jews and tell of the suffering Jerusalem\\'s residents were exposed to at the hands of the Acra\\'s inhabitants.\\nThe fortification\\'s mighty defenses withstood all attempts at conquering it, and it was only in 141 BCE, after a prolonged siege and the starvation of the Greek garrison within the Acra that Simon Maccabee was able to force its surrender.\\nAccording to archaeologists, Dr. Doron Ben-Ami, Yana Tchekhanovets and Salome Cohen, excavation directors on behalf of the Israel Antiquities Authority, \"This sensational discovery allows us for the first time to reconstruct the layout of the settlement in the city, on the eve of the Maccabean uprising in 167 BCE.\\nThe new archaeological finds indicate the establishment of a well-fortified stronghold that was constructed on the high bedrock cliff overlooking the steep slopes of the City of David hill.\\nThis stronghold controlled all means of approach to the Temple atop the Temple Mount, and cut the Temple off from the southern parts of the city.\\nThe numerous coins ranging in date from the reign of Antiochus IV to that of Antiochus VII and the large number of wine jars (amphorae) that were imported from the Aegean region to Jerusalem, which were discovered at the site, provide evidence of the citadel\\'s chronology, as well as the non-Jewish identity of its inhabitants.\"',\n",
       " 'Archaeologists in Jerusalem may have just solved one of the city\\'s greatest geographical mysteries.\\nExcavators recently unearthed what they think are the ruins of the Acra, a fortress constructed more than 2,000 years ago by the Greek ruler Antiochus IV Epiphanes (215-164 B.C.).\\nAt one time mercenary soldiers and Hellenized Jews controlled the ancient fortress, enforcing a brutal rule over Jerusalem\\'s residents.\\nThe Acra\\'s existence is recorded in historical documents, but archaeologists and historians have debated its location.\\n[See Images of the Greek Citadel and Relics]The religious \"Book of Maccabees\" and a work by historian Flavius Josephus seemed to point to the City of David.\\nFlavius Josephus, in his \"Antiquities of the Jews\" 12:252–253, wrote, \"… and when he had overthrown the city walls, he built a citadel\\n[Greek:\\nAcra] in the lower part of the city, for the place was high and overlooked the temple, on which account he fortified it with high walls and towers, and put into it a garrison of Macedonians.\\n\" Even so, experts argued that Flavius\\' interpretation of the City of David may not be the modern City of David, which is considered the Eastern hill in Jerusalem where the Temple Mount sits.\\n(Jerusalem\\'s Western hill is the larger of the city\\'s two main hills.)\\nAnd until now, archaeologists and historians had remained unsure about where in the ancient city they might unearth the massive citadel.\\nIn recent months, excavators working at the City of David archaeological site in Jerusalem Walls National Park uncovered a huge section of wall, as well as a 65-foot-tall (20 meters) tower.\\nThey also excavated a sloping embankment at the base of the wall.\\nKnown as a glacis, the embankment was designed to keep attackers away from the base of the Acra.\\nRelics from ancient battles surrounded the unearthed ruins.\\nLead slingshots, bronze arrowheads and ballista stones — all stamped with a trident, the symbol of Antiochus Epiphanes\\' reign — were dug up next to the massive wall.\\nThese small artifacts tell the story of the animosity between ancient Jerusalem\\'s Jewish residents and the Greek-controlled citadel.\\nThe archaeologists involved in the excavation, including Doron Ben-Ami of the Israel Antiquities Authority (IAA), invited other archaeologists to visit the site and offer their comments.\\n\"We were very interested in their opinions, and once we had everything presented in front of all our colleagues and experts and we had many conversations,\" they felt confident in presenting their discovery to the public, Ben-Ami said.\\n\"I must admit that there was one historian that in 1989, Bezalel Bar Kochba, who, based on historical and linguistic and other documentation, suggested this location exactly where we found it today,\" he told Live Science.\\nThe Acra was built specifically to control access to the Temple Mount, a Jewish holy site, said Ben-Ami, Yana Tchekhanovets and Salome Cohen, excavation directors with the IAA.\\nThe stronghold controlled \"all means of approach to the temple atop the Temple Mount, and cut the temple off from the southern parts of the city,\" they said in a statement.\\nCoins found within the Acra\\'s unearthed wall show that the citadel remained intact from the reign of Antiochus IV Epiphanes until the reign of Antiochus VII (139-129 B.C.).\\nBut the mercenaries and the Hellenized Jews who resided in the Acra were defeated in 141 B.C., after a prolonged siege, which left the Greek garrison without access to food.\\nSimon Maccabeus, one of the brothers in the Hasmonean family who led the Maccabean revolt against the Greeks, spearheaded this celebrated siege.\\nThe discovery of the Acra is \"a dream come true\" for archaeologists, who have been speculating on the citadel\\'s location for 100 years, the IAA said.\\nNot only have they found the elusive fortress, but the discovery also reveals what Jerusalem was like before the Hasmoneans took over after the revolt.\\n\"Because we have located the Acra on the City of David, the implication is that the city was not larger than the City of David, and the Acra dominated the entire city, the entire Eastern hill,\" Ben-Ami said.\\nThe archaeologists will continue to excavate and investigate the ruins.\\nIn addition, because the site is so large, Ben-Ami said they can also dig to deeper layers in other areas of the site.\\nThat way the archaeologists can look even further back in time in the same area.',\n",
       " 'The Acra was the Seleucid stronghold built in 186 BC against the south wall of Solomon’s Temple Mount on the Ophel.\\nIt was used as a military post against the Jewish people who lived to the south and west, and to monitor Temple Mount activities between the years of 186-141 BC.\\nAt that time the Acra was torn down, andthe Temple Mount was extended to the south to cover it up in 141 BC.\\nTwo tunnels with staircases were added during this southern extension to increase access tothe Temple Mount surface.\\nThese tunnels would be extended and accessed by Herod’s Double and Triple Gates later.',\n",
       " 'The Acra fortress in Jerusalem was quite unique in that it was not intended to protect the city directly, but built as an oppressive fortress to solidify control over the Jews.\\nIn 168-7 BCE the Seleucid King Antiochus IV sacked the great city of Jerusalem.\\nThe city had revolted against Seleucid rule and Antiochus crushed the rebellion and executed thousands.\\nFurthermore, Antiochus forbid Jewish worship and forced the worship of Zeus and the Greek gods. To enforce his new laws and keep order the great fortress of Acra was built to house the Seleucid garrison tasked with keeping order and enforcing the oppressive laws.\\nThe size of the fortress is relatively unknown, but it must have been quite large and exceedingly tall.\\nRecent excavations place Acra in the southeast section of early Jerusalem known as the City of David which is the lowest area of Jerusalem.\\nSome sources say it was tall enough to see all of Jerusalem though this point is debatable.\\nDuring the period of its construction, there were many Hellenistic Jews who were allied or loyal to the Seleucid rule and the Acra fortress seems to have included a fortified neighborhood around it for the Hellenized Jews to live.\\nEvidence of this is found in extensive graveyards that are much more characteristic of Hellenistic burials than Jewish practices.\\nThe fortress seems to be mostly built inward to control the city, though must have been close to or a part of the outer walls as it was said to exert control of the city and the surrounding countryside and later efforts to cut off supply to the fortress proved difficult.\\nAfter the fortress was built and Antiochus left to rule his empire, the Jews would revolt, primarily due to the oppressive religious limitations.\\nThis would become known as the Maccabean Revolt and lasted until 160.\\nSeveral times the Jews attempted to take the fortress and had it under almost constant siege, but the fortress still stood unbroken in the heart of the old city.\\nOver the course of the next few decades Seleucid and Jewish power fluctuated often, but the Acra fortress remained despite occasional attempts to besiege it.\\nFinally around 141 BCE Simon Maccabeus besieged the city and managed to capture it.\\nSometime after its capture the Acra was destroyed or dismantled and lost to history until it was very recently excavated.\\nThe excavation known as the Givati Parking lot Dig has been in progress for years.\\nSome of the finds include a horde of coins ranging from the reign of Antiochus IV all the way to the Byzantine period as well as a figure of the god Cupid.\\nRecent excavations have uncovered strong evidence for the location of the Seleucid Acra.\\nBallista stones have been found stamped with a trident symbol specific to the reign of Antiochus IV.\\nThe discovery firmly places the fortress in the lower City of David region.\\nThis would have been a key location to keep tabs on a majority of the population where rebellion might develop.\\nThe fortress would have had a good command of two valleys which bordered the walls of the lower city.\\nThanks to the diligent work of Doron Ben-Ami and Yana Tchekhanovets, a 2,200 year old mystery has been uncovered, despite its location in one of the busiest urban areas of Israel.\\nThe exact location of the Acra has been debated constantly and it is nice to have some concrete proof and from there hopefully some more details can be discovered,\\nspecifically the specific battles fought against the fortress and how it was actually captured.',\n",
       " 'Antiochus IV Epiphanes, ( Greek: “God Manifest”) also called Antiochus Epimanes (the Mad) (born c. 215 bc—died 164, Tabae, Iran), Seleucid king of the Hellenistic Syrian kingdom who reigned from 175 to 164 bc.\\nAs a ruler he was best known for his encouragement of Greek culture and institutions.\\nHis attempts to suppress Judaism brought on the Wars of the Maccabees.\\nEarly career Antiochus was the third son of Antiochus III the Great.\\nAfter his father’s defeat by the Romans in 190–189, he served as hostage for his father in Rome from 189 to 175, where he learned to admire Roman institutions and policies.\\nHis brother, King Seleucus IV, exchanged him for Demetrius, the son of Seleucus; and after Seleucus was murdered by Heliodorus, a usurper, Antiochus in turn ousted him.\\nDuring this period of uncertainty in Syria, the guardians of Ptolemy VI, the Egyptian ruler, laid claim to Coele Syria, Palestine, and Phoenicia, which Antiochus III had conquered.\\nBoth the Syrian and Egyptian parties appealed to Rome for help, but the Senate refused to take sides.\\nIn 173 Antiochus paid the remainder of the war indemnity that had been imposed by the Romans on Antiochus III at the Treaty of Apamea (188).\\nAntiochus forestalled an Egyptian expedition to Palestine by invading Egypt.\\nHe defeated the Egyptians between Pelusium and Mount Kasion, conquered Pelusium, and in 169 occupied Egypt with the exception of Alexandria, the capital.\\nPtolemy VI was Antiochus’ nephew—Antiochus’ sister, Cleopatra I, had married Ptolemy V—and Antiochus contented himself with ruling Egypt as Ptolemy’s guardian, giving Rome no excuse for intervention.\\nThe citizens of Alexandria, however, appealed to Ptolemy VIII, the brother of Ptolemy VI, and to his sister Cleopatra II to form a rival government.\\nDisturbances in Palestine forced Antiochus to return to Syria, but he safeguarded his access to Egypt with a strong garrison in Pelusium.\\nIn the winter of 169/168 Perseus of Macedonia in vain begged Antiochus to join forces with him against the danger that Rome presented to all of the Hellenistic monarchs.\\nIn Egypt, Ptolemy VI made common cause with his brother and sister and sent a renewed request to Rome for aid, and Antiochus prepared for battle.\\nThe fleet of Antiochus won a victory at Cyprus, whose governor surrendered the island to him.\\nAntiochus invaded Egypt again in 168, demanded that Cyprus and Pelusium be ceded to him, occupied Lower Egypt, and camped outside Alexandria.\\nThe cause of the Ptolemaeans seemed lost.\\nBut on June 22, 168, the Romans defeated Perseus and his Macedonians at Pydna, and there deprived Antiochus of the benefits of his victory.\\nIn Eleusis, a suburb of Alexandria, the Roman ambassador, Gaius Popillius Laenas, presented Antiochus with the ultimatum that he evacuate Egypt and Cyprus immediately.\\nAntiochus, taken by surprise, asked for time to consider.\\nPopillius, however, drew a circle in the earth around the king with his walking stick and demanded an unequivocal answer before Antiochus left the circle.\\nDismayed by this public humiliation, the king quickly agreed to comply.\\nRoman intervention had reestablished the status quo.\\nBy being allowed to retain southern Syria, to which Egypt had laid claim, Antiochus was able to preserve the territorial integrity of his realm.\\nEfforts to hellenize the kingdom Both economically and socially he made efforts to strengthen his kingdom—inhabited in the main by Orientals (non-Greeks of Asia Minor and Persia)—by founding and fostering Greek cities.\\nEven before he had begun his reign he had contributed to the building of the temple of Zeus in Athens and to the adornment of the theatre.\\nHe enlarged Antioch on the Orontes by adding a section to the city (named Epiphania after him).\\nThere he built an aqueduct, a council hall, a marketplace, and a temple to Jupiter Capitolinus.\\nBabylon, which revered him as Soter (Liberator, or Saviour) of Asia, was given a Greek colony that was granted freedom of the city.\\nAnother Epiphania was founded in Armenia.\\nEcbatana (in Persia) was also named Epiphania and became a Greek city.\\nMany of these cities were granted the right to coin their own municipal currency.\\nThe mint of Antioch on the Persian Gulf served the trade along the sea route between India and the district at the mouth of the great Mesopotamian rivers.\\nAntiochus’ hellenizing policies brought him into conflict with the prosperous Oriental temple organizations, and particularly with the Jews.\\nSince Antiochus III’s reign the Jews had enjoyed extensive autonomy under their high priest.\\nThey were divided into two parties, the orthodox Hasideans (Pious Ones) and a reform party that favoured Hellenism.\\nFor financial reasons Antiochus supported the reform party and, in return for a considerable sum, permitted the high priest, Jason, to build a gymnasium in Jerusalem and to introduce the Greek mode of educating young people.\\nIn 172, for an even bigger tribute, he appointed Menelaus in place of Jason.\\nIn 169, however, while Antiochus was campaigning in Egypt, Jason conquered Jerusalem—with the exception of the citadel—and murdered many adherents of his rival Menelaus. When Antiochus returned from Egypt in 167 he took Jerusalem by storm and enforced its Hellenization.\\nThe city forfeited its privileges and was permanently garrisoned by Syrian soldiers.\\nThe revolt of Judas Maccabeus The Greeks and those friendly toward them were united into the community of Antiochians; the worship of Yahweh and all of the Jewish rites were forbidden on pain of death.\\nIn the Temple an altar to Zeus Olympios was erected, and sacrifices were to be made at the feet of an idol in the image of the King.\\nAgainst that desecration Judas Maccabeus, leader of the anti-Greek Jews, led the aroused Hasideans in a guerrilla war and several times defeated the generals Antiochus had commissioned to deal with the uprising.\\nJudas refused a partial amnesty, conquered Judaea with the exception of the Acra in Jerusalem, and in December 164 was able to tear down the altar of Zeus and reconsecrate the Temple.\\nAntiochus apparently had underestimated the strength of the Hasidean movement, which was behind the success in maintaining an independent Judaean state for about a century.\\nThe fighting spirit of the Jews was all the more impressive because at the beginning of their rebellion in 166 Antiochus had just demonstrated his might to the world at Daphne, near Antioch, with a grand review of his army: 46,000 foot soldiers were on parade, among them a Macedonian phalanx of 20,000 men and 500 mercenaries equipped with Roman arms, followed by 8,500 horsemen and 306 armoured elephants.\\nAntiochus then mounted a campaign against the Parthians who were threatening the empire in the east, recovered the income from that area, forced Artaxias of Armenia—who had defected—to recognize his suzerainty, founded the city of Antioch on the Persian Gulf, set out on an expedition to the Arabian coast, and, at the end of 164, died of an illness at Tabae (or Gabae, probably present Isfahan) in Persis.\\nMany believers saw his death as a punishment for his attempt to loot the shrine of Nanaia in Elam (in modern Iran).',\n",
       " 'The area of the Temple mount has long been the focal point of geographical and historical studies.\\nEdward Robinson (1838)First to investigate the area was the American scholar E. Robinson, who for two and a half months roamed the country in the company of his missionary friend Ali Smith.\\nRobinson identified some of the most important biblical sites, such as Mikhmash, Shiloh, Gibeon, Eshtamo\\'a and Zif. His impressions were published in 1841: Biblical Researches in Palestine.\\nIn 1852 Robinson and Smith returned yet again to the Holy Land and the results of these investigations were published in 1856 in Later Biblical Researches.\\nRobinson had succeeded in identifying over one hundred biblical sites.\\nIn Jerusalem, it was he who was the first to notice the remains of the Third Wall; the first to suggest that Hezekiah\\'s Tunnel was cut simultaneously from two ends (sixty years prior to the finding of the Siloam Inscription!) ; and the first to identify the remains of an arch, later named after him \\'Robinson\\'s Arch\\'.\\nThis arch projects westerly near the southwestern corner of the Temple Mount, suggesting that it was part of a bridge that connected between the Upper City and the Temple Mount (this arch was later named after him \\'Robinson\\'s Arch\\').\\nCharles W. Wilson (1865)In 1864 Wilson joined the Ordnance Survey of Jerusalem, and then participated in the surveying project of Jerusalem, initiated to improve the water system of the city.\\nIn the frame of this survey Wilson drafted several topographical maps of the city and its close environs, maps still in use today.\\nWilson also documented important buildings in the Temple Mount area, the most renown being a series of arches and vaults that originally carried a bridge that stretched from the western wall of the Temple Mount to the Upper City.\\nThe first arch projecting from the western wall is indeed named after him \\'Wilson\\'s Arch\\'.\\nLater, the Palestine Exploration Fund (PEF) commissioned Wilson to conduct a thorough survey of Western Palestine.\\nCharles Warren (1867)General Sir Charles Warren conducted the first thorough survey of the Temple Mount and its environs in the years 1867-1870.\\nSince the Ottoman government prohibited excavations in the sacred area and around its walls, Warren\\'s team devised with an idea of excavating a series of deep piers some distance from the walls.\\nAt the bottom of these pits they dug horizontal tunnels lined with wooden beams approaching the enclosure\\'s walls.\\nHere were encountered heaps of huge blocks originating from the collapse of the Temple Mount, as well as remarkable sewage tunnels and the foundation courses of the Herodian Temple Mount walls.\\nThe finds uncovered by Warren\\'s team were meticulously recorded.\\nOne of the piers excavated by Warren can still be observed in the northern part of the excavation area, some seventy meters north of Robinson\\'s Arch.\\nThis pier reaches the foundation courses of the western wall of the Temple Mount and a very substantial water channel, its bottom rock-cut and its upper part built as a vault.\\nThis water channel is 5 m deep below the Herodian street level.\\nIn another pier, excavated some 12.5 m west of the staircase of Robinson\\'s Arch and 8 m beneath surface level, Warren discovered the pier, which had supported Robinson\\'s arch.\\nAdjacent to the pier was a Herodian flagstone pavement; a water conduit ran beneath it.\\nNear the southeastern corner of the Temple Mount Warren had uncovered a fairly well-preserved wall segment, the eastern Ophel Wall, which was preserved fairly well.\\nIts foundation course of fieldstones, 6 m high, carried a solid wall built of large ashlars.\\nThis wall, defended by massive towers, was probably the southeastern part of empress Eudocia\\'s Wall (fifth century CE), which served through the Islamic period.\\nA drawing of this wall segment was published by Warren in the Survey of Western Palestine, Jerusalem, Album, Pl. XIX.\\nKathleen M. Kenyon (1961-1967)In 1965 Kenyon cut a section (j) in order to investigate the western face of the Ottoman wall, at the point that it turns northward to the Temple Mount, opposite the Double (Hulda) Gate.\\nShe cut another section (SI) on the eastern side of the southeastern corner of the Temple Mount.\\nHere she uncovered Byzantine dwellings built atop a rock cutting (5 m high) that continued the line of the eastern wall; these she dated to the late Roman period.\\nAt a distance of 10 m to the south of the Al-Aqsa mosque Kenyon unearthed wall tops of a massive building dating to the Byzantine period.\\nThree years later Mazar identified these remains as Building II of the Umayyad period.\\nBenjamin Mazar (1968-1978)In 1968, about a year after the Six-Day-War and some one hundred years after the first excavations had taken place under the PEF, an Israeli team set out to excavate the area south and southwest of the Temple Mount.\\nThese excavations were conducted on behalf of the Hebrew University, Jerusalem, and the Israel Exploration Society.\\nB. Mazar was head of the expedition, with M. Ben Dov as assistant.\\nWork began near Robinson\\'s Arch and expanded to a much larger area extending from the southwestern corner of the Temple Mount to the Bab al-Maghariba gate in the north and the Old City wall and the Ophel Wall in the south.\\nThis large-scale excavation exposed remains dating from the First Temple period to the middle ages.\\nRemains of First-Temple-period date were uncovered near the Ophel Wall, including ashlar-built public buildings (later identified by E. Mazar as a monumental gate), a water cistern near the Triple (Hulda) Gate, rock-cut spaces identified as tombs, west of Robinson\\'s Arch, and a fragment of a monumental inscription in paleo-Hebrew; the deciphering of the inscription is uncertain, but it seems to relate to water.\\nFrom the Hellenistic period was found a huge bedrock surface, identified as the location of the Acra, south of the southern wall.\\nNear the Temple Mount enclosure were several ritual baths (miqva\\'ot) that had been damaged by later construction.\\nThe remains of the Second Temple period are the most significant finds unearthed in the excavations in this area.\\nThese include staircases located south of the Temple Mount, leading to the Double (Hulda) Gate, and a series of stone-cut channels connected with the Temple Mount.\\nThe pier that supported Robinson\\'s Arch was found near pavement slabs, the arch and parts of the Herodian street at its foot.\\nThe street was covered by a huge collapse of stones, some of which were decorated, one bearing the inscription \"to the trumpeting place to…\".\\nRitual baths (miqva\\'ot) and cisterns were uncovered throughout the area.\\nThe major finds of the Roman period were excavated west of Robinson\\'s Arch.\\nThese include a bathhouse, dwellings and many objects indicating a significant Roman presence, possibly of the Tenth Roman Legion.\\nA Byzantine residential quarter was also unearthed in this area.\\nThe houses were well preserved, sometimes two stories high.\\nSome of the houses exhibit polychrome mosaics, architectural elements, Greek inscriptions and an abundance of finds.\\nSouth of the Temple Mount was uncovered another part of the Ophel Wall, stretching from the Old City wall to the southeastern corner of the Temple Mount.\\nOne of the stones of the western wall, below Robinson\\'s Arch, was inscribed with a biblical text quoting Jeremiah.\\nFurther Hebrew inscriptions from the Byzantine period are inscribed on the southern wall of the Temple Mount.\\nThe excavation revealed important data on the history of Early Islamic Jerusalem.\\nFour edifices, about 90 x 90 m each, were unearthed and dated to the Umayyad period (7th-8th centuries CE).\\nThese buildings are probably part of an official facility erected by the caliph Al-Walid, and shedding new light on the status of Jerusalem during the Islamic period.\\nOther important Islamic finds date to the Fatimid period (10th-11th centuries CE): these include the remains of a city wall built atop the Byzantine Ophel Wall and a hoard of gold and silver jewelry concealed in a copper jug.\\nThe foundations of a massive medieval tower, blocking the greater part of the Double (Hulda) Gate, were exposed adjacent to the Al-Aqsa Mosque.\\nAt the foot of Robinson\\'s Arch were a number of graves with gravestones engraved with Arabic inscriptions.\\nMeir Ben Dov (1975)During the 1970s and in early in the 1980s, M. Ben Dov conducted wide-scale excavations along the southern wall of the Old City, from the Dung Gate to Zion Gate (the area of the Bet Shalom archaeological park).\\nA Second-Temple-period dwelling quarter, with a large number of ritual baths (miqva\\'ot), was uncovered, as well as a Byzantine residential area on the slope above the Eastern Cardo, south of the Nea Church.\\nOne of the most important finds in this area is the outer wall of the southeastern apse of the Nea Church; near it to the west were the remains of a large edifice, probably a monastery.\\nAdjacent to the Old City wall was a tower (the Sulfur Tower), which formed part of the medieval fortifications of the city, and continued in use during the Ottoman period.\\nAlso, there were segments of the Lower Aqueduct that led water from the Hebron Hills to the Temple Mount, which date from the Second Temple to the Ottoman period.\\nWest of the Dung Gate, on both sides of the Old City wall, were the remains of a stone pavement belonging to the Eastern Cardo of the Byzantine period.\\nOn the outer side of the Old City wall pedestals were recovered, evidently in situ, with large columns lying nearby.\\nThese columns originally supported a roof that ran along the street.\\nWest of the street were rock-cut spaces that had served as stores.\\nA medieval gatehouse was uncovered at the point where the Old City wall overruns the Eastern Cardo.\\nEilat Mazar (1986-1987)In the 1980s E. Mazar conducted an excavation in the area between the Ophel on the north and the spur of the City of David on the south.\\nThis area is adjacent to the Ophel Wall, north of the massive tower uncovered by Warren, at the end of the path leading from the Gihon spring to the Temple Mount.\\nA gate and a public building of the First Temple period were unearthed.\\nThe gate is of the four-compartment-type, and the building consists of rectangular rooms separated by narrow corridors.\\nThe building might have served as a storeroom as indicated by the vast amount of storage vessels.\\nThe Israel Antiquities Authority (1994-2000)Excavations, commenced in 1994, were headed by Ronny Reich with the collaboration of Ya\\'aqov Billig, concentrating in the area of the Herodian street west of the Temple Mount.\\nMore than 70 m of the street were exposed, along with the stores that flanked it.\\nDuring clearance of the stone collapse beneath Robinson\\'s Arch, dozens of architectural elements came to light.\\nThese were parts of the original arch: stairs, stairwells and carved blocks.\\nThe uncovering of the Herodian street included the dismantling of the eastern wall of the Umayyad building (No. IV); among its building blocks were a number of reused theatre seats.\\nThe excavation also exposed parts of the Eastern Cardo, while reopening the blocked Ayyubid Gate.\\nBetween the years 1997 and 2000 Yuval Baruch joined Ronny Reich in excavating the area near the Triple (Hulda) Gate and the subterranean spaces of the Umayyad building (No. III), where the Davidson Center was to be constructed.\\nThe excavations near the Triple Gate yielded an abundance of architectural elements, which were reused in later structures.\\nThese were originally part of the Royal Stoa built by Herod along the southern wall of the Temple Mount.\\nEast of the gate, the exposure of the rock-cut and built piers was completed.\\nThese supported the stepped street that ran along the southern wall of the Temple Mount, from the southeastern corner to the Triple Gate.\\nNear the southeastern corner of the Temple Mount some probes were dug, in which remains dating to the First Temple period were found; also seven foundation courses of the Herodian enclosure, and many finds of Late Roman period.\\nThe excavations in Umayyad Building III uncovered six huge spaces full of earth with an abundance of finds.\\nThese spaces were originally intended as foundations, meant to level the slope.\\nIt was discovered that the Umayyad building extended west to the Eastern Cardo, and was connected to the street via a large gate.\\nFurther, that the southern wall of Umayyad Building II, unearthed by Kenyon, predates Umayyad Building III and might well be of Byzantine date.\\nAnother excavation, conducted in the area of the bathhouse west of Robinson\\'s Arch, dated its final destruction to the Byzantine period.\\nIts walls were reused as foundations for Umayyad Building IV.',\n",
       " 'Where was the First Temple? The Book of Genesis (22:7 -14) tells us that the near-sacrifice of Isaac occurred on the Mountain of Yahweh in \"the land of Moriah\":And Isaac said, \"Here is the fire and the wood, but where is the lamb for a burnt offering?\" And Abraham said, \"God will provide [yireh] Himself with the lamb for burnt offering, my son.\\nThey come to the place.\\nAbraham builds the altar, arranges the wood, ties Isaac up, and places him on the altar.\\nHe takes the knife.\\nBut the angel of Yahweh called to him out of the sky, and said, \"Abraham, Abraham! \"\\nHe said, \"Here I am. \"\\nHe said, \"Don’t lay your hand on the boy, neither do anything to him.\\nFor now I know that you fear [??? = yireh] God, since you have not withheld your son, your only son, from me. \"\\nAbraham lifted up his eyes, and looked, and saw that behind him was a ram caught in the thicket by his horns.\\nAbraham went and took the ram, and offered him up for a burnt offering instead of his son.\\nAbraham called the name of that place Yahweh-yireh [\"will provide\"].\\nAs it is said to this day, \"On Yahweh’s mountain, yera\\'eh\\n[\"it will be provided\"].”\\nThe Samaritans identify Yahweh\\'s mountain with Gerizim, but the post-exilic writer of Chronicles (2 Chron. 3:1) puts it in Jerusalem.\\nWhether or not we can relate Mount Moriah to Jerusalem, there were additional reasons to build the temple here.\\nFor during the city\\'s first eight centuries, the Jerusalemites lived on this hill alone - albeit farther down, on the narrower spur to the south, near the spring.\\n(Details) Here, however, on the peak, was the outcropping of bedrock that today gives the Dome its name.\\nPerhaps it exerted a numinous power.\\nAdmittedly, though, the rock is nowhere mentioned in our sources until 333 AD, if then.\\nIt is possible that the pre-Israelite denizens of the city worshipped from this hill, facing west as the Israelites later would.\\nFor the name \"Jerusalem\" means not \"city of peace,\" as popular etymology has it, but a place \"founded by Salem,\" the Canaanite god of the setting sun.\\nKeel proposes that, under Egyptian influence, the pre-Davidic Jerusalemites had an open-air sanctuary to the sun-god here; he also holds that the easterly orientation of Solomon\\'s temple perpetuated this tradition.\\nIndeed, David must have established an accord with Jerusalem\\'s earlier inhabitants, the Jebusites, for he goes \"up\" and buys the threshing floor of Arauna the Jebusite, erecting a sacrificial altar there ( 2 Samuel 24: 24 - 25).\\nThe passage does not say where this threshing floor was, but the area of the rock is windy enough.\\nIf we accept the account in 1 Kings 6 and 7, Solomon\\'s palace was bigger than the temple.\\nThe palace was 100 cubits long, 50 wide, and 30 high, taking 13 years to build.\\nThe temple, by contrast, was 60 cubits long by 20 wide and 30 high, taking 7 years.\\n(A note on the height.)\\nThe arrangement of these buildings is not stated, although it is clear from 1 Kings 7: 21 that the temple faced east.\\nThere would not have been space for such large edifices in the City of David, which was below to the south.\\nBecause of the deep valleys, the only room for that original city\\'s expansion was to the north.\\nNo trace of palace or temple (or of anything, almost, from the First Temple period) has been found in the Ophel excavations, so we are left with the space beneath Herod\\'s temple platform.\\nThis is under the civil control of the Muslim Supreme Council (Waqf).\\nEven if the Waqf permitted digging, however, it is doubtful whether any structural remains from the early time would turn up.\\nThe area underwent radical rebuilding by Herod.\\nFurthermore, for centuries after the destruction of 70 AD - until the 7th-century Muslims cleaned it up and erected their sanctuaries - it was exploited as a source of building stones and as farmland.\\nBefore Solomon\\'s palace and temple were built, the hill would have afforded an ideal place from which to attack the city, as we can see in the contour lines that Charles Warren and Charles Wilson were able to establish:The building of the palace and temple near the peak may have been, in part, an act of fortification.\\nThe amply level area around today\\'s Dome of the Rock was partly defended against attack from the north by valleys entering from east and west.\\nYou can see them by enlarging the map on the right, (which is mainly devoted to the cisterns and water supply).\\nThe valleys fail to unite, but precisely in the stretch between them, Wilson and Warren, saw that \"the rock gives place to turf, and there are other indications which would lead us to believe that there was at one time a ditch cut in the solid rock.”\\nThe ditch would have helped to protect a pre-Herodian Temple.\\nStrabo mentions this ditch in his Geography XVI Par. 40, saying that Pompey filled it in order to conquer the temple in 63 BC.\\nHe tells us it was 60 feet deep and 250 feet wide.\\nJosephus also mentions Pompey\\'s filling of the ditch, saying that the Romans did the work on the Sabbaths, when the Jews refrained from fighting if not attacked.\\n(One wonders whether the same method might have been used by the Romans when they built the assault ramp at Masada in 73 AD.)\\nAnd here are broader views, the first showing more of the natural hill as it appears at a N-S line running through the Dome, the bottom one showing the depth of the valley at a N-S line running through the Haram\\'s eastern wall:As to what the ditch defended, an ancient square platform has been discerned in the Haram by Leen Ritmeyer.\\nIn order to link this platform with the First Temple, however, we must assume with Ritmeyer that those who built the Second, starting in 520 BC (66 years after the First was destroyed), would not have had the resources to erect the walls from scratch - rather they would have built upon what remained of the earlier walls.\\nAs said above, 1 Kings 7 indicates that the platform of the First Temple included a palace that was bigger than the temple.\\nIn his reconstruction (summarized below), Ritmeyer does not include the palace on the platform, apparently because he follows the account in the Mishna.\\nBut the Mishna purports to describe the Second Temple, not the First, and it was compiled around 200 AD, seven centuries after the palace had last been seen on the mountain.\\nIn short, if the following reconstruction pertains indeed to the First Temple period, then we should envision, on the platform, both palace and temple.\\nRitmeyer\\'s reconstruction of the ancient platform begins about 15 meters south of the excavated ditch, at the lowest step in the northwest staircase leading down from the present-day upper platform.\\n(To locate the staircase, consult the map below.)\\nIt was archaeologist Benjamin Mazar, Ritmeyer\\'s mentor, who first noticed something peculiar about this step: its stones are much larger than those in the steps above it.\\nOn one of them, in fact, a margin and a protruding boss were once partly visible (they are no longer so, because the adjacent pavement has been raised).\\nA colleague of Ritmeyer\\'s also pointed out that this lowest step (and hence its whole staircase) does not line up with the wall of the present-day platform as do the other staircases.\\nInstead, it is parallel to the Haram\\'s eastern wall.\\nHere is a photograph of the step in context, followed by a closer look at its ashlars:For a closer look at the stones in the lowest step, please enlarge the photo on the right.\\nAt a point near the northern edge of this step, the big stones cease and we find small ones as on the steps above.\\nRitmeyer noted that \"the northern end of the northernmost large stone of this step was exactly in line with the northern edge of the raised Muslim Platform. \"\\nIt is also in line with a cut scarp (observed by Charles Warren), on which the northern edge of the Muslim platform is built.\\nIf we continue this line to the east, we reach a point in the eastern wall a bit north of the Golden Gate.\\nThe distance from the stone in the lowest step to the eastern wall is 500 royal cubits (861 feet, such a cubit being 20.67 inches long).\\nThis is a remarkable finding, because in Ezekiel\\'s vision of the future temple, as well as in the Mishnah, the temple platform is presented as a square with 500 cubits per side.\\nBelow is Ezekiel 42:15-20. Where I have put \"cubits,\" the standard Hebrew version has the word for \"reeds\"; for this alteration, see Milgrom and Block, p. 101, n. 268.\\nNow when he had finished measuring the inner house, he brought me out by the way of the gate which faces toward the east, and measured it all around.\\nHe measured on the east side with the measuring reed five hundred cubits, with the measuring reed all around.\\nHe measured on the north side five hundred cubits with the measuring reed all around.\\nHe measured on the south side five hundred cubits with the measuring reed.\\nHe turned about to the west side, and measured five hundred cubits with the measuring reed.\\nHe measured it on the four sides.\\nIt had a wall around it, the length five hundred, and the width five hundred, to make a separation between that which was holy and that which was common.\\nThe 500-cubit line from the northwest staircase reaches the Haram\\'s eastern wall at the point where, in the wall\\'s lower parts, Warren saw the beginning of Herod\\'s northward extension (see the map below).\\nThe stones in the lower levels south of this point belong to the older wall of the platform.\\nHerod, be it noted, could not expand the platform eastward, because the slope of the Kidron Valley is too steep, so he used the older wall, extending it to the north and south.\\nIf we now follow this eastern wall to the south for 500 royal cubits, we come to a slight bend (not visible from a distance), which is 240 feet north of the southeast corner (again, see the map below).\\nSouth of this bend, in the lower parts, is masonry usually identified as Hasmonean, although Yoram Tsafrir suggests that it belonged to the wall of the Seleucid Acra. .\\nIn any case, it is evidence of expansion in the 2nd century BC, and it is followed by Herod\\'s extension, which stretches southward 106 feet to the present-day corner.\\nWe do not know whether the masonry changes north of the bend, because in the lower level, where the Seleucid or Hasmonean stones are, Warren did not penetrate far enough to the north, and the political situation has precluded further underground exploration.\\nNevertheless, Ritmeyer has managed to study two visible stones that are just above ground slightly north of the bend, and he dates them to the time of Hezekiah.\\nFrom the bend we go west, keeping parallel to the northern line and staying ever so slightly north of the E-shaped cistern (which Ritmeyer suggests belonged to the Acra).\\nAt 500 cubits we reach a point intersected by a 500-cubit-long line from our starting point (namely, from the lowest step of the northwest staircase).\\nThis point (see the map above) is situated where the eastward ascent to Herod\\'s platform from Barclay\\'s Gate made a 90 degree turn to the south.\\nRitmeyer proposes that Herod\\'s builders did not want to break through the Seleucid or Hasmonean wall (in green on the map) and so they built the turn.\\nIn this way we complete a square of 500 royal cubits on each side.\\nAs said above, that is exactly the number given in Ezekiel 42:15-20.\\nWas this vision inspired by the exiled prophet\\'s memory of the First Temple?\\nOr should we suppose, contra Ritmeyer, that the platform did not not belong to the First Temple at all, but rather that it was built by the returnees, starting in 520 BC, in deliberate accord with Ezekiel?\\nThis too is possible.\\nThe 500-cubit square is also present in the Mishnah.\\nIts authors were presumably describing the last temple (they do not say otherwise), whose Herodian sides were much longer than 500 cubits.\\nPerhaps they meant the part of Herod\\'s temple into which only Jews were permitted, and perhaps this coincided with the older 500-cubit square described above.\\nWe note at the bottom of the above map, in this connection, that the tunnels from the double and triple gates emerge into daylight precisely on the southern line of the 500-cubit platform.\\nPerhaps these gates were intended only for Jews who, having just taken the obligatory ritual bath, wanted to enter directly into the pure area.\\nGentiles could have entered the impure area by the western gates.\\nBut can we get any closer to the First Temple? Josephus (War V 5.1 ) indicates that Solomon\\'s temple was built on the top of the hill:Now this temple, as I have already said, was built upon a strong hill.\\nAt first the plain at the top was hardly sufficient for the holy house and the altar, for the ground about it was very uneven, and like a precipice; but when king Solomon, who was the person that built the temple, had built a wall to it on its east side, there was then added one cloister\\n[portico] founded on a bank cast up for it, and on the other parts the holy house stood naked.\\nBut in future ages the people added new banks, and the hill became a larger plain.\\nYet how did Josephus know where Solomon\\'s temple was? He doesn\\'t say.\\nHe may have been \"reading back\" from Herod\\'s, which he did know.\\nWe might attempt to justify this method as follows: Between the first temple, destroyed in 586 BC, and the second, commenced in 520, there were always Jerusalemites living here who could point to the site.\\nWhen the Jews began building the Second Temple, they would presumably have done so on the place of the First.\\nIn turn, that would have been the site of Herod\\'s grander version, which Josephus knew.\\nThere is a hitch in the logic, however.\\nIf 1 Kings 6 and 7 are accepted as historical, then the king\\'s palace overshadowed the temple.\\n(Note that Josephus does not locate Solomon\\'s palace on this hill.)\\nAfter the return from the Babylonian exile, Jerusalem had no king - hence no need for a palace.\\nOnly a temple was built.\\nThis major change might well have occasioned a corresponding change in the layout.\\nAs to the 500-cubit-square platform, supposing that it did belong to the First Temple, the question remains as to which king of Judah built it - and dug its defensive ditch.\\nIn his book The Quest, Ritmeyer nominates Hezekiah, allowing, however, that a definitive answer requires excavation.\\nThe Holy of Holies The Holy of Holies may have been where the Dome of the Rock is.\\nFrom 1 Kings 6:16, we know it was at the western extremity of Solomon\\'s temple.\\nAs the contour maps show (see above), you could not go more than a few yards west of the rock without sliding downhill.\\nLeen Ritmeyer has noticed a few tantalizing features of the rock.\\nThere are cuttings all over: perhaps the rock was quarried for building stones.\\nYet several cuttings may be ancient, and these arouse special interest.\\nLet us stand near the reliquary, on the western side looking east (use the picture below); between us and the hole in the rock (which Ritmeyer calls Crusader, ignoring the Bordeaux pilgrim of 333), we see sections that someone cut flat.\\nThe total width of these flat sections, north to south, is 10 feet, 4 inches: 6 royal Egyptian cubits.\\nRitmeyer thinks that these were foundation trenches for building stones.\\nAccording to the Mishnah, the walls of the Holy of Holies were 6 cubits thick.\\nStill using the picture above, let us try to imagine this wall.\\nNote that the \"foundation trenches\" do not continue all the way to the point where the western wall of the Holy of Holies would have been.\\nThere is an awkward upwelling of stone just east of the reliquary.\\nOn Ritmeyer\\'s theory, this area too should be flat.\\nApart from that, the theory works nicely -- and harbors another surprise.\\nHaving imagined this southern wall of the Holy of Holies, let us picture its western wall (starting about where the reliquary is) and its northern one, of equal length, as well as the curtain on the east.\\nThe result is the biblical square with 20 cubits on each side.\\nLooking at the rock from above, we find in the center a rectangular cut, perpendicular to the western scarp.\\nRitmeyer estimates it as 1.5 by 2.5 royal cubits.\\nThese are the dimensions of the Ark of the Covenant (Exodus 25:10 ).\\nRitmeyer\\'s theory is at once exciting and exasperating.\\nHe may have found the place of the ark.\\nThere remains the problem of the awkward lump, mentioned above.\\nAnd the rock has been so chipped away!\\nBeginning a few feet to the east of the putative \"cutting for the ark,\" we can see, as the rock slopes down, the traces of a series of cuttings with a similar form and axis.\\nAlong with the supposed \"foundation trenches,\" these traces leave the impression of quarrying.\\nSo does the sudden drop on its north side.\\nThe \"cutting for the ark\" may be the impression left by a quarried stone.\\nOr perhaps it was the cutting for the ark.\\nAt the time of the Second Temple (515 BC - 70 AD), no ark was present in the Holy of Holies.\\nFurthermore, if the Second Temple was built here, then according to the height-measurements in Josephus and the Mishna, it would have been beneath the floor (see David Jacobson.)\\nThis would indicate that the builders had no scruples about placing pavement over the rock, so perhaps it did not exert such numinous power as to determine the site of the temple, First or Second.\\nWe recall that the rock goes unmentioned in the sources before 333 AD.\\nWhy then should we believe that the temple or altar were ever built on it? More puzzles Consider the area of the Ophel by enlarging the picture on the right.\\nExtensive excavations were carried out on the Ophel for a decade after the 1967 War, yielding very little from the First Temple period, although much from Herod\\'s time and later.\\nNevertheless, a few First Temple vessels did turn up at the bottom of a cistern near the Second Temple\\'s southern retaining wall.\\nAnother exception was in the area near the modern road.\\nHere in 1976 archaeologists Benjamin Mazar and Meir Ben Dov found part of a public building, pictured here, containing vessels that had been charred in the destruction of 586 BC.\\nA decade later Mazar\\'s granddaughter, Eilat, continued the dig.\\nOn the basis of the pottery, she dated the floor to the end of the 8th century.\\nThis floor had been preceded by an earlier one.\\nThe fill beneath the latter yielded very little pottery, but between two foundation stones she found a black juglet, intact, that fits into the palm of a hand.\\nIts type was used in the 10th and 9th centuries BC.\\nIt may have been an heirloom, placed between the stones as a kind of votive offering.\\nOn this basis, she first dated the lower floor - and the original building - to the 9th or early 8th centuries.\\nThis does not bring us back as far as Solomon, but she has since revised her view, taking the juglet as evidence for a 10th century - Solomonic - date.\\nA few meters to the south and east, furthermore, are two towers discovered by Charles Warren in the 19th century.\\nBeneath the smaller of them, in 1967, Kathleen Kenyon found masonry consisting of large stones laid in a header-stretcher pattern, pictured here as \"2\":Eilat Mazar interprets this segment as part of the wall attributed to Solomon in 1 Kings 9: 15.\\nThe segment was not necessarily part of a tower, although the smaller tower later incorporated it.\\nThe larger may be the \"projecting tower\" referred to in Nehemiah 3: 24-27.\\nIf we grant a Solomonic date for some of the sections that the Mazars and Ben Dov uncovered, we still have the question as to why the rest of the Ophel is so scarce on remains from before the 8th century BC.\\nOne does not like an argument from silence, but given the amount of digging that has been done in the Ophel, the silence here is deafening.\\nStrategically, it would not have made sense to build the palace and temple above, where the Dome of the Rock is today, while leaving an empty space between the acropolis and the rest of the city.\\nAn enemy could easily take the waterless acropolis and use its buildings as fortresses while attacking the City of David.\\nIn favor of the biblical account, we may raise two observations.\\nFirst, yes, the silence is deafening, but in a mountain city like Jerusalem - to quote the adage - \"Absence of evidence is not evidence of absence.\\n\" The intensive building activity on the Ophel under Herod and later the Omayyads might well have shaved away any First Temple foundations and with them any chance of finding First Temple pottery in situ.\\n(Some was found in earth-fills between later walls, but this is not evidence, for it could have been carted in.)\\nSecond, the old fortress of Zion, south of the Ophel, apparently became irrelevant in the 10th century BC, so the city probably expanded northward then, as implied by the biblical account together with geographical logic.',\n",
       " 'The Hasmonean dynasty[2] was the ruling dynasty of Judea and surrounding regions during Classical antiquity.\\nBetween c.? 140 and c.? 116 BC, the dynasty ruled semi-autonomously from the Seleucids in the region of Judea.\\nFrom 110 BC, with the Seleucid empire disintegrating, the dynasty became fully independent, expanded into the neighbouring regions of Samaria, Galilee, Iturea, Perea, and Idumea, and took the title \"basileus\".\\nSome modern scholars refer to this period as an independent kingdom of Israel.\\n[3] In 63 BC, the kingdom was conquered by the Roman Republic, broken up and set up as a Roman client state.\\nThe Kingdom had survived for 103 years before yielding to the Herodian Dynasty in 37 BC.\\nEven then, Herod the Great tried to bolster the legitimacy of his reign by marrying a Hasmonean princess, Mariamne, and planning to drown the last male Hasmonean heir at his Jericho palace.\\nThe dynasty was established under the leadership of Simon Maccabaeus, two decades after his brother Judas the Maccabee ( ????? ?????\\n\"Y\\'hudhah Ha Makabi\") defeated the Seleucid army during the Maccabean Revolt.\\nAccording to historical sources, including 1 Maccabees and 2 Maccabees and the first book of The Jewish War by Jewish historian Flavius Josephus (AD 37–c.? 100),[4] after Antiochus IV\\'s successful invasion of Ptolemaic Egypt was turned back by the intervention of the Roman Republic,[5][6]\\nAntiochus instead moved to assert strict control over the Seleucid satrapy of Coele Syria and Phoenicia,[7] sacking Jerusalem and its Temple, suppressing Jewish and Samaritan religious and cultural observances,[7] and imposing Hellenistic practices.\\nThe ensuing revolt by the Jews (167 BC) began a twenty-five-year period of Jewish independence potentiated by the steady collapse of the Seleucid Empire under attacks from the rising powers of the Roman Republic and the Parthian Empire.\\nHowever, the same power vacuum that enabled the Jewish state to be recognized by the Roman Senate c.? 139 BC was later exploited by the Romans themselves.\\nHyrcanus II and Aristobulus II, Simon\\'s great-grandsons, became pawns in a proxy war between Julius Caesar and Pompey the Great.\\nThe deaths of Pompey (48 BC), Caesar (44 BC), and the related Roman civil wars temporarily relaxed Rome\\'s grip on Israel, allowing a very brief Hasmonean resurgence backed by the Parthian Empire.\\nThis short independence was rapidly crushed by the Romans under Mark Antony and Octavian.\\nThe installation of Herod the Great (an Idumean) as king in 37 BC made Israel a Roman client state and marked the end of the Hasmonean dynasty.\\nIn AD 6, Rome joined Judea proper, Samaria and Idumea (biblical Edom) into the Roman province of Iudaea.\\nIn AD 44, Rome installed the rule of a Roman procurator side by side with the rule of the Herodian kings (specifically Agrippa I 41–44 and Agrippa II 50–100).\\nEtymologyCoin of Antigonus, BC 40–37Coin of Alexander Jannaeus, BC 103–76The family name of the Hasmonean dynasty originates with the ancestor of the house, Greek: ? saµ?? a??? (Asamoneus or Asmoneus)\\n(see Josephus Flavius),[8] who is said to have been the great-grandfather of Mattathias, but about whom nothing more is known.\\nAn alternative view posits that the Hebrew name Hashmona\\'i is linked with the village of Heshbon, mentioned in Joshua 15:27.\\n[9] Gott and Licht attribute the name to \"Ha Simeon,\" a veiled reference to the Simeonite Tribe.\\n[10]BackgroundAt the beginning of the 2nd century BC, the Seleucid Empire (in yellow) expanded into Israel at the expense of Ptolemaic Egypt (blue).\\nThe lands of the former Kingdom of Israel and Kingdom of Judah (c.? 722–586 BC), had been occupied in turn by Assyria, Babylonia, the Achaemenid Empire, and Alexander the Great\\'s Hellenic Macedonian empire (c.? 330 BC), although Jewish religious practice and culture had persisted and even flourished during certain periods.\\nThe entire region was heavily contested between the successor states of Alexander\\'s empire, the Seleucid Empire and Ptolemaic Egypt, during the six Syrian Wars of the 3rd–1st centuries BC: \"After two centuries of peace under the Persians, the Hebrew state found itself once more caught in the middle of power struggles between two great empires: the Seleucid state with its capital in Syria to the north and the Ptolemaic state, with its capital in Egypt to the south...\\nBetween 319 and 302 BC, Jerusalem changed hands seven times.\"\\n[11]Under Antiochus III the Seleucids wrested control of Israel from the Ptolemies for the final time, defeating Ptolemy V Epiphanes at the Battle of Panium in 198 BC.\\nSeleucid rule over the Jewish parts of the region then resulted in the rise of Hellenistic cultural and religious practices: \"In addition to the turmoil of war, there arose in the Jewish nation pro-Seleucid and pro-Ptolemaic parties; and the schism exercised great influence upon the Judaism of the time.\\nIt was in Antioch that the Jews first made the acquaintance of Hellenism and of the more corrupt sides of Greek culture; and it was from Antioch that Judea henceforth was ruled.\\n\" [12]Historical sources Wojciech Stattler\\'s Machabeusze (Maccabees), 1844 The origin of the Hasmonean dynasty is recorded in the books 1 Maccabees and 2 Maccabees, covering the period from 175 to 134 BC during which time the Hasmonean dynasty became semi-independent from the Seleucid empire but had not yet expanded far outside of Judea.\\nThe books are considered part of the Biblical canon by the Catholic and Eastern Orthodox churches and apocryphal by most Protestant Christians, but are not a part of the Hebrew Bible.\\nThey are written from the point of view that the salvation of the Jewish people in a crisis came from God through the family of Mattathias, particularly his sons Judas Maccabeus, Jonathan Apphus, and Simon Thassi, and his grandson John Hyrcanus.\\nThe books include historical and religious material from the Septuagint that was codified by Catholics and Eastern Orthodox Christians.\\nThe other primary source for the Hasmonean dynasty is the first book of The Wars of the Jews by the Jewish historian Josephus, (37–shortly after AD 100).\\n[4] Josephus\\' account is the only primary source covering the history of the Hasmonean dynasty during the period of its expansion and independence between 110 to 63 BC.\\nNotably, Josephus, a Roman citizen and former general in the Galilee, who survived the Roman-Jewish wars of the 1st century, was a Jew who was captured by and cooperated with the Romans, writing his books in Rome, which has caused some to question his impartiality and credibility as a historian.\\n[13]The books of Maccabees use the names \"Judea\" and \"Israel\" (or cognates) as geographical descriptors throughout for both the land and people over whom the Hasmoneans would rule.\\nThe Talmud includes one of the Hasmonean kings under the description \"Kings of Israel\".\\nScholars refer to the state as the Hasmonean Kingdom to distinguish it from the previous kingdoms of Israel.\\nThe name \"Judaea\" has also been used to describe the Hasmonean Kingdom although this name reflects the later designation of the region under the Romans at the time of Josephus\\' writings in the late 1st century.\\nSeleucid rule over Israel HellenizationCoin with portrait of Antiochus IV.\\nReverse shows Apollo seated on an omphalos.\\nThe Greek inscription reads ?? S??? OS ???????? T??? ??? F???? S ???? F???? (King Antiochus, the divine Epiphanus, Bringer of Victory.\\nThe Hellenization of the Jews in the pre-Hasmonean period was not universally resisted.\\nGenerally, the Jews accepted foreign rule when they were only required to pay tribute, and otherwise allowed to govern themselves internally.\\nNevertheless, Jews were divided between those favoring Hellenization and those opposing it, and were divided over allegiance to the Ptolemies or Seleucids.\\nWhen the High Priest Simon II died in 175 BC, conflict broke out between supporters of his son Onias III (who opposed Hellenization and favored the Ptolemies) and his son Jason (who favored Hellenization and the Seleucids).\\nA period of political intrigue followed, with priests such as Menelaus bribing the king to win the High Priesthood, and accusations of murder of competing contenders for the title.\\nThe result was a brief civil war.\\nThe Tobiads, a philo-Hellenistic party, succeeded in placing Jason into the powerful position of High Priest.\\nHe established an arena for public games close by the Temple.\\n[14] Author Lee I. Levine notes, \"The \\'piece de resistance\\' of Judaean Hellenization, and the most dramatic of all these developments, occurred in 175 BC, when the high priest Jason converted Jerusalem into a Greek polis replete with gymnasium and ephebeion (2 Maccabees 4).\\nWhether this step represents the culmination of a 150-year process of Hellenization within Jerusalem in general, or whether it was only the initiative of a small coterie of Jerusalem priests with no wider ramifications, has been debated for decades.\"\\n[15] Some Jews are known to have engaged in non-surgical foreskin restoration in order to join the dominant cultural practice of socializing naked in the gymnasium, where their circumcision would have been a social stigma.\\n[16]Antiochus IV against Jerusalem The Hellenistic trends in Jewish society were, however, inadequate protection against Antiochus.\\nIn 168 BC, after successfully invading the Ptolemaic kingdom of Egypt (apparently without Jewish support), Antiochus IV was pressured by the Roman Republic to withdraw.\\nAccording to Livy, \"Popilius...placed in [Antiochus\\'] hand the tablets on which was written the decree of the senate [to withdraw]...[and] drew a circle round the king with the stick he was carrying and said, \\'Before you step out of that circle give me a reply to lay before the senate.\\'\\n\" [17] Returning toward Antioch, the troops of Antiochus sacked Jerusalem and removed the sacred objects from the Jerusalem Temple, slaughtering an unknown, but large, number of Jews: \"And after that Antiochus had smitten Egypt, he returned again in the hundred forty and third year, and went up against Israel and Jerusalem with a great multitude, And entered proudly into the sanctuary, and took away the golden altar, and the candlestick of light, and all the vessels thereof... And when he had taken all away, he went into his own land, having made a great massacre, and spoken very proudly.\\nTherefore there was a great mourning in Israel, in every place where they were.\\n\" (1 Maccabees 1:20–25)[18]He then imposed a tax and established a fortress in Jerusalem.\\nAntiochus tried to suppress public observance of Jewish laws, apparently in an attempt to secure control over the Jews.\\nHis government set up an idol of Zeus[19] on the Temple Mount, which Jews considered to be desecration of the Mount; it also forbade both circumcision and possession of Jewish scriptures, on pain of death.\\nAccording to Josephus, \"Now Antiochus was not satisfied either with his unexpected taking the city, or with its pillage, or with the great slaughter he had made there; but being overcome with his violent passions, and remembering what he had suffered during the siege, he compelled the Jews to dissolve the laws of their country, and to keep their infants uncircumcised, and to sacrifice swine\\'s flesh upon the altar.\\n\" [20]JUDAEA, Hasmoneans. John Hyrcanus I (Yehohanan). 135-104 BCE.\\nÆ Prutah (13mm, 2.02 gm, 12h).\\n\"Yehohanan the High Priest and the Council of the Jews\" (in Hebrew) in five lines within wreath / Double cornucopiae adorned with ribbons; pomegranate between horns; small A to lower left.\\nMeshorer Group B, 11; Hendin 457.\\nHe also outlawed observance of the Sabbath and the offering of sacrifices at the Jerusalem Temple and required Jewish leaders to sacrifice to idols; punitive executions were also instituted.\\nPossession of Jewish scriptures was made a capital offence.\\nThe motives of Antiochus are unclear.\\nHe may have been incensed at the overthrow of his appointee, Menelaus,[21]\\nhe may have been responding to a Jewish revolt that had drawn on the Temple and the Torah for its strength, or he may have been encouraged by a group of radical Hellenizers among the Jews.\\n[22]See also Antinomianism in the Books of the Maccabees. Maccabean Revolt Main article: Maccabean Revolt The author of the First Book of Maccabees regarded the Maccabean revolt as a rising of pious Jews against the Seleucid king who had tried to eradicate their religion and against the Jews who supported him.\\nThe author of the Second Book of Maccabees presented the conflict as a struggle between \"Judaism\" and \"Hellenism\", words that he was the first to use.\\n[22] Modern scholarship tends to the second view.\\nMost modern scholars argue that the king was intervening in a civil war between traditionalist Jews in the countryside and Hellenized Jews in Jerusalem.\\n\\nAccording to Joseph P. Schultz, modern scholarship \"considers the Maccabean revolt less as an uprising against foreign oppression than as a civil war between the orthodox and reformist parties in the Jewish camp.\"\\n[26] In the conflict over the office of High Priest, traditionalists with Hebrew/Aramaic names like Onias contested with Hellenizers with Greek names like Jason and Menelaus. [27] Other authors point to social and economic factors in the conflict.\\n[28][29] What began as a civil war took on the character of an invasion when the Hellenistic kingdom of Syria sided with the Hellenizing Jews against the traditionalists.\\n[30] As the conflict escalated, Antiochus prohibited the practices of the traditionalists, thereby, in a departure from usual Seleucid practice, banning the religion of an entire people.\\n[29] Other scholars argue that while the rising began as a religious rebellion, it was gradually transformed into a war of national liberation.\\n[31]The two most prominent 20th century scholars of the Maccabean revolt, Elias Bickermann and Victor Tcherikover, each have very different views for the cause of the revolt, focused on the policies of the Jewish leaders and not Antiochus IV: \"Bickermann saw the origin of the problem in the attempt of \"Hellenized\" Jews to reform the \"antiquated\" and \"outdated\" religion practiced in Jerusalem, and to rid it of superstitious elements.\\nThey were the ones who egged on Antiochus IV and instituted the religious reform in Jerusalem.\\nOne suspects that [Bickermann] may have been influenced in his view by an antipathy to Reform Judaism in 19th- and 20th-century Germany.\\nTcherikover, perhaps influenced by socialist concerns, saw the uprising as one of the rural peasants against the rich elite.\\n[32]The descendants of Mattathias According to I and II Maccabees, the priestly family of Mattathias (Mattisyahu/Mattitiyahu in Hebrew), which came to be known as the Maccabees,[33] called the people forth to holy war against the Seleucids. Mattathias\\' sons Judah (Yehuda), Jonathan (Yonoson/ Yonatan), and Simon (Shimon) began a military campaign, initially with disastrous results: one thousand Jewish men, women, and children were killed by Seleucid troops because they refused to fight, even in self-defense, on the Sabbath.\\nOther Jews then reasoned that they must fight when attacked, even on the Sabbath.\\nThe institution of guerrilla warfare practices by Judah over several years led to victory against the Seleucids: \"It was now, in the fall of 165, that Judah\\'s successes began to disturb the central government.\\nHe appears to have controlled the road from Jaffa to Jerusalem, and thus to have cut off the royal party in Acra from direct communication with the sea and thus with the government.\\nIt is significant that this time the Syrian troops, under the leadership of the governor-general Lysias, took the southerly route, by way of Idumea.\\n\"[34]In 164 BC, Judah captured Jerusalem and the Temple in Jerusalem was freed and reconsecrated: \"After having recovered Jerusalem, Judah ordered the Temple to be cleansed, a new altar to be built in place of the desecrated one, and new holy vessels to be made.\\n\"[35] The celebratory festival of Hanukkah is instituted: \"When the fire had been kindled anew upon the altar and the lamps of the candlestick lit, the dedication of the altar was celebrated for eight days amid sacrifices and songs.\\n\"[36]Antiochus IV died that same year, and was ultimately succeeded by Demetrius I Soter, the nephew whose throne he had usurped.\\nDemetrius sent the general Bacchides to Israel with a large army, in order to install Alcimus with the office of high priest.\\n[37] Bacchides subdued Jerusalem and returned to his King.\\n[38]From revolt to independence Judah and Jonathan Palestine under the Maccabees according to George Adam Smith After five years of war and raids, Judah sought an alliance with the Roman Republic to remove the Greeks: \"In the year 161 BC he sent Eupolemus the son of Johanan and Jason the son of Eleazar, \\'to make a league of amity and confederacy with the Romans.\\' \"[39]A Seleucid army under General Nicanor was defeated by Judah (ib. 7:26–50) at the Battle of Adasa, with Nicanor himself killed in action.\\nNext, Bacchides was sent with Alcimus and an army of twenty thousand infantry and two thousand cavalry, and met Judah at the Battle of Elasa (Laisa), where this time it was the Hasmonean commander who was killed.\\n(161/160 BC).\\nBacchides now established the Hellenes as rulers in Israel; and upon Judah\\'s death, the persecuted patriots, under Jonathan, brother of Judah, fled beyond the Jordan River. (ib. 9:25–27)\\nThey set camp near a morass by the name of Asphar, and remained, after several engagements with the Seleucids, in the swamp in the country east of the Jordan.\\nFollowing the death of his puppet governor Alcimus, High Priest of Jerusalem, Bacchides felt secure enough to leave the country, but two years after the departure of Bacchides from Israel, the City of Acre felt sufficiently threatened by Maccabee incursions to contact Demetrius and request the return of Bacchides to their territory.\\nJonathan and Simeon, now more experienced in guerilla warfare, thought it well to retreat farther, and accordingly fortified in the desert a place called Beth-hogla;[40]\\nthere they were besieged several days by Bacchides.\\nJonathan offered the rival general a peace treaty and exchange of prisoners of war. Bacchides readily consented and even took an oath of nevermore making war upon Jonathan.\\nHe and his forces then vacated Israel.\\nThe victorious Jonathan now took up his residence in the old city of Michmash.\\nFrom there he endeavored to clear the land of \"the godless and the apostate\".\\n[41] The chief source, 1 Maccabees, says that with this \"the sword ceased in Israel\", and in fact nothing is reported for the five following years (158–153 BC).\\nSeleucid civil conflict An important external event brought the design of the Maccabeans to fruition.\\nDemetrius I Soter\\'s relations with Attalus II Philadelphus of Pergamon (reigned 159–138 BC), Ptolemy VI of Egypt (reigned 163–145 BC), and Ptolemy\\'s co-ruler Cleopatra II of Egypt were deteriorating, and they supported a rival claimant to the Seleucid throne: Alexander Balas, who purported to be the son of Antiochus IV Epiphanes and a first cousin of Demetrius.\\nDemetrius was forced to recall the garrisons of Judea, except those in the City of Acre and at Beth-zur, to bolster his strength.\\nFurthermore, he made a bid for the loyalty of Jonathan, permitting him to recruit an army and to reclaim the hostages kept in the City of Acre.\\nJonathan gladly accepted these terms, took up residence at Jerusalem in 153 BC, and began fortifying the city.\\nAlexander Balas offered Jonathan even more favorable terms, including official appointment as High Priest in Jerusalem, and despite a second letter from Demetrius promising prerogatives that were almost impossible to guarantee,[42]\\nJonathan declared allegiance to Balas.\\nJonathan became the official leader of his people, and officiated at the Feast of Tabernacles of 153 BC wearing the High Priest\\'s garments.\\nThe Hellenistic party could no longer attack him without severe consequences.\\nSoon, Demetrius lost both his throne and his life, in 150 BC.\\nThe victorious Alexander Balas was given the further honor of marriage to Cleopatra Thea, daughter of his allies Ptolemy VI and Cleopatra II. Jonathan was invited to Ptolemais for the ceremony, appearing with presents for both kings, and was permitted to sit between them as their equal; Balas even clothed him with his own royal garment and otherwise accorded him high honor.\\nBalas appointed Jonathan as strategos and \"meridarch\" (i.e., civil governor of a province; details not found in Josephus), sent him back with honors to Jerusalem,[43] and refused to listen to the Hellenistic party\\'s complaints against Jonathan. Hasmoneans under Balas and Demetrius IIIn 147 BC, Demetrius II Nicator, a son of Demetrius I Soter, claimed Balas\\' throne.\\nThe governor of Coele-Syria, Apollonius Taos, used the opportunity to challenge Jonathan to battle, saying that the Jews might for once leave the mountains and venture out into the plain.\\n[citation needed] Jonathan and Simeon led a force of 10,000 men against Apollonius\\' forces in Jaffa, which was unprepared for the rapid attack and opened the gates in surrender to the Jewish forces.\\nApollonius received reinforcements from Azotus and appeared in the plain in charge of 3,000 men including superior cavalry forces.\\nJonathan assaulted, captured and burned Azotus along with the resident temple of Dagon and the surrounding villages.\\nAlexander Balas honored the victorious High Priest by giving him the city of Ekron along with its outlying territory.\\nThe people of Azotus complained to King Ptolemy VI, who had come to make war upon his son-in-law, but Jonathan met Ptolemy at Jaffa in peace and accompanied him as far as the River Eleutherus.\\nJonathan then returned to Jerusalem, maintaining peace with the King of Egypt despite their support for different contenders for the Seleucid throne.\\n[44]Hasmoneans under Demetrius and Diodotus In 145 BC, the Battle of Antioch resulted in the final defeat of Alexander Balas by the forces of his father-in-law Ptolemy VI.\\nPtolemy himself, however, was among the casualties of the battle.\\nDemetrius II Nicator remained sole ruler of the Seleucid Empire and became the second husband of Cleopatra Thea.\\nJonathan owed no allegiance to the new King and took this opportunity to lay siege to the Acra, the Seleucid fortress in Jerusalem and the symbol of Seleucid control over Judea.\\nIt was heavily garrisoned by a Seleucid force and offered asylum to Jewish Hellenists.\\n[45] Demetrius was greatly incensed; he appeared with an army at Ptolemais and ordered Jonathan to come before him.\\nWithout raising the siege, Jonathan, accompanied by the elders and priests, went to the king and pacified him with presents, so that the king not only confirmed him in his office of high priest, but gave to him the three Samaritan toparchies of Mount Ephraim, Lod, and Ramathaim-Zophim.\\nIn consideration of a present of 300 talents the entire country was exempted from taxes, the exemption being confirmed in writing.\\nJonathan in return lifted the siege of the Acra and left it in Seleucid hands.\\nSoon, however, a new claimant to the Seleucid throne appeared in the person of the young Antiochus VI Dionysus, son of Alexander Balas and Cleopatra Thea.\\nHe was three years old at most, but general Diodotus Tryphon used him to advance his own designs on the throne.\\nIn the face of this new enemy, Demetrius not only promised to withdraw the garrison from the City of Acre, but also called Jonathan his ally and requested him to send troops.\\nThe 3,000 men of Jonathan protected Demetrius in his capital, Antioch, against his own subjects.\\n[46]As Demetrius II did not keep his promise, Jonathan thought it better to support the new king when Diodotus Tryphon and Antiochus VI seized the capital, especially as the latter confirmed all his rights and appointed his brother Simon (Simeon) strategos of the Paralia (the seacoast), from the \"Ladder of Tyre\" to the frontier of Egypt.\\n[47]Jonathan and Simon were now entitled to make conquests; Ashkelon submitted voluntarily while Gaza was forcibly taken.\\nJonathan vanquished even the strategoi of Demetrius II far to the north, in the plain of Hazar, while Simon at the same time took the strong fortress of Beth-zur on the pretext that it harbored supporters of Demetrius.\\n[48]Like Judah in former years, Jonathan sought alliances with foreign peoples.\\nHe renewed the treaty with the Roman Republic and exchanged friendly messages with Sparta and other places.\\nHowever, one should note that the documents referring to those diplomatic events are of questionable authenticity.\\nDiodotus Tryphon went with an army to Judea and invited Jonathan to Scythopolis for a friendly conference, where he persuaded him to dismiss his army of 40,000 men, promising to give him Ptolemais and other fortresses.\\nJonathan fell into the trap; he took with him to Ptolemais 1,000 men, all of whom were slain; he himself was taken prisoner.\\n[49]Simon assumes leadership When Diodotus Tryphon was about to enter Judea at Hadid, he was confronted by the new Jewish leader, Simon, ready for battle. Trypho, avoiding an engagement, demanded one hundred talents and Jonathan\\'s two sons as hostages, in return for which he promised to liberate Jonathan.\\nAlthough Simon did not trust Diodotus Tryphon, he complied with the request so that he might not be accused of the death of his brother.\\nBut Diodotus Tryphon did not liberate his prisoner; angry that Simon blocked his way everywhere and that he could accomplish nothing, he executed Jonathan at Baskama, in the country east of the Jordan.\\n[50] Jonathan was buried by Simeon at Modin.\\nNothing is known of his two captive sons.\\nOne of his daughters was an ancestor of Josephus.\\n[51]Simon assumed the leadership (142 BC), receiving the double office of High Priest and prince of Israel.\\nThe leadership of the Hasmoneans was established by a resolution, adopted in 141 BC, at a large assembly \"of the priests and the people and of the elders of the land, to the effect that Simon should be their leader and High Priest forever, until there should arise a faithful prophet\" (1 Macc. 14:41).\\nIronically, the election was performed in Hellenistic fashion.\\nSimon, having made the Jewish people semi-independent of the Seleucid Greeks, reigned from 142 to 135 BC and formed the Hasmonean dynasty.\\nThe Roman Senate accorded the new dynasty recognition by the Romans c.? 139 BC, when the delegation of Simon was in Rome.\\nSimon led the people in peace and prosperity, until in February 135 BC, he was assassinated at the instigation of his son-in-law Ptolemy, son of Abubus (also spelled Abobus or Abobi), who had been named governor of the region by the Seleucids.\\nSimon\\'s eldest sons, Mattathias and Judah, were also murdered.\\nHasmonean expansion and civil war Kingdom at its greatest extent under Salome Alexandra In c.? 135 BC, John Hyrcanus, Simon\\'s third son, assumed the leadership and ruled as high priest (Kohen Gadol) and took a Greek \"regnal name\" (see Hyrcania) in an acceptance of the Hellenistic culture of his Seleucid suzerains.\\nWithin a year of the death of Simon, Seleucid King Antiochus VII Sidetes attacked Jerusalem.\\nAccording to Josephus,[52]\\nJohn Hyrcanus opened King David\\'s sepulchre and removed three thousand talents which he paid as tribute to spare the city.\\nHe remained as governor as a Seleucid vassal.\\nFor the next two decades of his reign, Hyrcanus continued, like his father, to rule semi-autonomously from the Seleucids.\\nThe Seleucid empire had been disintegrating in the face of the Seleucid–Parthian wars and in 129 BC Antiochus VII Sidetes was killed in Media by the forces of Phraates II of Parthia, permanently ending Seleucid rule east of the Euphrates.\\nIn 116 BC, a civil war between Seleucid half-brothers Antiochus VIII Grypus and Antiochus IX Cyzicenus broke out, resulting in a further breakup of the already significantly reduced kingdom.\\nThis provided opportunity for semi-independent Seleucid client states such as Judea to revolt.\\n In 110 BC, John Hyrcanus carried out the first military conquests of the newly independent Hasmonean kingdom, raising a mercenary army to capture Madaba and Schechem, significantly increasing his regional influence[56][57]Hyrcanus conquered Transjordan, Samaria, Galilee, and Idumea (also known as Edom), and forced Idumeans to convert to Judaism: \"Hyrcanus...subdued all the Idumeans; and permitted them to stay in that country, if they would circumcise their genitals, and make use of the laws of the Jews; and they were so desirous of living in the country of their forefathers, that they submitted to the use of circumcision, (25) and of the rest of the Jewish ways of living; at which time therefore this befell them, that they were hereafter no other than Jews.\\n\"[58]He desired that his wife succeed him as head of the government, with his eldest of five sons, Aristobulus I, becoming only the high-priest.\\nAristobulus was the first Hasmonean to take the title basileus, asserting the new-found independence of the state.\\nUpon Hyrcanus\\' death, however, Aristobulus jailed his mother and three brothers, including Alexander Jannaeus, and allowed her to starve there.\\nBy this means he came into possession of the throne, but died one year later after a painful illness in 103 BC. Aristobulus\\' brothers were freed from prison by his widow; Alexander reigned from 103–76 BC, and died during the siege of the fortress Ragaba.\\nIn c.? 87 BC, according to Josephus, following a six-year civil war involving Seleucid king Demetrius III Eucaerus, Hasmonean ruler Alexander Jannaeus crucified 800 Jewish rebels in Jerusalem.\\nAlexander was followed by his wife, Salome Alexandra, who reigned from 76–67 BC.\\nShe was the only regnant Jewish Queen.\\nDuring her reign, her son Hyrcanus II held the office of High Priest and was named her successor.\\nPharisee and Sadducee factions It is difficult to state at what time the Pharisees, as a party, arose.\\nJosephus first mentions them in connection with Jonathan, the successor of Judas Maccabeus (\"Ant. \" xiii. 5, § 9).\\nOne of the factors that distinguished the Pharisees from other groups prior to the destruction of the Temple was their belief that all Jews had to observe the purity laws (which applied to the Temple service) outside the Temple.\\nThe major difference, however, was the continued adherence of the Pharisees to the laws and traditions of the Jewish people in the face of assimilation.\\nAs Josephus noted, the Pharisees were considered the most expert and accurate expositors of Jewish law.\\nDuring the Hasmonean period, the Sadducees and Pharisees functioned primarily as political parties.\\nAlthough the Pharisees had opposed the wars of expansion of the Hasmoneans and the forced conversions of the Idumeans, the political rift between them became wider when Pharisees demanded that the Hasmonean king Alexander Jannaeus choose between being king and being High Priest.\\nIn response, the king openly sided with the Sadducees by adopting their rites in the Temple.\\nHis actions caused a riot in the Temple and led to a brief civil war that ended with a bloody repression of the Pharisees, although at his deathbed the king called for a reconciliation between the two parties.\\nAlexander was succeeded by his widow, Salome Alexandra, whose brother was Shimon ben Shetach, a leading Pharisee.\\nUpon her death her elder son, Hyrcanus, sought Pharisee support, and her younger son, Aristobulus, sought the support of the Sadducees.\\nThe conflict between Hyrcanus and Aristobulus culminated in a civil war that ended when the Roman general Pompey captured Jerusalem in 63 BC and inaugurated the Roman period of Jewish history.\\nJosephus attests that Salome Alexandra was very favorably inclined toward the Pharisees and that their political influence grew tremendously under her reign, especially in the institution known as the Sanhedrin.\\nLater texts such as the Mishnah and the Talmud record a host of rulings ascribed to the Pharisees concerning sacrifices and other ritual practices in the Temple, torts, criminal law, and governance.\\nThe influence of the Pharisees over the lives of the common people remained strong, and their rulings on Jewish law were deemed authoritative by many.\\nAlthough these texts were written long after these periods, many scholars believe that they are a fairly reliable account of history during the Second Temple era.\\nCivil war Alexander Jannaeus\\' son, Hyrcanus II, had scarcely reigned three months when his younger brother, Aristobulus II, rose in rebellion, whereupon Hyrcanus advanced against him at the head of an army of mercenaries and his Pharisee followers: \"NOW Hyrcanus was heir to the kingdom, and to him did his mother commit it before she died; but Aristobulus was superior to him in power and magnanimity; and when there was a battle between them, to decide the dispute about the kingdom, near Jericho, the greatest part deserted Hyrcanus, and went over to Aristobulus.\\n\"[59]Hyrcanus took refuge in the citadel of Jerusalem, but the capture of the Temple by Aristobulus II compelled Hyrcanus to surrender.\\nA peace was then concluded, according to the terms of which Hyrcanus was to renounce the throne and the office of high priest (comp.\\nSchürer, \"Gesch. \" i. 291, note 2), but was to enjoy the revenues of the latter office: \"but Hyrcanus, with those of his party who stayed with him, fled to Antonia, and got into his power the hostages (which were Aristobulus\\'s wife, with her children) that he might persevere; but the parties came to an agreement before things should come to extremes, that Aristobulus should be king, and Hyrcanus should resign, but retain all the rest of his dignities, as being the king\\'s brother.\\nHereupon they were reconciled to each other in the Temple, and embraced one another in a very kind manner, while the people stood round about them; they also changed their houses, while Aristobulus went to the royal palace, and Hyrcanus retired to the house of Aristobulus.\\n\"[59] Aristobulus ruled from 67–63 BC).\\nFrom 63–40 BC, the government was in the hands of Hyrcanus II as High Priest and Ethnarch, although effective power was in the hands of his adviser Antipater the Idumaean.\\nIntrigues of Antipater The struggle would have ended here but for Antipater the Idumean.\\nAntipater saw clearly that it would be easier to reach the object of his ambition, the control of Judea, under the government of the weak Hyrcanus than under the warlike and energetic Aristobulus.\\nHe accordingly began to impress upon Hyrcanus\\' mind that Aristobulus was planning his death, finally persuading him to take refuge with Aretas, king of the Nabatæans.\\nAretas, bribed by Antipater, who also promised him the restitution of the Arabian towns taken by the Hasmoneans, readily espoused the cause of Hyrcanus and advanced toward Jerusalem with an army of fifty thousand.\\nDuring the siege, which lasted several months, the adherents of Hyrcanus were guilty of two acts that greatly incensed the majority of the Jews: they stoned the pious Onias (see Honi ha-Magel) and, instead of a lamb which the besieged had bought of the besiegers for the purpose of the paschal sacrifice, sent a pig. Honi, ordered to curse the besieged, prayed: \"Lord of the universe, as the besieged and the besiegers both belong to Thy people, I beseech Thee not to answer the evil prayers of either. \"\\nThe pig incident is derived from rabbinical sources.\\nAccording to Josephus, the besiegers kept the enormous price of one thousand drachmas they had asked for the lamb.\\nRoman intervention Pompey the Great Pompey in the Temple of Jerusalem, by Jean Fouquet While this civil war was going on the Roman general Marcus Aemilius Scaurus went to Syria to take possession, in the name of Gnaeus Pompeius Magnus, of the kingdom of the Seleucids.\\nThe brothers appealed to him, each endeavoring by gifts and promises to win him over to his side.\\nAt first Scaurus, moved by a gift of four hundred talents, decided in favor of Aristobulus.\\nAretas was ordered to withdraw his army from Judea, and while retreating suffered a crushing defeat at the hands of Aristobulus.\\nBut when Pompey came to Syria (63 BC), a different situation arose.\\nPompey, who had just been awarded the title \"Conqueror of Asia\" due to his decisive victories in Asia Minor over Pontus and the Seleucid Empire, had decided to bring Judea under the rule of the Romans.\\nHe took the same view of Hyrcanus\\' ability, and was moved by much the same motives as Antipater: as a ward of Rome, Hyrcanus would be more acceptable than Aristobulus.\\nWhen, therefore, the brothers, as well as delegates of the people\\'s party, which, weary of Hasmonean quarrels, desired the extinction of the dynasty, presented themselves before Pompey, he delayed the decision, in spite of Aristobulus\\' gift of a golden vine valued at five hundred talents.\\nThe latter, however, fathomed the designs of Pompey, and assembled his armies.\\nPompey defeated him multiple times however and captured his cities.\\nAristobulus II entrenched himself in the fortress of Alexandrium; but, soon realizing the uselessness of resistance, surrendered at the first summons of the Romans, and undertook to deliver Jerusalem to them.\\nThe patriots, however, were not willing to open their gates to the Romans, and a siege ensued which ended with the capture of the city.\\nPompey entered the Holy of Holies; this was only the second time that someone had dared to penetrate into this sacred spot.\\nJudaea had to pay tribute to Rome and was placed under the supervision of the Roman governor of Syria: \"In 63 BC, Judaea became a protectorate of Rome.\\nComing under the administration of a governor, Judaea was allowed a king; the governor\\'s business was to regulate trade and maximize tax revenue.\\n\"[60]In 57–55 BC, Aulus Gabinius, proconsul of Syria, split the former Hasmonean Kingdom into Galilee, Samaria, and Judea, with five districts of legal and religious councils known as sanhedrin (Greek: s??? d???? , \"synedrion\"): \"And when he had ordained five councils (s???\\nd?? a), he distributed the nation into the same number of parts.\\nSo these councils governed the people; the first was at Jerusalem, the second at Gadara, the third at Amathus, the fourth at Jericho, and the fifth at Sepphoris in Galilee.\\n\"[61][62]Pompey and Caesar Julius Caesar initially supported Aristobulus against Hyrcanus and Antipater.\\nBetween the weakness of Hyrcanus and the ambition of Aristobulus, Judea lost its independence.\\nAristobulus was taken to Rome a prisoner, and Hyrcanus was reappointed High Priest, but without political authority.\\nWhen, in 50 BC, it appeared that Julius Caesar was interested in using Aristobulus and his family as his clients to take control of Judea from Hyrcanus and Antipater, who were beholden to Pompey, supporters of Pompey had Aristobulus poisoned in Rome and executed Alexander in Antioch.\\nHowever, Pompey\\'s pawns soon had occasion to turn to the other side: \"At the beginning of the civil war between [Caesar] and Pompey, Hyrcanus, at the instance of Antipater, prepared to support the man to whom he owed his position; but when Pompey was murdered, Antipater led the Jewish forces to the help of Caesar, who was hard pressed at Alexandria.\\nHis timely help and his influence over the Egyptian Jews recommended him to Caesar\\'s favor, and secured for him an extension of his authority in Palestine, and for Hyrcanus the confirmation of his ethnarchy.\\nJoppa was restored to the Hasmonean domain, Judea was granted freedom from all tribute and taxes to Rome, and the independence of the internal administration was guaranteed.\\n\"[63]The timely aid from Antipater and Hyrcanus led the triumphant Caesar to ignore the claims of Aristobulus\\'s younger son, Antigonus the Hasmonean, and to confirm Hyrcanus and Antipater in their authority, despite their previous allegiance to Pompey.\\nJosephus noted, \"Antigonus... came to Caesar... and accused Hyrcanus and Antipater, how they had driven him and his brethren entirely out of their native country... and that as to the assistance they had sent [to Caesar] into Egypt, it was not done out of good-will to him, but out of the fear they were in from former quarrels, and in order to gain pardon for their friendship to [his enemy] Pompey.\\n\"[64]Hyrcanus\\' restoration as ethnarch in 47 BC coincided with Caesar\\'s appointment of Antipater as the first Roman Procurator, allowing Antipater to promote the interests of his own house: \"Caesar appointed Hyrcanus to be high priest, and gave Antipater what principality he himself should choose, leaving the determination to himself; so he made him procurator of Judea.\\n\"[65]Antipater appointed his sons to positions of influence: Phasael became Governor of Jerusalem, and Herod Governor of Galilee.\\nThis led to increasing tension between Hyrcanus and the family of Antipater, culminating in a trial of Herod for supposed abuses in his governorship, which resulted in Herod\\'s flight into exile in 46 BC.\\nHerod soon returned, however, and the honors to Antipater\\'s family continued.\\nHyrcanus\\' incapacity and weakness were so manifest that, when he defended Herod against the Sanhedrin and before Mark Antony, the latter stripped Hyrcanus of his nominal political authority and his title, bestowing them both upon the accused.\\nCaesar was assassinated in 44 BC and unrest and confusion spread throughout the Roman world, including Judaea.\\nAntipater the Idumean was assassinated by a rival, Malichus, in 43 BC, but Antipater\\'s sons managed to kill Malichus and maintain their control over Judea and\\ntheir father\\'s puppet Hasmonean, Hyrcanus. Parthian invasion, Antony, Augustus The taking of Jerusalem by Herod the Great, 36 BC (sic)Parthian Empire at its greatest extent, c.? 60 BCAfter Julius Caesar was murdered in 44 BC, Quintus Labienus, a Roman republican general and ambassador to the Parthians, sided with Brutus and Cassius in the Liberators\\' civil war; after their defeat Labienus joined the Parthians and assisted them in invading Roman territories in 40 BC.\\nThe Parthian army crossed the Euphrates and Labienus was able to entice Mark Antony\\'s Roman garrisons around Syria to rally to his cause.\\nThe Parthians split their army, and under Pacorus conquered the Levant from the Phoenician coast through the Land of Israel: \"Antigonus... roused the Parthians to invade Syria and Palestine, [and] the Jews eagerly rose in support of the scion of the Maccabean house, and drove out the hated Idumeans with their puppet Jewish king.\\nThe struggle between the people and the Romans had begun in earnest, and though Antigonus, when placed on the throne by the Parthians, proceeded to spoil and harry the Jews, rejoicing at the restoration of the Hasmonean line, thought a new era of independence had come.\\n[66]When Phasael and Hyrcanus II set out on an embassy to the Parthians, the Parthians instead captured them.\\nAntigonus, who was present, cut off Hyrcanus\\'s ears to make him unsuitable for the High Priesthood, while Phasael was put to death.\\nAntigonus, whose Hebrew name was Mattathias, bore the double title of king and High Priest for only three years, as he had not disposed of Herod, the most dangerous of his enemies.\\nHerod fled into exile and sought the support of Mark Antony.\\nHerod was designated \"King of the Jews\" by the Roman Senate in 40 BC: Antony \"then resolved to get [Herod] made king of the Jews...\\n[and] told [the Senate] that it was for their advantage in the Parthian war that Herod should be king; so they all gave their votes for it.\\nAnd when the senate was separated,\\nAntony and Caesar\\n[Augustus] went out, with Herod between them; while the consul and the rest of the magistrates went before them, in order to offer sacrifices [to the Roman gods], and to lay the decree in the Capitol.\\nAntony also made a feast for Herod on the first day of his reign.\"\\n[67]The struggle thereafter lasted for some years, as the main Roman forces were occupied with defeating the Parthians and had few additional resources to use to support Herod.\\nAfter the Parthians\\' defeat, Herod was victorious over his rival in 37 BC.\\nAntigonus was delivered to Antony and executed shortly thereafter.\\nThe Romans assented to Herod\\'s proclamation as King of the Jews, bringing about the end of the Hasmonean rule over Judea.\\nHerod and the end of the dynasty Antigonus was not, however, the last Hasmonean.\\nThe fate of the remaining male members of the family under Herod was not a happy one. Aristobulus III, grandson of Aristobulus II through his elder son Alexander, was briefly made high priest, but was soon executed (36 BC) due to Herod\\'s jealousy.\\nHis sister Mariamne was married to Herod, but fell victim to his notorious jealousy.\\nHer sons by Herod, Aristobulus IV and Alexander, were in their adulthood also executed by their father.\\nHyrcanus II had been held by the Parthians since 40 BC.\\nFor four years, until 36 BC, he lived amid the Babylonian Jews, who paid him every mark of respect.\\nIn that year Herod, who feared that Hyrcanus might induce the Parthians to help him regain the throne, invited him to return to Jerusalem.\\nThe Babylonian Jews warned him in vain.\\nHerod received him with every mark of respect, assigning him the first place at his table and the presidency of the state council, while awaiting an opportunity to get rid of him.\\nAs the last remaining Hasmonean, Hyrcanus was too dangerous a rival for Herod.\\nIn the year 30 BC, charged with plotting with the King of Arabia, Hyrcanus was condemned and executed.\\nThe later Herodian rulers Agrippa I and Agrippa II both had Hasmonean blood, as Agrippa I\\'s father was Aristobulus IV, son of Herod by Mariamne I, but they were not direct male descendants, unless Herod was understood as a Hasmonean as per the following synthesis:According to Josephus, Herod was also of Maccabean descent: Eleazar Maccabeus called Auran brother of Judas Maccabeus {Josephus Antiquity of the Jews Book XII/Chapter 9/Section 4} Jason son of Eleazar {Ditto: Book XII/Chapter 10/Section 6}\\nAntipater\\nI son of Jason {Ditto: Book XIII/Chapter 5/Section 8} Antipater II Antipas son of Antipater I {Ditto: Book XIV/Chapter 1/Section 3} Herod Legacy and scholarship\\nWhile the Hasmonean dynasty managed to create an independent Jewish kingdom, its successes were rather short-lived, and the dynasty by and large failed to live up to the nationalistic momentum the Maccabee brothers had gained. Jewish nationalism The fall of the Hasmonean Kingdom marked an end to a century of Jewish self-governance, but Jewish nationalism and desire for independence continued under Roman rule, beginning with the Census of Quirinius in 6 and leading to a series of Jewish-Roman wars in the 1st–2nd centuries, including the Great Revolt (AD 66–73), the Kitos War (115–117), and Bar Kokhba\\'s revolt (132–135).\\nDuring the wars, temporary commonwealths were established, but they ultimately fell to the sustained might of Rome.\\nRoman legions under Vespasian and Titus besieged and destroyed Jerusalem, looted and burned Herod\\'s Temple (in the year 70) and Jewish strongholds (notably Gamla in 67 and Masada in 73), and enslaved or massacred a large part of the Jewish population.\\nThe defeat of the Jewish revolts against the Roman Empire notably contributed to the numbers and geography of the Jewish Diaspora, as many Jews were scattered after losing their state or were sold into slavery throughout the empire. Jewish religious scholarship Jewish tradition holds that the claiming of kingship by the later Hasmoneans led to their eventual downfall, since that title was only to be held by descendants of the line of King David.\\nThe Hasmonean bureaucracy was filled with men with Greek names, and the dynasty eventually became very Hellenized, to the annoyance of many of its more traditionally-minded Jewish subjects.\\nFrequent dynastic quarrels also contributed to the view among Jews of later generations that the latter Hasmoneans were degenerate.\\nOne member of this school was Josephus, whose accounts are in many cases our sole source of information about the Hasmoneans.\\nHasmonean leaders Maccabees1. Mattathias, 170–167 BC2. Judas Maccabeus, 167–160 BC3. Jonathan Maccabeus, 153–143 BC (first to hold the title of High Priest)4.\\nSimon Maccabeus, 142–141 BCEthnarchs and High Priests5.\\nSimon, 141–135 BC6.\\nHyrcanus I, 134–104 BCKings and High Priests7.\\nAristobulus I, 104–103 BC8. Alexander Jannaeus, 103–76 BC9.\\nSalome Alexandra, 76–67 BC10.\\nHyrcanus II, 67–66 BC11. Aristobulus II, 66–63 BC12. Hyrcanus II, 47–40 BC (restored but demoted to Ethnarch)13. Antigonus, 40–37 BC14.\\nAristobulus III, 36 BC (only as High Priest)',\n",
       " 'Who knew that the answer to a mystery involving one of the key players in the story of Hanukkah was lurking under a parking lot in Jerusalem?!\\nIn what archaeologists are describing as “a solution to one of the great archaeological riddles in the history of Jerusalem,” researchers with the Israel Antiquities Authority announced Tuesday that they have found the remnants of a fortress used by the Seleucid Greek king Antiochus Epiphanes in his siege of Jerusalem in 168 BCE.\\nA section of fortification was discovered under the Givati parking lot in the City of David south of the Old City walls and the Temple Mount.\\nThe fortification is believed to have been part of a system of defenses known as the Acra fortress, built by Antiochus as he sought to quell a Jewish priestly rebellion centered on the Temple.\\nAntiochus is remembered in the Jewish tradition as the villain of the Hanukkah holiday who sought to ban Jewish religious rites, sparking the Maccabean revolt.\\nThe Acra fortress was used by his Seleucids to oversee the Temple and maintain control over Jerusalem.\\nThe fortress was manned by Hellenized Jews, who many scholars believe were then engaged in a full-fledged civil war with traditionalist Jews represented by the Maccabees.\\nMercenaries paid by Antiochus rounded out the force.',\n",
       " 'Yoram Tsafrir (30 January 1938 – 23 November 2015) was an Israeli archaeologist.\\nHis research has included the Byzantine influence on ancient synagogues, demography of Palestine in the Byzantine period, mosaics at Horvat Berachot, excavations at Beit She\\'an, and excavations at Rehoboth.\\n[1] He was Professor Emeritus in the University of Hebrew University of Jerusalem, in the Institute of Archaeology, and a member of the Israel Academy of Sciences and Humanities.\\n[2][3]BiographyHe was born in 1938 in Kfar Azar[2] in Tel Aviv District.\\nA graduate of the Hebrew University of Jerusalem in 1976, he became senior lecturer there in 1978, professor in 1987, and professor emeritus in 2006.\\n[2] From 1989 until 1992 he was Head of the Institute of Archaeology and was Director of the Jewish National and University Library from 2001 to 2007.\\nHe was also visiting Fellow at the Harvard University, Dumbarton Oaks, Washington DC.\\n[2] He died on 23 November 2015 at a hospital in Jerusalem.\\n[4]WorkHis work mainly involved the archaeology and history of Palestine and the east during the Hellenistic, Roman, Byzantine and Early Islamic periods.\\nHis archaeological excavations covered Bet Shean-Scythopolis, Rehoboth in Negev, Sartheva Alexandrion, Horvat Benache and many more sites.\\nHe has claimed that by around the year 400 C.E., the Christians \"constituted the majority in Palestine.\\n\"\\n[3][5] He has also said that virtually no synagogue buildings in Palestine can be dated to the second and early third centuries.\\n[6] He has worked on numerous monuments, including Acra Fortress and Nea Ekklesia of the Theotokos.\\nFrom 1974, he superintended the Holyland Model of Jerusalem.\\n[7] With Yizhak Magen, he published \"Two Seasons of Excavations at Sartaba Alexandrium Fortress,\" (1984),[8] in 1993, he published Ancient Churches Revealed.\\nIn the same year, Tsafrir and Gideon Foerster organized a study group at the Institute for Advanced Studies, Givat Ram, on the topic of conceptualizing the end of ancient Mediterranean cities.\\n[9] His work also involves research into the geography of historical Palestine, and he has co-authored Tabula Imperii Romani Iudaea Palaestina: Eretz Israel in the Hellenistic, Roman and Byzantine Periods, Maps and Gazetteer.\\nSince 1975, Tsafrir, a student of Michael Avi-Yonah, has re-modelled and updated Avi-Yonah\\'s miniature models of ancient Palestine.\\n[10] Tsafrir and Gideon Foerster\\'s preliminary exploration and conclusions on Beit She\\'an/Scythopolis, were reported in \"Urbanism at Scythopolis:\\nBet Shean in the fourth to seventh centuries\" (1997), which was followed by \"Skythopolis: Vorposten der Dekapolis\" (2002).\\n[3] His critical review of \"Numismatics and the Foundation of Aelia Capitolina\" appears in Peter Shafer\\'s The Bar Kokhba War Reconsidered (2003).\\n[11] He has contributed to The New Encyclopedia of Archaeological Excavations in the Holy Land.\\n[12]Model of JerusalemA scale model of Jerusalem giving a vivid view of the city as it existed before it was destroyed by Romans in 70 AD, was prepared by the archaeologists associated with the study of the city\\'s ancient culture.\\nThe project was sponsored in 1964 by the Holy Land Hotel of Jerusalem.\\nIt was made between 1964-74 by Michael Avi-Yonah and was refined and elaborated by Tsafrir.\\nThe model was made with authentic material such as stone and marble[dubious – discuss] from Jerusalem itself, embellished with colorful small ceramic tiles and goldleaf fixed to the temple and palaces.\\nThe model was built to a scale of 1:50 provided with illustrations and explanatory pamphlets by Tsafrir.\\n[13]',\n",
       " 'The Fortress of Acra. Israel.\\nThe Middle East 2011© Nora de Angelli /\\nwww.noraphotos.comThe name Acra derived from the Greek acropolis and signified a lofty fortified place overlooking a town.\\nIn Jerusalem, the word came to symbolize anti-Jewish paganism: a fortress of the \"impious and wicked\". Dominating both the city and the surrounding countryside, it was occupied not only by a Greek garrison but by their Jewish confederates as well.\\nThe Acra (or Akra, Hebrew: ???? or ????? , Greek: A?? a), was a fortified compound in Jerusalem built by Antiochus Epiphanes, ruler of the Seleucid Empire, following his sack of the city in 168 BCE.\\nThe fortress played a significant role in the events surrounding the Maccabean Revolt and the formation of the Hasmonean Kingdom.\\nIt was destroyed by Simon Maccabeus during this struggle.\\nFollowing Alexander the Great\\'s death in 323 BCE, Judea was contested between the Ptolemaic Kingdom in Egypt, and the Seleucid Empire based in Syria and Mesopotamia. Seleucid Emperor Antiochus III\\'s victory over Egypt in the Battle of Panium brought Judea under Seleucid control.\\nThe Jewish population of Jerusalem had aided Antiochus during his siege of the Baris, the fortified base of Jerusalem\\'s Egyptian garrison.\\nTheir support was rewarded with a charter affirming Jewish religious autonomy, including barring foreigners and impure animals from the Temple\\'s precincts, and an allocation of official funds for the maintenance of certain religious rituals in the Temple.\\nDespite being allowed religious freedom, many Jews were enticed by and adopted elements of the prestigious and influential Greek lifestyle.\\nThe imperial culture offered a route to political and material advancement, and this led to the formation of Hellenistic elites among the Jewish population.\\nHellenization produced tensions between observant Jews and their brethren who had assimilated Greek culture The exact location of the Acra, critical to understanding Hellenistic Jerusalem, remains a matter of ongoing discussion.\\nHistorians and archaeologists have proposed various sites around Jerusalem, relying mainly on conclusions drawn from literary evidence.\\nThis approach began to change in the light of excavations which commenced in the late 1960s.\\nNew discoveries have prompted reassessments of the ancient literary sources, Jerusalem\\'s geography and previously discovered artifacts.\\nYoram Tsafrir has interpreted a masonry joint in the southeastern corner of the Temple Mount platform as a clue to the Acra\\'s possible position.',\n",
       " '(JNi.media)\\nA fascinating, recent discovery appears to have solved one of Jerusalem’s biggest historical mysteries: the location of the Acra, the fortified compound in Jerusalem built by Antiochus Epiphanes, ruler of the Hellenistic Seleucid Empire, following his sack of the city in 168 BCE.\\nThe renowned fortress was used to control the Jewish city and to monitor the activities in the temple.\\nThe Akra was eventually conquered by the Hasmoneans.\\nThe discovery of the ancient Akra was made recently at the archaeological excavations run by the Israel Antiquities Authority at the Givati ?? parking lot in the City of David, which is part of the national park that circles the walls of Jerusalem.\\nThe Givati parking lot excavations in the City of David National Park has been ongoing for a decade.\\nThe Elad association, which operates the national park, is funding the diverse excavations in the site.\\nThe excavation has already revealed many artifacts from various periods in Jerusalem’s history.\\nThe site is open to the general public, which is invited to get a closer look at the excavation work in real time.\\nOver the past century of archaeological research in Jerusalem many proposals have been offered identifying the location of the Akra, which is mentioned in the books of the Maccabees and by Jewish historian Yosef Ben-Matityahu (Josephus Flavius).\\nThe uncertainty about the compound’s location was created by the fact that there are very few artifacts dating back to the Hellenistic conquest and then its lingering presence in Jerusalem.\\nIn recent months, archeologists digging the City of David hill have exposed evidence of the existence of the fort: a section of a massive wall, a tower of impressive dimensions (width about 12 ft, length 60 ft, estimated height 54 ft.) and a slanted slope which was built next to the wall, a defensive element made of layers of earth, stone and stucco, designed to keep attackers from the base of the wall.\\nThe slope came down to the Tyropoeon ravine that split the city in ancient times, which was an additional obstacle in defending the fort.\\nResearchers discovered lead sling stones, bronze arrowheads, and catapult stones in the site, branded with a pitchfork, a symbol of the reign of Antiochus Epiphanes.\\nThey are silent remains of the fierce battles that took place there during the time of the Hasmoneans, who kept trying to seize the fortress that stuck in their craw for years.\\nVarious sources reported that the Akra fortress was populated by Greek mercenaries and Hellenized Jews.\\nThe foreign citadel withstood repeated attacks, until, finally, in 141 BC, after a long siege and starvation of the Greek garrison inside, Simon the Hasmonean was able to bring them into submission.',\n",
       " \"Hasmonean kingdomc.140 BCE:\\nThe Acra is captured and later destroyed by Simon Thassi139 BCE: Demetrius II Nicator is taken prisoner for nine years by the rapidly expanding Parthian Empire after defeat of the Seleucids in Persia.\\nSimon Thassi travels to Rome, where the Roman Republic formally acknowledges the Hasmonean Kingdom.\\nHowever the region remains a province of the Seleucid empire and Simon Thassi is required to provide troops to Antiochus VII Sidetes134 BCE:\\nSadducee John Hyrcanus becomes leader after his father Simon Thassi is murdered.\\nHe takes a Greek regnal name (see Hyrcania) in an acceptance of the Hellenistic culture of his Seleucid suzerains. 134 BCE: Seleucid King Antiochus VII Sidetes recaptures the city.\\nJohn Hyrcanus opened King David's sepulchre and removed three thousand talents which he paid as tribute to spare the city (according to Josephus[10]). John Hyrcanus, remains as governor, becoming a vassal to the Seleucids116 BCE: A civil war between Seleucid half-brothers Antiochus VIII Grypus and Antiochus IX Cyzicenus results in a breakup of the kingdom and the independence of certain principalities, including Judea.\\n[11][12]110 BCE: John Hyrcanus carries out the first military conquests of the independent Hasmonean kingdom, raising a mercenary army to capture Madaba and Schechem, significantly increasing the regional influence of Jerusalem[13][14]c.87 BCE:\\nAccording to Josephus, following a six-year civil war involving Seleucid king Demetrius III Eucaerus, Hasmonean ruler Alexander Jannaeus crucified 800 Jewish rebels in Jerusalem73–63 BCE:\\nThe Roman Republic extends its influence into the region in the Third Mithridatic War.\\nDuring the war, Armenian King Tigranes the Great takes control of Syria and prepares to invade Judea and Jerusalem but has to retreat following an invasion of Armenia by Lucullus.\\n[15] However, this period is believed to have resulted in the first settlement of Armenians in Jerusalem.\\n[16] According to Armenian historian Movses Khorenatsi writing in c.482 CE, Tigranes captured Jerusalem and deported Hyrcanus to Armenia, however most scholars deem this account to be incorrect.\",\n",
       " 'SIMON MACCABEUS:By: Richard Gottheil, Samuel Krauss Hasmonean prince and high priest; died 135 B.C.; second son of Mattathias.\\nIn I Macc. ii. 3 he is called Thassi; in Josephus, \"Ant.\\n\" xii. 6, § 31, Thatis (with the variant Matthes).\\nThe meanings of these names are obscure.\\nHis father, when dying, praised him as a man of counsel, and exhorted his four brothers to heed his advice.\\nSimon justified his father\\'s high opinion of him, and proved himself uniformly sagacious and circumspect.\\nEven during the lifetime of his brothers Judah and Jonathan, Simon took a prominent part in the war of liberation waged against the Syrians: he succored the hard-pressed Jews in Galilee; avenged, in conjunction with Jonathan, the death of his brother John; and fought successfully against Bacchides (I Macc.\\nv. 17, 23; ix. 37-42, 65-68; \"Ant.\" xii. 8, § 2; xiii. 1, §§ 4-5).\\nStrategus.\\nThe successes of the Jews rendered it expedient for the pretenders to the throne of Syria to show them special favor, and therefore Antiochus VI. appointed Simon strategus, or military commander, of the coast region from the Ladder of Tyre to Egypt.\\nAs strategus Simon conquered the cities of Beth-zur and Joppa, garrisoning them with Jewish troops, and built the fortress of Adida in the plain (I Macc. xi. 53, 65; xii. 33, 38; \"Ant.\" xiii. 5, §§ 4, 6, 10; 6, § 5).\\nAfter the capture of Jonathan, Simon was elected leader (???? µe???) by the people, assembled at Jerusalem; he at once completed the fortification of the capital, and made Joppa secure by expelling its Gentile inhabitants and filling it with Jews (I Macc. xiii. 8, 10, 11; \"Ant.\" xiii. 6, § 4).\\nAt Hadid he blocked the advance of the treacherous Trypho, who was attempting to enter the country and seize the throne of Syria.\\nSince Trypho could gain nothing by force, he craftily demanded a ransom for Jonathan and the surrender of Jonathan\\'s sons as hostages.\\nAlthough Simon was fully aware that Trypho would deceive him, he acceded to both demands, so that the people might see that he had done everything possible for his brother.\\nJonathan was nevertheless treacherously assassinated, and the hostages were not returned.\\nSimon thus became the sole leader of the people.\\nHe had Jonathan\\'s remains buried with honor at Modin, where he subsequently erected a monument to him (I Macc. xiii. 25-30; \"Ant.\" xiii. 6, § 5). Coins.\\nAs the opponent of Trypho, Simon had every reason to side with Demetrius II., to whom he sent a deputation requesting freedom from taxation for the country.\\nThe fact that his request was granted implied the recognition of the political independence of Judea.\\n\"Thus the yoke of the heathen was taken away from Israel in the hundred and seventieth year\" of the Seleucid era (143-142 B.C.; I Macc. xiii. 41; Josephus, \"Ant.\" xiii. 6, § 6).\\nThe statement, found in a rabbinical work (Meg. Ta\\'an. § 2), that Judah and Jerusalem were released from the payment of the \"crown tax\" (st?fa???) on Iyyar 27 may refer to this event.\\nThe Jews then introduced a new era, dating all their instruments and contracts according to the years of Simon.\\nThe independence of Simon may be indicated also by the coins which he minted, for many Jewish shekels and half-shekels bear in Old Hebrew characters the inscription \"Holy Jerusalem,\" and are dated variously \"the year 1,\" \"2,\" \"3,\" \"4,\" or \"5,\" these dates being referred by many scholars to the era of Simon.\\nBut it is strange that there are no coins, so far as known, of the years 6 and 7, although Simon was ruling then.\\nThese coins, which are somewhat crude andprimitive, are differentiated from other Maccabean coins by the absence of the name of the ruling prince (see illustrations in Jew. Encyc., s.v. Numismatics); it is therefore not certain that they were struck by Simon, and Schürer is particularly disinclined to ascribe them to his reign (\"Gesch.\\n\" 3d ed., i. 243, 761 et seq.).\\nSimon was still confronted with the task of securing his position in the country.\\nHe therefore laid siege to the old and powerful city of Gazara and captured it, after which he expelled the pagan inhabitants, removed the idols from the houses, purified the city, and \"placed such men there as would keep the Law\" (I Macc. xiii. 43-48; comp. xiv. 34; \"Ant.\" xiii. 6, § 7; Strabo, p. 759).\\nHe then attacked the last bulwark of the Syrians in Judea, the Acra of Jerusalem, which was taken on the 23d day of the second month, 142 B.C., and entered by the Jews chanting hymns of thanksgiving to the sound of harps, and bearing palm-branches (I Macc. xiii. 49-52; comp. xiv. 7, 36, 37; \"Ant.\" l.c.).\\nMerited punishment was visited on the Hellenists (called \"children of the Acra\" in Meg. Ta\\'an. § 2), both in the capital and throughout the country.\\nIn this connection, although the actual work was probably done at a later time, Josephus speaks (\"Ant.\" l.c.; comp.\\n\"B. J.\" v. 4, § 1) of the laborious demolition of the citadel, which took three years.\\nIt is hardly likely that the fortifications were permitted during this time to command the Temple, yet they must have remained standing, for Simon is said to have garrisoned them (I Macc. xiv. 37; comp.\\nxv. 28).\\nAt the same time he placed his son John, who resided at Gazara, in charge of a portion of the army (ib. xiii. 53).\\nAlliance with Rome.\\nThe country now enjoyed a lasting peace, and the author of the First Book of Maccabees (xiv. 8-15) describes the felicity of the people in glowing colors, adhering closely to the accounts of the blessings promised in the Bible, and carefully including Simon\\'s services to religion.\\nHe then speaks of the honor shown the Jewish people by other nations, declaring (xiv. 16-19) that the Romans renewed their friendship with the Jews on their own initiative (although this is improbable), and that the Spartans, at the request of the Jews, made a documentary declaration of their friendship (xiv. 20-23).\\nWillrich regards this record as spurious, like others of a similar nature.\\nThe statement (xiv. 24) that Simon sought to win the favor of the Romans by rich gifts through the agency of Numenius is apparently incorrect, for the friendship of Rome has already been noted in a previous passage.\\nAn alliance (\"amicitia\") between the Romans and the Jews is, however, mentioned in other sources (Justin, \"Apologia,\" xxxvi. 3, § 9). Hereditary Prince.\\nThe high esteem in which Simon was held by foreign powers impelled the people to show their appreciation of him, and on Elul 18, 141 B.C., the assembly of the priests, the people, the leaders of the people, and the elders of the land resolved that Simon should be the high priest, strategus, and ethnarch of the Jews, \"forever, until there should arise a faithful prophet\" (I Macc. xiv. 41).\\nBy this phrase they probably intended to imply that the time would come when the spirit of prophecy would again appear in Israel, enabling them to learn the will of God; or they may have meant to express their conviction that the prophet Elijah would announce the Messiah, who would belong to the house of David, and in that case there could, of course, be no ruler but him.\\nThis resolution was inscribed upon brass tablets and set up in the court of the Temple.\\nAccording to Willrich, this record can not have been quoted in the original text of the Maccabees, since the inscription states that Simon sent his deputation to Rome before he was recognized by Demetrius, and regards the Roman alliance as the motive for this confirmation, whereas xiv. 3 asserts that Demetrius was taken prisoner by the Parthians before the embassy went to Rome; furthermore, Numenius is said (xv. 15) to have returned in 139-138, when Antiochus Sidetes was already on the throne.\\nWhether the inscription is authentic or not, it is at least certain that Simon bequeathed his dignities to his children, and thus became the founder of the Hasmonean dynasty.\\nWar with the Syrians.\\nOnce more Simon became involved in the Syrian imbroglio.\\nAntiochus VII. (Sidetes), the brother of the captive Demetrius, attempted to seize the throne of Syria; in a letter written at Rhodes, before he landed on the Asiatic coast, he confirmed Simon in all the privileges granted him by previous kings, especially in the prerogative of coinage (I Macc. xv. 1-9), although this was apparently a mere sanction of the actual state of affairs.\\nBut as soon as Antiochus felt secure from Trypho he changed his attitude.\\nAt the siege of Dora he rejected the reenforcements sent by Simon, and demanded either that Simon should surrender Joppa, Gazara, and the Acra, which, he alleged, had been wrongfully taken by the Jews, or that he should pay an indemnity of one thousand talents.\\nThe result was a war in which the Syrians under Cendebeus were defeated by Simon\\'s sons Judah and John (136 B.C.).\\nThe age of Simon had led him to entrust this war to his sons, but the hope which he may have cherished, that in his old age at least he would be able to enjoy the reward of his deeds, was doomed to disappointment.\\nIn 135 B.C. Simon, the last of the Maccabean brothers, died by violence.\\nAccording to his custom, he was traveling through the country holding court, when, in the fortress of Docus, near Jericho, he and his sons Mattathias and Judah were slain by his son-in-law Ptolemeus at a banquet prepared by the last-mentioned (I Macc. xvi. 11-17; \"Ant.\" xiii. 7, § 4).\\nThe seven short years of his reign prepared the way for the events of the following one hundred years.\\nHe was succeeded by his son John Hyrcanus I.']"
      ]
     },
     "execution_count": 3,
     "metadata": {},
     "output_type": "execute_result"
    }
   ],
   "source": [
    "FOLDER = \"../data/Corpora_Falke/Wiki/test/102\"\n",
    "TEXTS = [x for x in os.listdir(FOLDER) if x.endswith(\".txt\")]\n",
    "TEXTS = [open(os.path.join(FOLDER, x)).read() for x in TEXTS]\n",
    "\n",
    "# Pre-processing\n",
    "TEXTS = [DLLM.nlp(text) for text in TEXTS]\n",
    "TEXTS = [[sent.text.strip() for sent in text.sents if sent.text.strip()] for text in TEXTS]\n",
    "TEXTS = [[DLLM.preprocess(x) for x in sentences] for sentences in TEXTS] \n",
    "TEXTS = [\"\\n\".join(x) for x in TEXTS]\n",
    "\n",
    "TEXTS"
   ]
  },
  {
   "cell_type": "markdown",
   "metadata": {},
   "source": [
    "## Summary Extraction"
   ]
  },
  {
   "cell_type": "code",
   "execution_count": 4,
   "metadata": {},
   "outputs": [
    {
     "name": "stdout",
     "output_type": "stream",
     "text": [
      "\n",
      "        You need to write a summary of the text that will be sent in the following message. The summary should be in the same style as the original text. For instance, focus on the content of the text, and do not start with \"this text is about\" or equivalent.\n",
      "\n",
      "        The summary is:\n",
      "        \n"
     ]
    }
   ],
   "source": [
    "print(DLLM.prompt_summary)"
   ]
  },
  {
   "cell_type": "code",
   "execution_count": 5,
   "metadata": {},
   "outputs": [
    {
     "name": "stderr",
     "output_type": "stream",
     "text": [
      "100%|██████████| 16/16 [00:50<00:00,  3.15s/it]\n"
     ]
    }
   ],
   "source": [
    "SUMMARIES = []\n",
    "for text in tqdm(TEXTS):\n",
    "    SUMMARIES.append(run_gpt(\n",
    "        prompt=DLLM.prompt_summary, content=text))"
   ]
  },
  {
   "cell_type": "code",
   "execution_count": 6,
   "metadata": {},
   "outputs": [
    {
     "data": {
      "text/plain": [
       "[\"A recent discovery has potentially solved the mystery of the Acra's location in Jerusalem, a fortified compound built by Antiochus Epiphanes in 168 BCE. The fortress was crucial for controlling the city and monitoring the temple, eventually falling to the Hasmoneans.\",\n",
       " 'Archaeologists have discovered the ancient Greek fort of Acra in Jerusalem, solving a long-standing mystery. The stronghold, dating back over 2,000 years, was found beneath a parking lot and was built to control the city and the Temple Mount. Acra played a significant role during the Maccabean revolt and was eventually recaptured by the Jews. The discovery, including artifacts like sling shots and imported wine jars, sheds light on the history of the fort and its inhabitants.',\n",
       " \"Researchers from the Israel Antiquities Authority have discovered the remains of the Acra stronghold in Jerusalem, built by the Greeks over 2,000 years ago to control the Temple. Evidence of the Hasmonean attempts to conquer the stronghold has also been found. The excavation in the City of David National Park has uncovered a massive wall, a tower base, and a defensive embankment, shedding light on the layout of the settlement before the Maccabean uprising. The stronghold's defenses were formidable, with lead sling shots and bronze arrowheads indicating battles fought there. The discovery provides insight into the history and non-Jewish identity of the citadel's inhabitants.\",\n",
       " \"Archaeologists in Jerusalem have potentially discovered the ruins of the Acra, a fortress built over 2,000 years ago by Antiochus IV Epiphanes. The fortress controlled access to the Temple Mount and was a stronghold for mercenary soldiers and Hellenized Jews. Recent excavations at the City of David site revealed a massive wall, a tower, and relics from ancient battles, including lead slingshots and bronze arrowheads. The discovery ends a century-long debate about the citadel's location and sheds light on Jerusalem's history before the Hasmonean revolt. The archaeologists plan to continue excavating and exploring deeper layers of the site to uncover more historical insights.\",\n",
       " 'The Acra, a Seleucid stronghold built in 186 BC near Solomon’s Temple Mount, served as a military post against the Jewish people and monitored Temple Mount activities until its demolition in 141 BC. The Temple Mount was then extended to the south to conceal the Acra, with two tunnels and staircases added for increased access. These tunnels would later be connected to Herod’s Double and Triple Gates.',\n",
       " \"The Acra fortress in Jerusalem was built by King Antiochus IV in 168-7 BCE to oppress the Jews and enforce Greek worship. Recent excavations have placed the fortress in the City of David, with evidence suggesting a fortified neighborhood for Hellenized Jews. Despite constant sieges during the Maccabean Revolt, the fortress stood until Simon Maccabeus captured it in 141 BCE. The Givati Parking lot Dig has uncovered coins and artifacts linking the site to Antiochus IV. The fortress's strategic location in the lower City of David region made it a key point for controlling potential rebellions. Thanks to the work of Doron Ben-Ami and Yana Tchekhanovets, the mystery of the Acra's location has been solved, shedding light on this historical site.\",\n",
       " 'Antiochus IV Epiphanes, a Seleucid king of the Hellenistic Syrian kingdom, reigned from 175 to 164 BC. Known for promoting Greek culture, his suppression of Judaism led to the Wars of the Maccabees. Antiochus faced challenges from Rome, Egypt, and internal conflicts, but his efforts to Hellenize his kingdom and strengthen it economically and socially were notable. His policies caused conflicts with Oriental temple organizations and the Jews, leading to a revolt led by Judas Maccabeus. Despite his military might, Antiochus faced resistance and ultimately died in 164 BC, with some believing his death was a punishment for his actions.',\n",
       " 'The Temple Mount area has been a focus of historical and geographical studies for many years. Scholars like Edward Robinson, Charles W. Wilson, Charles Warren, Kathleen M. Kenyon, Benjamin Mazar, Meir Ben Dov, Eilat Mazar, and the Israel Antiquities Authority have conducted extensive excavations in the area, uncovering significant findings from various historical periods. These findings include biblical sites, architectural structures, water systems, inscriptions, and artifacts dating from the First Temple period to the Middle Ages. The excavations have provided valuable insights into the history of Jerusalem, including the Roman, Byzantine, Islamic, and Ottoman periods.',\n",
       " \"The text discusses the location of the First Temple, exploring various historical and archaeological evidence. It mentions the biblical references to the Mountain of Yahweh in the land of Moriah, the identification of Yahweh's mountain by different groups, and the possible connections to Jerusalem's early history. The text also delves into the layout and construction of the temple, including details about Solomon's palace, the temple's dimensions, and the defensive features around the site. Additionally, it touches on the Holy of Holies, the presence of the Ark of the Covenant, and archaeological findings related to the First Temple period. The text concludes by considering the strategic aspects of the temple's location and the challenges in uncovering more definitive evidence from that time.\",\n",
       " 'The Hasmonean dynasty ruled Judea and surrounding regions semi-autonomously from the Seleucids between c.? 140 and c.? 116 BC, expanding into neighboring territories and taking the title \"basileus.\" The dynasty became fully independent in 110 BC but was conquered by the Roman Republic in 63 BC. Despite surviving for 103 years, the dynasty yielded to the Herodian Dynasty in 37 BC. The dynasty was established under Simon Maccabaeus after the successful Maccabean Revolt against the Seleucids. The Hasmoneans faced challenges from the Romans, Parthians, and internal conflicts, leading to their eventual downfall. The dynasty\\'s legacy includes a brief resurgence, Roman client state status, and the end of Jewish self-governance. The Hasmoneans\\' Hellenization and dynastic quarrels contributed to their decline, with their story preserved in historical sources like Josephus.',\n",
       " 'Archaeologists in Jerusalem have made a significant discovery under a parking lot, uncovering the remains of a fortress used by the Seleucid Greek king Antiochus Epiphanes during his siege of Jerusalem in 168 BCE. This fortress, part of the Acra fortress system, played a key role in the historical events surrounding the Hanukkah story, where Antiochus attempted to suppress Jewish religious practices, leading to the Maccabean revolt. The fortress was manned by Hellenized Jews and mercenaries, highlighting the complex dynamics of the time.',\n",
       " \"Yoram Tsafrir, an Israeli archaeologist, conducted research on various topics such as Byzantine influence on synagogues, demography of Palestine, and excavations at sites like Beit She'an and Rehoboth. He was a Professor Emeritus at the Hebrew University of Jerusalem and a member of the Israel Academy of Sciences and Humanities. Tsafrir's work focused on the archaeology and history of Palestine during different periods, and he contributed to publications and projects related to ancient monuments and cities. Additionally, he played a significant role in updating and enhancing the miniature models of ancient Palestine. Tsafrir also collaborated on the creation of a scale model of Jerusalem depicting the city before its destruction by the Romans in 70 AD.\",\n",
       " 'The text discusses the historical significance of the Fortress of Acra in Jerusalem, built by Antiochus Epiphanes in 168 BCE. It played a role in the Maccabean Revolt and the formation of the Hasmonean Kingdom. The fortress symbolized anti-Jewish paganism and was occupied by a Greek garrison and Jewish confederates. The Hellenization of Jerusalem led to tensions between observant Jews and those adopting Greek culture. The exact location of the Acra remains debated, with ongoing discussions and archaeological discoveries shedding new light on its possible position.',\n",
       " \"A recent discovery at the Givati parking lot in the City of David National Park in Jerusalem has potentially solved the mystery of the location of the Acra, a fortified compound built by Antiochus Epiphanes in 168 BCE. The excavation, funded by the Elad association, has uncovered artifacts and structures from various periods in Jerusalem's history. Recent findings include a massive wall, a tower, and defensive elements like a slanted slope. Archaeologists also found lead sling stones, bronze arrowheads, and catapult stones marked with a pitchfork symbol, evidence of fierce battles during the time of the Hasmoneans who eventually conquered the fortress in 141 BC.\",\n",
       " \"The Hasmonean kingdom saw significant events unfold in the 2nd century BCE. Simon Thassi captured and destroyed the Acra, while his son John Hyrcanus took over leadership after his murder. Hyrcanus accepted Hellenistic culture and paid tribute to the Seleucids. A civil war among Seleucid rulers led to the independence of Judea. Hyrcanus expanded the kingdom's influence through military conquests. Later, Roman influence grew in the region during the Third Mithridatic War, impacting Judea and Jerusalem.\",\n",
       " \"Simon Maccabeus, a Hasmonean prince and high priest, played a crucial role in the war of liberation against the Syrians. He was praised for his counsel and proved to be sagacious and circumspect. Simon's military successes led to his appointment as strategus by Antiochus VI. He secured Judea's independence, minted coins, and fortified cities. Simon's leadership brought peace and alliances with Rome and other nations. He was honored by the people and became the high priest, strategus, and ethnarch of the Jews. Simon's legacy continued through his children, marking the beginning of the Hasmonean dynasty. His reign ended tragically with his violent death in 135 B.C., paving the way for future events in Judea.\"]"
      ]
     },
     "execution_count": 6,
     "metadata": {},
     "output_type": "execute_result"
    }
   ],
   "source": [
    "SUMMARIES"
   ]
  },
  {
   "cell_type": "markdown",
   "metadata": {},
   "source": [
    "## Entity Extraction"
   ]
  },
  {
   "cell_type": "code",
   "execution_count": 7,
   "metadata": {},
   "outputs": [
    {
     "name": "stdout",
     "output_type": "stream",
     "text": [
      "\n",
      "        You need to extract all the entities from the text that will be sent in the following message. You must not introduce a hierarchy over the entities, such as Person or Concept. Each entity should appear in the text as is.\n",
      "\n",
      "        In your answer, you must give the output in a .csv file with the columns `entity` and `surface`. `entity` contains one label, whereas `surface` contains all the surface forms of that entity. The columns are separated by `;`, and the surface forms in the `surface` column by `,`.\n",
      "\n",
      "        The output is:\n",
      "        ```csv\n",
      "        ```\n",
      "        \n"
     ]
    }
   ],
   "source": [
    "print(DLLM.prompt_entity)"
   ]
  },
  {
   "cell_type": "code",
   "execution_count": 8,
   "metadata": {},
   "outputs": [
    {
     "name": "stderr",
     "output_type": "stream",
     "text": [
      "100%|██████████| 16/16 [00:46<00:00,  2.92s/it]\n"
     ]
    }
   ],
   "source": [
    "ENTITIES = []\n",
    "for text in tqdm(SUMMARIES):\n",
    "    ENTITIES.append(run_gpt(\n",
    "        prompt=DLLM.prompt_entity, content=text))"
   ]
  },
  {
   "cell_type": "code",
   "execution_count": 9,
   "metadata": {},
   "outputs": [
    {
     "data": {
      "text/plain": [
       "['```csv\\nentity;surface\\nAcra;Acra\\nJerusalem;Jerusalem\\nAntiochus Epiphanes;Antiochus Epiphanes\\n168 BCE;168 BCE\\nHasmoneans;Hasmoneans\\n```',\n",
       " '```csv\\nentity;surface\\nArchaeologists;Archaeologists\\nancient Greek fort;ancient Greek fort, fort of Acra\\nAcra;Acra\\nJerusalem;Jerusalem\\nstronghold;stronghold\\nTemple Mount;Temple Mount\\nMaccabean revolt;Maccabean revolt\\nJews;Jews\\ndiscovery;discovery\\nartifacts;artifacts\\nsling shots;sling shots\\nimported wine jars;imported wine jars\\nhistory;history\\ninhabitants;inhabitants\\n```',\n",
       " '```csv\\nentity;surface\\nIsrael Antiquities Authority;Researchers from the Israel Antiquities Authority\\nAcra stronghold;Acra stronghold\\nJerusalem;Jerusalem\\nGreeks;Greeks\\nTemple;Temple\\nHasmonean;Hasmonean\\nCity of David National Park;City of David National Park\\nMaccabean;Maccabean\\nlead sling shots;lead sling shots\\nbronze arrowheads;bronze arrowheads\\ncitadel;citadel\\n```',\n",
       " \"```csv\\nentity;surface\\nArchaeologists;Archaeologists\\nJerusalem;Jerusalem\\nAcra;Acra\\nfortress;fortress\\nAntiochus IV Epiphanes;Antiochus IV Epiphanes\\nTemple Mount;Temple Mount\\nmercenary soldiers;mercenary soldiers\\nHellenized Jews;Hellenized Jews\\nCity of David;City of David\\nwall;wall\\ntower;tower\\nancient battles;ancient battles\\nlead slingshots;lead slingshots\\nbronze arrowheads;bronze arrowheads\\ncentury-long debate;century-long debate\\ncitadel's location;citadel's location\\nJerusalem's history;Jerusalem's history\\nHasmonean revolt;Hasmonean revolt\\nexcavations;excavations\\nsite;site\\nhistorical insights;historical insights\\n```\",\n",
       " '```csv\\nentity;surface\\nAcra;The Acra\\nSeleucid stronghold\\nSolomon’s Temple Mount;Temple Mount\\nJewish people\\nTemple Mount\\nAcra\\nHerod’s Double and Triple Gates\\n```',\n",
       " '```csv\\nentity;surface\\nAcra;Acra, the Acra\\nJerusalem;Jerusalem\\nKing Antiochus IV;King Antiochus IV\\nJews;Jews\\nGreek worship;Greek worship\\nCity of David;City of David, the City of David\\nHellenized Jews;Hellenized Jews\\nMaccabean Revolt;Maccabean Revolt\\nSimon Maccabeus;Simon Maccabeus\\nGivati Parking lot Dig;Givati Parking lot Dig\\nAntiochus IV;Antiochus IV\\nDoron Ben-Ami;Doron Ben-Ami\\nYana Tchekhanovets;Yana Tchekhanovets\\n```',\n",
       " '```csv\\nentity;surface\\nAntiochus IV Epiphanes;Antiochus IV Epiphanes\\nSeleucid king;Seleucid king\\nHellenistic Syrian kingdom;Hellenistic Syrian kingdom\\nGreek culture;Greek culture\\nJudaism;Judaism\\nWars of the Maccabees;Wars of the Maccabees\\nRome;Rome\\nEgypt;Egypt\\nHellenize;Hellenize\\nOriental temple organizations;Oriental temple organizations\\nJews;Jews\\nJudas Maccabeus;Judas Maccabeus\\n```',\n",
       " '```csv\\nentity;surface\\nTemple Mount;The Temple Mount area\\nEdward Robinson;Edward Robinson\\nCharles W. Wilson;Charles W. Wilson\\nCharles Warren;Charles Warren\\nKathleen M. Kenyon;Kathleen M. Kenyon\\nBenjamin Mazar;Benjamin Mazar\\nMeir Ben Dov;Meir Ben Dov\\nEilat Mazar;Eilat Mazar\\nIsrael Antiquities Authority;the Israel Antiquities Authority\\nJerusalem;Jerusalem\\nRoman;Roman\\nByzantine;Byzantine\\nIslamic;Islamic\\nOttoman;Ottoman\\n```',\n",
       " \"```csv\\nentity;surface\\nFirst Temple;First Temple\\nMountain of Yahweh;Mountain of Yahweh\\nMoriah;land of Moriah\\nYahweh's mountain;Yahweh's mountain\\nJerusalem;Jerusalem\\nSolomon's palace;Solomon's palace\\nHoly of Holies;Holy of Holies\\nArk of the Covenant;Ark of the Covenant\\nFirst Temple period;First Temple period\\n```\",\n",
       " '```csv\\nentity;surface\\nHasmonean dynasty;Hasmonean dynasty, The Hasmoneans\\nJudea;Judea\\nSeleucids;Seleucids\\nbasileus;basileus\\nRoman Republic;Roman Republic\\nHerodian Dynasty;Herodian Dynasty\\nSimon Maccabaeus;Simon Maccabaeus\\nMaccabean Revolt;Maccabean Revolt\\nRomans;Romans\\nParthians;Parthians\\nJewish;Jewish\\nJosephus;Josephus\\n```',\n",
       " '```csv\\nentity;surface\\nArchaeologists;Archaeologists\\nJerusalem;Jerusalem\\nparking lot;parking lot\\nfortress;fortress,Acra fortress\\nSeleucid Greek king Antiochus Epiphanes;Seleucid Greek king Antiochus Epiphanes,Antiochus Epiphanes\\n168 BCE;168 BCE\\nAcra fortress system;Acra fortress system\\nHanukkah;Hanukkah\\nJewish;Jewish\\nMaccabean revolt;Maccabean revolt\\nHellenized Jews;Hellenized Jews\\nmercenaries;mercenaries\\n```',\n",
       " \"```csv\\nentity;surface\\nYoram Tsafrir;Yoram Tsafrir\\nIsraeli archaeologist;Israeli archaeologist\\nByzantine influence;Byzantine influence\\nsynagogues;synagogues\\ndemography of Palestine;demography of Palestine\\nBeit She'an;Beit She'an\\nRehoboth;Rehoboth\\nProfessor Emeritus;Professor Emeritus\\nHebrew University of Jerusalem;Hebrew University of Jerusalem\\nIsrael Academy of Sciences and Humanities;Israel Academy of Sciences and Humanities\\narchaeology;archaeology\\nhistory of Palestine;history of Palestine\\npublications;publications\\nprojects;projects\\nancient monuments;ancient monuments\\ncities;cities\\nminiature models;miniature models\\nancient Palestine;ancient Palestine\\nscale model;scale model\\nJerusalem;Jerusalem\\nRomans;Romans\\n70 AD;70 AD\\n```\",\n",
       " '```csv\\nentity;surface\\nFortress of Acra;Fortress of Acra, Acra\\nJerusalem;Jerusalem\\nAntiochus Epiphanes;Antiochus Epiphanes\\n168 BCE;168 BCE\\nMaccabean Revolt;Maccabean Revolt\\nHasmonean Kingdom;Hasmonean Kingdom\\nGreek;Greek\\nJewish;Jewish\\nHellenization;Hellenization\\nobservant Jews;observant Jews\\nGreek culture;Greek culture\\nAcra;Acra\\n```',\n",
       " '```csv\\nentity;surface\\nGivati parking lot;Givati parking lot\\nCity of David National Park;City of David National Park\\nJerusalem;Jerusalem\\nAcra;Acra\\nAntiochus Epiphanes;Antiochus Epiphanes\\n168 BCE;168 BCE\\nElad association;Elad association\\nartifacts;artifacts\\nstructures;structures\\nmassive wall;massive wall\\ntower;tower\\ndefensive elements;defensive elements\\nslanted slope;slanted slope\\nArchaeologists;Archaeologists\\nlead sling stones;lead sling stones\\nbronze arrowheads;bronze arrowheads\\ncatapult stones;catapult stones\\npitchfork symbol;pitchfork symbol\\nHasmoneans;Hasmoneans\\nfortress;fortress\\n141 BC;141 BC\\n```',\n",
       " '```csv\\nentity;surface\\nHasmonean kingdom;Hasmonean kingdom\\nSimon Thassi;Simon Thassi\\nAcra;Acra\\nJohn Hyrcanus;John Hyrcanus\\nHellenistic culture;Hellenistic culture\\nSeleucids;Seleucids\\nJudea;Judea\\nRoman;Roman\\nThird Mithridatic War;Third Mithridatic War\\nJerusalem;Jerusalem\\n```',\n",
       " '```csv\\nentity;surface\\nSimon Maccabeus;Simon Maccabeus, Simon\\nHasmonean prince;Hasmonean prince\\nhigh priest;high priest\\nSyrians;Syrians\\nAntiochus VI;Antiochus VI\\nJudea;Judea\\nRome;Rome\\nJews;Jews\\nHasmonean dynasty;Hasmonean dynasty\\n135 B.C.;135 B.C.\\n```']"
      ]
     },
     "execution_count": 9,
     "metadata": {},
     "output_type": "execute_result"
    }
   ],
   "source": [
    "ENTITIES"
   ]
  },
  {
   "cell_type": "code",
   "execution_count": 10,
   "metadata": {},
   "outputs": [
    {
     "name": "stdout",
     "output_type": "stream",
     "text": [
      "\n",
      "        You need to group all the entities from the .csv that will be sent in the following messages into one file. \n",
      "\n",
      "        In your answer, you must give the output in a .csv file with the columns `entity` and `surface`. `entity` contains one label, whereas `surface` contains all the surface forms of that entity. The columns are separated by `;`, and the surface forms in the `surface` column by `,`.\n",
      "\n",
      "        The output is:\n",
      "        ```csv\n",
      "        ```\n",
      "        \n"
     ]
    }
   ],
   "source": [
    "print(DLLM.prompt_group_entity)"
   ]
  },
  {
   "cell_type": "code",
   "execution_count": 11,
   "metadata": {},
   "outputs": [],
   "source": [
    "GROUPED_ENTITIES = run_gpt(\n",
    "    prompt=DLLM.prompt_group_entity, content=ENTITIES)"
   ]
  },
  {
   "cell_type": "code",
   "execution_count": 12,
   "metadata": {},
   "outputs": [
    {
     "name": "stdout",
     "output_type": "stream",
     "text": [
      "```csv\n",
      "entity;surface\n",
      "Acra;Acra, the Acra, Fortress of Acra, Acra fortress, Acra stronghold, Acra fortress system\n",
      "Jerusalem;Jerusalem\n",
      "Antiochus Epiphanes;Antiochus Epiphanes, King Antiochus IV, Antiochus IV Epiphanes, Seleucid Greek king Antiochus Epiphanes\n",
      "168 BCE;168 BCE\n",
      "Hasmoneans;Hasmoneans, Hasmonean, Hasmonean dynasty, The Hasmoneans, Hasmonean Kingdom\n",
      "Archaeologists;Archaeologists, Researchers from the Israel Antiquities Authority, Israeli archaeologist\n",
      "ancient Greek fort;ancient Greek fort, fort of Acra\n",
      "stronghold;stronghold\n",
      "Temple Mount;Temple Mount, Solomon’s Temple Mount, Temple Mount, Temple Mount, The Temple Mount area\n",
      "Maccabean revolt;Maccabean revolt, Maccabean Revolt, Maccabean Revolt\n",
      "Jews;Jews, Jewish, observant Jews\n",
      "discovery;discovery\n",
      "artifacts;artifacts\n",
      "sling shots;sling shots, lead sling shots, lead sling stones\n",
      "imported wine jars;imported wine jars\n",
      "history;history, Jerusalem's history\n",
      "inhabitants;inhabitants\n",
      "Greeks;Greeks\n",
      "Temple;Temple\n",
      "City of David National Park;City of David National Park\n",
      "lead sling shots;lead sling shots\n",
      "bronze arrowheads;bronze arrowheads\n",
      "citadel;citadel\n",
      "fortress;fortress\n",
      "Hellenized Jews;Hellenized Jews\n",
      "mercenary soldiers;mercenary soldiers, mercenaries\n",
      "wall;wall\n",
      "tower;tower\n",
      "ancient battles;ancient battles\n",
      "century-long debate;century-long debate\n",
      "citadel's location;citadel's location\n",
      "excavations;excavations\n",
      "site;site\n",
      "historical insights;historical insights\n",
      "Greek worship;Greek worship\n",
      "Simon Maccabeus;Simon Maccabeus, Simon Maccabeus, Simon Thassi, Simon\n",
      "Givati Parking lot Dig;Givati Parking lot Dig\n",
      "Doron Ben-Ami;Doron Ben-Ami\n",
      "Yana Tchekhanovets;Yana Tchekhanovets\n",
      "Seleucid king;Seleucid king\n",
      "Hellenistic Syrian kingdom;Hellenistic Syrian kingdom\n",
      "Greek culture;Greek culture\n",
      "Judaism;Judaism\n",
      "Wars of the Maccabees;Wars of the Maccabees\n",
      "Rome;Rome\n",
      "Egypt;Egypt\n",
      "Hellenize;Hellenize\n",
      "Oriental temple organizations;Oriental temple organizations\n",
      "Judas Maccabeus;Judas Maccabeus\n",
      "First Temple;First Temple\n",
      "Mountain of Yahweh;Mountain of Yahweh\n",
      "Moriah;land of Moriah\n",
      "Yahweh's mountain;Yahweh's mountain\n",
      "Solomon's palace;Solomon's palace\n",
      "Holy of Holies;Holy of Holies\n",
      "Ark of the Covenant;Ark of the Covenant\n",
      "First Temple period;First Temple period\n",
      "Judea;Judea\n",
      "basileus;basileus\n",
      "Roman Republic;Roman Republic\n",
      "Herodian Dynasty;Herodian Dynasty\n",
      "Romans;Romans\n",
      "Parthians;Parthians\n",
      "Josephus;Josephus\n",
      "Yoram Tsafrir;Yoram Tsafrir\n",
      "Byzantine influence;Byzantine influence\n",
      "synagogues;synagogues\n",
      "demography of Palestine;demography of Palestine\n",
      "Beit She'an;Beit She'an\n",
      "Rehoboth;Rehoboth\n",
      "Professor Emeritus;Professor Emeritus\n",
      "Hebrew University of Jerusalem;Hebrew University of Jerusalem\n",
      "Israel Academy of Sciences and Humanities;Israel Academy of Sciences and Humanities\n",
      "archaeology;archaeology\n",
      "history of Palestine;history of Palestine\n",
      "publications;publications\n",
      "projects;projects\n",
      "ancient monuments;ancient monuments\n",
      "cities;cities\n",
      "miniature models;miniature models\n",
      "ancient Palestine;ancient Palestine\n",
      "scale model;scale model\n",
      "70 AD;70 AD\n",
      "Fortress of Acra;Fortress of Acra\n",
      "Seleucid stronghold;Seleucid stronghold\n",
      "Temple;Temple\n",
      "City of David;City of David\n",
      "wall;wall\n",
      "Hellenized Jews;Hellenized Jews\n",
      "lead slingshots;lead slingshots\n",
      "century-long debate;century-long debate\n",
      "parking lot;parking lot\n",
      "Elad association;Elad association\n",
      "structures;structures\n",
      "massive wall;massive wall\n",
      "defensive elements;defensive elements\n",
      "slanted slope;slanted slope\n",
      "lead sling stones;lead sling stones\n",
      "catapult stones;catapult stones\n",
      "pitchfork symbol;pitchfork symbol\n",
      "141 BC;141 BC\n",
      "Simon Thassi;Simon Thassi\n",
      "John Hyrcanus;John Hyrcanus\n",
      "Third Mithridatic War;Third Mithridatic War\n",
      "Simon Maccabeus;Simon Maccabeus\n",
      "high priest;high priest\n",
      "Syrians;Syrians\n",
      "Antiochus VI;Antiochus VI\n",
      "135 B.C.;135 B.C.\n",
      "```  \n"
     ]
    }
   ],
   "source": [
    "print(GROUPED_ENTITIES)"
   ]
  },
  {
   "cell_type": "markdown",
   "metadata": {},
   "source": [
    "## Relation Extraction"
   ]
  },
  {
   "cell_type": "code",
   "execution_count": 13,
   "metadata": {},
   "outputs": [
    {
     "name": "stdout",
     "output_type": "stream",
     "text": [
      "\n",
      "        You need to extract all the relations from the text that will be sent in the following message. Each relation is in the form of a triple (subject, predicate, object), where subject and object are entities that you identified in the previous step. `subject` and `object` should be from the list of entities you will be sent. Each relation must be unique, no repetitions.\n",
      "\n",
      "        In your answer, you must give the output in a .csv file with the columns with the columns `subject`,  `predicate` and `object`. The columns are separated by `;`.\n",
      "\n",
      "        The output is:\n",
      "        ```csv\n",
      "        ```\n",
      "        \n"
     ]
    }
   ],
   "source": [
    "print(DLLM.prompt_relation)"
   ]
  },
  {
   "cell_type": "code",
   "execution_count": 14,
   "metadata": {},
   "outputs": [
    {
     "name": "stderr",
     "output_type": "stream",
     "text": [
      "100%|██████████| 16/16 [01:05<00:00,  4.11s/it]\n"
     ]
    }
   ],
   "source": [
    "INFO = {\"entities\": GROUPED_ENTITIES}\n",
    "RELATIONS = []\n",
    "for text in tqdm(SUMMARIES):\n",
    "    RELATIONS.append(run_gpt(\n",
    "        prompt=DLLM.prompt_relation, content=text, **INFO))"
   ]
  },
  {
   "cell_type": "code",
   "execution_count": 15,
   "metadata": {},
   "outputs": [
    {
     "data": {
      "text/plain": [
       "['```csv\\nsubject;predicate;object\\nAcra;located in;Jerusalem\\nAcra;built by;Antiochus Epiphanes\\nAcra;fallen to;Hasmoneans\\nfortress;was crucial for;controlling the city\\nfortress;was crucial for;monitoring the temple\\nfortress;was crucial for;controlling the city\\nfortress;was crucial for;monitoring the temple\\nAntiochus Epiphanes;built;Acra\\nAntiochus Epiphanes;built;fortress\\nAntiochus Epiphanes;built;fortified compound\\nfortress;was crucial for;controlling the city\\nfortress;was crucial for;monitoring the temple\\nfortress;was crucial for;controlling the city\\nfortress;was crucial for;monitoring the temple\\n```',\n",
       " '```csv\\nArchaeologists;discovered;ancient Greek fort\\nAcra;solved;mystery\\nfort;dating back over 2,000 years\\nfort;found;beneath parking lot\\nfort;built;to control city and Temple Mount\\nAcra;played role;Maccabean revolt\\nAcra;recaptured;Jews\\ndiscovery;sheds light on;history of fort and inhabitants\\ndiscovery;included;artifacts like sling shots and imported wine jars\\n```',\n",
       " \"```csv\\nsubject;predicate;object\\nIsrael Antiquities Authority;discovered;Acra stronghold\\nAcra stronghold;built by;Greeks\\nAcra stronghold;located in;Jerusalem\\nHasmoneans;attempted to conquer;Acra stronghold\\nexcavation;uncovered;massive wall\\nexcavation;uncovered;tower base\\nexcavation;uncovered;defensive embankment\\nsettlement;existed before;Maccabean uprising\\ndefenses of stronghold;included;lead sling shots\\ndefenses of stronghold;included;bronze arrowheads\\ndiscovery;provides insight into;history and non-Jewish identity\\ncitadel's inhabitants;had;non-Jewish identity\\n```\",\n",
       " \"```csv\\nsubject;predicate;object\\nArchaeologists;discovered;Acra\\nAcra;built_by;Antiochus Epiphanes\\nAcra;controlled_access_to;Temple Mount\\nAcra;was;stronghold\\nAcra;was;fortress\\nAcra;was;fortress system\\nAcra;was;stronghold for mercenary soldiers\\nAcra;was;stronghold for Hellenized Jews\\nexcavations;revealed;massive wall\\nexcavations;revealed;tower\\nexcavations;revealed;relics\\nrelics;include;lead slingshots\\nrelics;include;bronze arrowheads\\ndiscovery;ends;debate\\ndiscovery;sheds light on;Jerusalem's history\\narchaeologists;plan to;continue excavating\\narchaeologists;plan to;explore deeper layers\\narchaeologists;plan to;uncover insights\\n```\",\n",
       " '```csv\\nsubject;predicate;object\\nAcra;built in;186 BC\\nAcra;served as military post against;Jewish people\\nAcra;monitored;Temple Mount activities\\nAcra;demolished in;141 BC\\nTemple Mount;extended to the south to conceal;Acra\\nTemple Mount;has tunnels and staircases added for;increased access\\ntunnels;connected to;Herod’s Double and Triple Gates\\n```',\n",
       " \"```csv\\nsubject;predicate;object\\nAcra;built by;King Antiochus IV\\nAcra;located in;City of David\\nexcavations;uncovered;coins and artifacts\\nGivati Parking lot Dig;linked to;Antiochus IV\\nfortress;stood until;Simon Maccabeus captured it\\nDoron Ben-Ami;worked with;Yana Tchekhanovets\\nmystery of Acra's location;solved by;Doron Ben-Ami and Yana Tchekhanovets\\n```\",\n",
       " '```csv\\nAntiochus Epiphanes;reigned;175 to 164 BC\\nAntiochus Epiphanes;known for;promoting Greek culture\\nAntiochus Epiphanes;faced;challenges from Rome, Egypt, and internal conflicts\\nAntiochus Epiphanes;efforts;strengthen his kingdom economically and socially\\nAntiochus Epiphanes;caused conflicts with;Oriental temple organizations and the Jews\\nAntiochus Epiphanes;led to;a revolt by Judas Maccabeus\\nAntiochus Epiphanes;died in;164 BC\\nAntiochus Epiphanes;believed;death was a punishment for his actions\\nJudas Maccabeus;led;Maccabean revolt\\nJudas Maccabeus;revolted against;Antiochus Epiphanes\\n```',\n",
       " '```csv\\nsubject;predicate;object\\nTemple Mount;has been a focus of;historical and geographical studies\\nEdward Robinson;conducted;excavations\\nCharles W. Wilson;conducted;excavations\\nCharles Warren;conducted;excavations\\nKathleen M. Kenyon;conducted;excavations\\nBenjamin Mazar;conducted;excavations\\nMeir Ben Dov;conducted;excavations\\nEilat Mazar;conducted;excavations\\nIsrael Antiquities Authority;conducted;excavations\\nexcavations;uncovered;significant findings\\nfindings;include;biblical sites\\nfindings;include;architectural structures\\nfindings;include;water systems\\nfindings;include;inscriptions\\nfindings;include;artifacts\\nexcavations;provided;valuable insights\\nexcavations;provided;insights into;history of Jerusalem\\nhistory of Jerusalem;includes;Roman period\\nhistory of Jerusalem;includes;Byzantine period\\nhistory of Jerusalem;includes;Islamic period\\nhistory of Jerusalem;includes;Ottoman period\\n```',\n",
       " '```csv\\nsubject;predicate;object\\nFirst Temple;located in;Jerusalem\\nFirst Temple;related to;Mountain of Yahweh\\nFirst Temple;related to;Moriah\\nFirst Temple;constructed by;Solomon\\nFirst Temple;contained;Holy of Holies\\nFirst Temple;contained;Ark of the Covenant\\nFirst Temple;period;First Temple period\\nJerusalem;has history of;First Temple\\nJerusalem;has history of;Temple Mount\\nJerusalem;has history of;City of David National Park\\nArchaeologists;conducted;excavations\\nArchaeologists;made;discovery\\nArchaeologists;found;artifacts\\nArchaeologists;found;sling shots\\nArchaeologists;found;imported wine jars\\nArchaeologists;found;lead sling shots\\nArchaeologists;found;bronze arrowheads\\nAcra;was an;ancient Greek fort\\nAcra;was a;stronghold\\nAcra;was a;fortress\\nAcra;was a;citadel\\nAcra;was a;site\\nAcra;was a;location\\nAcra;was a;fortress system\\nAcra;was a;defensive element\\nAcra;was a;massive wall\\nAcra;was a;slanted slope\\nAcra;was a;lead sling stones\\nAcra;was a;catapult stones\\nAcra;was a;pitchfork symbol\\nAcra;was a;Seleucid stronghold\\nAcra;was a;Hellenized Jews stronghold\\nAcra;was a;wall\\nAcra;was a;tower\\nAcra;was a;site of ancient battles\\nAcra;was a;location of century-long debate\\nAcra;was a;location of Givati Parking lot Dig\\nAcra;was a;location of Elad association\\nAcra;was a;location of structures\\nAcra;was a;location of parking lot\\nAcra;was a;location of defensive elements\\nAcra;was a;location of lead sling stones\\nAcra;was a;location of catapult stones\\nAcra;was a;location of pitchfork symbol\\nAcra;was a;location of massive wall\\nAcra;was a;location of slanted slope\\nAcra;was a;location of Seleucid stronghold\\nAcra;was a;location of Hellenized Jews stronghold\\n```',\n",
       " '```csv\\nsubject;predicate;object\\nHasmonean dynasty;ruled;Judea and surrounding regions\\nHasmonean dynasty;expanded into;neighboring territories\\nHasmonean dynasty;taking the title;\"basileus\"\\nHasmonean dynasty;conquered by;Roman Republic\\nHasmonean dynasty;yielded to;Herodian Dynasty\\nHasmonean dynasty;established under;Simon Maccabaeus\\nMaccabean Revolt;successful against;Seleucids\\nHasmoneans;faced challenges from;Romans\\nHasmoneans;faced challenges from;Parthians\\nHasmoneans;faced challenges from;internal conflicts\\nHasmoneans;leading to;eventual downfall\\nHasmoneans;legacy includes;a brief resurgence\\nHasmoneans;legacy includes;Roman client state status\\nHasmoneans;legacy includes;end of Jewish self-governance\\nHasmoneans;Hellenization contributed to;decline\\nHasmoneans;dynastic quarrels contributed to;decline\\nHasmoneans;story preserved in;historical sources like Josephus\\n```',\n",
       " '```csv\\nsubject;predicate;object\\nJerusalem;uncovering;remains of a fortress\\nfortress;part of;Acra fortress system\\nfortress;played a role in;Hanukkah story\\nAntiochus Epiphanes;used;fortress\\nAntiochus Epiphanes;siege of;Jerusalem\\nAntiochus Epiphanes;attempted to suppress;Jewish religious practices\\nAntiochus Epiphanes;leading to;Maccabean revolt\\nfortress;was manned by;Hellenized Jews and mercenaries\\n```',\n",
       " \"```csv\\nsubject;predicate;object\\nYoram Tsafrir;conducted research on;Byzantine influence on synagogues\\nYoram Tsafrir;conducted research on;demography of Palestine\\nYoram Tsafrir;conducted research on;excavations at Beit She'an\\nYoram Tsafrir;conducted research on;excavations at Rehoboth\\nYoram Tsafrir;was a Professor Emeritus at;Hebrew University of Jerusalem\\nYoram Tsafrir;was a member of;Israel Academy of Sciences and Humanities\\nYoram Tsafrir;focused on;archaeology and history of Palestine\\nYoram Tsafrir;contributed to;publications related to ancient monuments\\nYoram Tsafrir;contributed to;projects related to ancient cities\\nYoram Tsafrir;played a significant role in;updating miniature models of ancient Palestine\\nYoram Tsafrir;collaborated on the creation of;a scale model of Jerusalem\\nJerusalem;depicted in;scale model before its destruction by the Romans in 70 AD\\n```\",\n",
       " '```csv\\nsubject;predicate;object\\nAcra;built by;Antiochus Epiphanes\\nAcra;located in;Jerusalem\\nAcra;played a role in;Maccabean Revolt\\nAcra;symbolized;anti-Jewish paganism\\nAcra;occupied by;Greek garrison\\nAcra;occupied by;Jewish confederates\\nAcra;debated location;exact location\\nAcra;subject of;ongoing discussions\\nAcra;subject of;archaeological discoveries\\nAntiochus Epiphanes;built;Fortress of Acra\\nAntiochus Epiphanes;built in;168 BCE\\nFortress of Acra;played a role in;Maccabean Revolt\\nFortress of Acra;played a role in;formation of Hasmonean Kingdom\\nMaccabean Revolt;led to;tensions between observant Jews and those adopting Greek culture\\nHellenization of Jerusalem;led to;tensions between observant Jews and those adopting Greek culture\\nAcra;remains debated;exact location\\ndiscussions;shedding new light on;possible position of Acra\\n```',\n",
       " '```csv\\nsubject;predicate;object\\nGivati Parking lot Dig;located in;City of David National Park\\nexcavation;funded by;Elad association\\nexcavation;uncovered;artifacts\\nexcavation;uncovered;structures\\nexcavation;revealed;massive wall\\nexcavation;revealed;tower\\nexcavation;revealed;defensive elements\\nexcavation;revealed;slanted slope\\nexcavation;revealed;lead sling stones\\nexcavation;revealed;bronze arrowheads\\nexcavation;revealed;catapult stones\\ncatapult stones;marked with;pitchfork symbol\\nHellenized Jews;conquered;fortress\\nHasmoneans;conquered;fortress\\nHasmoneans;conquered;fortress\\nHasmoneans;conquered;fortress\\n```',\n",
       " \"```csv\\nsubject;predicate;object\\nSimon Thassi;captured;Acra\\nSimon Thassi;destroyed;Acra\\nJohn Hyrcanus;took over leadership;Hasmonean Kingdom\\nHyrcanus;accepted;Hellenistic culture\\nHyrcanus;paid tribute to;Seleucids\\ncivil war;led to;independence of Judea\\nHyrcanus;expanded;kingdom's influence\\nRoman influence;grew in;region\\nThird Mithridatic War;impacted;Judea\\nThird Mithridatic War;impacted;Jerusalem\\n```\",\n",
       " \"```csv\\nsubject;predicate;object\\nSimon Maccabeus;played a crucial role in;war of liberation against the Syrians\\nSimon Maccabeus;was appointed as;strategus by Antiochus VI\\nSimon Maccabeus;secured;Judea's independence\\nSimon Maccabeus;minted;coins\\nSimon Maccabeus;fortified;cities\\nSimon Maccabeus;brought;peace\\nSimon Maccabeus;brought;alliances with Rome and other nations\\nSimon Maccabeus;was honored by;the people\\nSimon Maccabeus;became;high priest\\nSimon Maccabeus;became;strategus\\nSimon Maccabeus;became;ethnarch of the Jews\\nSimon Maccabeus;marked;the beginning of the Hasmonean dynasty\\nSimon Maccabeus;reign ended tragically with;violent death in 135 B.C.\\nSimon Maccabeus;paved the way for;future events in Judea\\n```  \"]"
      ]
     },
     "execution_count": 15,
     "metadata": {},
     "output_type": "execute_result"
    }
   ],
   "source": [
    "RELATIONS"
   ]
  },
  {
   "cell_type": "code",
   "execution_count": 16,
   "metadata": {},
   "outputs": [
    {
     "name": "stdout",
     "output_type": "stream",
     "text": [
      "\n",
      "        You need to group all the relations from the .csv that will be sent in the following messages. If there are duplicates, only keep one relation and ensure that each relation is unique. \n",
      "\n",
      "        In your answer, you must give the output in a .csv file with the columns with the columns `subject`,  `predicate` and `object`. The columns are separated by `;`.\n",
      "\n",
      "        The output is:\n",
      "        ```csv\n",
      "        ```\n",
      "        \n"
     ]
    }
   ],
   "source": [
    "print(DLLM.prompt_group_relation)"
   ]
  },
  {
   "cell_type": "code",
   "execution_count": 17,
   "metadata": {},
   "outputs": [],
   "source": [
    "GROUPED_RELATIONS = run_gpt(\n",
    "    prompt=DLLM.prompt_group_relation, content=RELATIONS)"
   ]
  },
  {
   "cell_type": "code",
   "execution_count": 18,
   "metadata": {},
   "outputs": [
    {
     "name": "stdout",
     "output_type": "stream",
     "text": [
      "```csv\n",
      "subject;predicate;object\n",
      "Acra;built by;Antiochus Epiphanes\n",
      "Acra;located in;Jerusalem\n",
      "Acra;solved;mystery\n",
      "fortress;was crucial for;controlling the city\n",
      "fortress;was crucial for;monitoring the temple\n",
      "Antiochus Epiphanes;built;Acra\n",
      "Antiochus Epiphanes;built;fortress\n",
      "Antiochus Epiphanes;built;fortified compound\n",
      "Israel Antiquities Authority;discovered;Acra stronghold\n",
      "Acra stronghold;built by;Greeks\n",
      "Acra stronghold;located in;Jerusalem\n",
      "Hasmoneans;attempted to conquer;Acra stronghold\n",
      "excavation;uncovered;massive wall\n",
      "excavation;uncovered;tower base\n",
      "excavation;uncovered;defensive embankment\n",
      "settlement;existed before;Maccabean uprising\n",
      "defenses of stronghold;included;lead sling shots\n",
      "defenses of stronghold;included;bronze arrowheads\n",
      "discovery;provides insight into;history and non-Jewish identity\n",
      "citadel's inhabitants;had;non-Jewish identity\n",
      "Acra;built in;186 BC\n",
      "Acra;served as military post against;Jewish people\n",
      "Acra;monitored;Temple Mount activities\n",
      "Acra;demolished in;141 BC\n",
      "Temple Mount;extended to the south to conceal;Acra\n",
      "Temple Mount;has tunnels and staircases added for;increased access\n",
      "tunnels;connected to;Herod’s Double and Triple Gates\n",
      "Antiochus Epiphanes;reigned;175 to 164 BC\n",
      "Antiochus Epiphanes;known for;promoting Greek culture\n",
      "Antiochus Epiphanes;faced;challenges from Rome, Egypt, and internal conflicts\n",
      "Antiochus Epiphanes;efforts;strengthen his kingdom economically and socially\n",
      "Antiochus Epiphanes;caused conflicts with;Oriental temple organizations and the Jews\n",
      "Antiochus Epiphanes;led to;a revolt by Judas Maccabeus\n",
      "Antiochus Epiphanes;died in;164 BC\n",
      "Antiochus Epiphanes;believed;death was a punishment for his actions\n",
      "Judas Maccabeus;led;Maccabean revolt\n",
      "Archaeologists;discovered;ancient Greek fort\n",
      "Archaeologists;discovered;Acra\n",
      "Archaeologists;found;artifacts\n",
      "Archaeologists;found;sling shots\n",
      "Archaeologists;found;imported wine jars\n",
      "Archaeologists;found;lead sling shots\n",
      "Archaeologists;found;bronze arrowheads\n",
      "Yoram Tsafrir;conducted research on;Byzantine influence on synagogues\n",
      "Yoram Tsafrir;conducted research on;demography of Palestine\n",
      "Yoram Tsafrir;conducted research on;excavations at Beit She'an\n",
      "Yoram Tsafrir;conducted research on;excavations at Rehoboth\n",
      "Yoram Tsafrir;was a Professor Emeritus at;Hebrew University of Jerusalem\n",
      "Yoram Tsafrir;was a member of;Israel Academy of Sciences and Humanities\n",
      "Yoram Tsafrir;focused on;archaeology and history of Palestine\n",
      "Yoram Tsafrir;contributed to;publications related to ancient monuments\n",
      "Yoram Tsafrir;contributed to;projects related to ancient cities\n",
      "Yoram Tsafrir;played a significant role in;updating miniature models of ancient Palestine\n",
      "Yoram Tsafrir;collaborated on the creation of;a scale model of Jerusalem\n",
      "Temple Mount;has been a focus of;historical and geographical studies\n",
      "Edward Robinson;conducted;excavations\n",
      "Charles W. Wilson;conducted;excavations\n",
      "Charles Warren;conducted;excavations\n",
      "Kathleen M. Kenyon;conducted;excavations\n",
      "Benjamin Mazar;conducted;excavations\n",
      "Meir Ben Dov;conducted;excavations\n",
      "Eilat Mazar;conducted;excavations\n",
      "Israel Antiquities Authority;conducted;excavations\n",
      "excavations;uncovered;significant findings\n",
      "findings;include;biblical sites\n",
      "findings;include;architectural structures\n",
      "findings;include;water systems\n",
      "findings;include;inscriptions\n",
      "findings;include;artifacts\n",
      "excavations;provided;valuable insights\n",
      "excavations;provided;insights into;history of Jerusalem\n",
      "history of Jerusalem;includes;Roman period\n",
      "history of Jerusalem;includes;Byzantine period\n",
      "history of Jerusalem;includes;Islamic period\n",
      "history of Jerusalem;includes;Ottoman period\n",
      "Hasmonean dynasty;ruled;Judea and surrounding regions\n",
      "Hasmonean dynasty;expanded into;neighboring territories\n",
      "Hasmonean dynasty;taking the title;\"basileus\"\n",
      "Hasmonean dynasty;conquered by;Roman Republic\n",
      "Hasmonean dynasty;yielded to;Herodian Dynasty\n",
      "Hasmonean dynasty;established under;Simon Maccabaeus\n",
      "Maccabean Revolt;successful against;Seleucids\n",
      "Hasmoneans;faced challenges from;Romans\n",
      "Hasmoneans;faced challenges from;Parthians\n",
      "Hasmoneans;faced challenges from;internal conflicts\n",
      "Hasmoneans;leading to;eventual downfall\n",
      "Hasmoneans;legacy includes;a brief resurgence\n",
      "Hasmoneans;legacy includes;Roman client state status\n",
      "Hasmoneans;legacy includes;end of Jewish self-governance\n",
      "Hasmoneans;Hellenization contributed to;decline\n",
      "Hasmoneans;dynastic quarrels contributed to;decline\n",
      "Hasmoneans;story preserved in;historical sources like Josephus\n",
      "Simon Thassi;captured;Acra\n",
      "Simon Thassi;destroyed;Acra\n",
      "John Hyrcanus;took over leadership;Hasmonean Kingdom\n",
      "Hyrcanus;accepted;Hellenistic culture\n",
      "Hyrcanus;paid tribute to;Seleucids\n",
      "civil war;led to;independence of Judea\n",
      "Hyrcanus;expanded;kingdom's influence\n",
      "Roman influence;grew in;region\n",
      "Third Mithridatic War;impacted;Judea\n",
      "Third Mithridatic War;impacted;Jerusalem\n",
      "Simon Maccabeus;played a crucial role in;war of liberation against the Syrians\n",
      "Simon Maccabeus;was appointed as;strategus by Antiochus VI\n",
      "Simon Maccabeus;secured;Judea's independence\n",
      "Simon Maccabeus;minted;coins\n",
      "Simon Maccabeus;fortified;cities\n",
      "Simon Maccabeus;brought;peace\n",
      "Simon Maccabeus;brought;alliances with Rome and other nations\n",
      "Simon Maccabeus;was honored by;the people\n",
      "Simon Maccabeus;became;high priest\n",
      "Simon Maccabeus;became;strategus\n",
      "Simon Maccabeus;became;ethnarch of the Jews\n",
      "Simon Maccabeus;marked;the beginning of the Hasmonean dynasty\n",
      "Simon Maccabeus;reign ended tragically with;violent death in 135 B.C.\n",
      "Simon Maccabeus;paved the way for;future events in Judea\n",
      "```  \n"
     ]
    }
   ],
   "source": [
    "print(GROUPED_RELATIONS)"
   ]
  },
  {
   "cell_type": "markdown",
   "metadata": {},
   "source": [
    "## Importance Ranking"
   ]
  },
  {
   "cell_type": "code",
   "execution_count": 19,
   "metadata": {},
   "outputs": [
    {
     "name": "stdout",
     "output_type": "stream",
     "text": [
      "\n",
      "        You will be provided with a set of triples, where each triple consists of a subject, predicate, and object. Your task is to remove redundant triples, and to extract a subset of these triples that represent the most important information from the original set.\n",
      "\n",
      "        In your answer, you must give the output in a .csv file with the columns with the columns `subject`,  `predicate` and `object`. The columns are separated by `;`.\n",
      "\n",
      "        The output is:\n",
      "        ```csv\n",
      "        ```\n",
      "        \n"
     ]
    }
   ],
   "source": [
    "print(DLLM.prompt_ir)"
   ]
  },
  {
   "cell_type": "code",
   "execution_count": 21,
   "metadata": {},
   "outputs": [],
   "source": [
    "OUTPUT = run_gpt(\n",
    "    prompt=DLLM.prompt_ir, content=GROUPED_RELATIONS)"
   ]
  },
  {
   "cell_type": "code",
   "execution_count": 23,
   "metadata": {},
   "outputs": [
    {
     "name": "stdout",
     "output_type": "stream",
     "text": [
      "```csv\n",
      "subject;predicate;object\n",
      "Acra;built by;Antiochus Epiphanes\n",
      "Acra;located in;Jerusalem\n",
      "Acra;solved;mystery fortress\n",
      "Acra;was crucial for;controlling the city\n",
      "Acra;was crucial for;monitoring the temple\n",
      "Antiochus Epiphanes;built;fortress\n",
      "Antiochus Epiphanes;built;fortified compound\n",
      "Israel Antiquities Authority;discovered;Acra stronghold\n",
      "Acra stronghold;built by;Greeks\n",
      "Acra stronghold;located in;Jerusalem\n",
      "Hasmoneans;attempted to conquer;Acra stronghold\n",
      "excavation;uncovered;massive wall\n",
      "excavation;uncovered;tower base\n",
      "excavation;uncovered;defensive embankment\n",
      "settlement;existed before;Maccabean uprising\n",
      "defenses of stronghold;included;lead sling shots\n",
      "defenses of stronghold;included;bronze arrowheads\n",
      "discovery;provides insight into;history and non-Jewish identity\n",
      "citadel's inhabitants;had;non-Jewish identity\n",
      "Acra;built in;186 BC\n",
      "Acra;served as military post against;Jewish people\n",
      "Acra;monitored;Temple Mount activities\n",
      "Acra;demolished in;141 BC\n",
      "Temple Mount;extended to the south to conceal;Acra\n",
      "Temple Mount;has tunnels and staircases added for;increased access\n",
      "tunnels;connected to;Herod’s Double and Triple Gates\n",
      "Antiochus Epiphanes;reigned;175 to 164 BC\n",
      "Antiochus Epiphanes;known for;promoting Greek culture\n",
      "Antiochus Epiphanes;faced;challenges from Rome, Egypt, and internal conflicts\n",
      "Antiochus Epiphanes;efforts;strengthen his kingdom economically and socially\n",
      "Antiochus Epiphanes;caused conflicts with;Oriental temple organizations and the Jews\n",
      "Antiochus Epiphanes;led to;a revolt by Judas Maccabeus\n",
      "Antiochus Epiphanes;died in;164 BC\n",
      "Antiochus Epiphanes;believed;death was a punishment for his actions\n",
      "Judas Maccabeus;led;Maccabean revolt\n",
      "Archaeologists;discovered;ancient Greek fort\n",
      "Archaeologists;discovered;Acra\n",
      "Archaeologists;found;artifacts\n",
      "Archaeologists;found;sling shots\n",
      "Archaeologists;found;imported wine jars\n",
      "Archaeologists;found;lead sling shots\n",
      "Archaeologists;found;bronze arrowheads\n",
      "Yoram Tsafrir;conducted research on;Byzantine influence on synagogues\n",
      "Yoram Tsafrir;conducted research on;demography of Palestine\n",
      "Yoram Tsafrir;conducted research on;excavations at Beit She'an\n",
      "Yoram Tsafrir;conducted research on;excavations at Rehoboth\n",
      "Yoram Tsafrir;was a Professor Emeritus at;Hebrew University of Jerusalem\n",
      "Yoram Tsafrir;was a member of;Israel Academy of Sciences and Humanities\n",
      "Yoram Tsafrir;focused on;archaeology and history of Palestine\n",
      "Yoram Tsafrir;contributed to;publications related to ancient monuments\n",
      "Yoram Tsafrir;contributed to;projects related to ancient cities\n",
      "Yoram Tsafrir;played a significant role in;updating miniature models of ancient Palestine\n",
      "Yoram Tsafrir;collaborated on the creation of;a scale model of Jerusalem\n",
      "Temple Mount;has been a focus of;historical and geographical studies\n",
      "Edward Robinson;conducted;excavations\n",
      "Charles W. Wilson;conducted;excavations\n",
      "Charles Warren;conducted;excavations\n",
      "Kathleen M. Kenyon;conducted;excavations\n",
      "Benjamin Mazar;conducted;excavations\n",
      "Meir Ben Dov;conducted;excavations\n",
      "Eilat Mazar;conducted;excavations\n",
      "Israel Antiquities Authority;conducted;excavations\n",
      "excavations;uncovered;significant findings\n",
      "findings;include;biblical sites\n",
      "findings;include;architectural structures\n",
      "findings;include;water systems\n",
      "findings;include;inscriptions\n",
      "findings;include;artifacts\n",
      "excavations;provided;valuable insights\n",
      "excavations;provided;insights into;history of Jerusalem\n",
      "history of Jerusalem;includes;Roman period\n",
      "history of Jerusalem;includes;Byzantine period\n",
      "history of Jerusalem;includes;Islamic period\n",
      "history of Jerusalem;includes;Ottoman period\n",
      "Hasmonean dynasty;ruled;Judea and surrounding regions\n",
      "Hasmonean dynasty;expanded into;neighboring territories\n",
      "Hasmonean dynasty;taking the title;\"basileus\"\n",
      "Hasmonean dynasty;conquered by;Roman Republic\n",
      "Hasmonean dynasty;yielded to;Herodian Dynasty\n",
      "Hasmonean dynasty;established under;Simon Maccabaeus\n",
      "Maccabean Revolt;successful against;Seleucids\n",
      "Hasmoneans;faced challenges from;Romans\n",
      "Hasmoneans;faced challenges from;Parthians\n",
      "Hasmoneans;faced challenges from;internal conflicts\n",
      "Hasmoneans;leading to;eventual downfall\n",
      "Hasmoneans;legacy includes;a brief resurgence\n",
      "Hasmoneans;legacy includes;Roman client state status\n",
      "Hasmoneans;legacy includes;end of Jewish self-governance\n",
      "Hasmoneans;Hellenization contributed to;decline\n",
      "Hasmoneans;dynastic quarrels contributed to;decline\n",
      "Hasmoneans;story preserved in;historical sources like Josephus\n",
      "Simon Thassi;captured;Acra\n",
      "Simon Thassi;destroyed;Acra\n",
      "John Hyrcanus;took over leadership;Hasmonean Kingdom\n",
      "Hyrcanus;accepted;Hellenistic culture\n",
      "Hyrcanus;paid tribute to;Seleucids\n",
      "civil war;led to;independence of Judea\n",
      "Hyrcanus;expanded;kingdom's influence\n",
      "Roman influence;grew in;region\n",
      "Third Mithridatic War;impacted;Judea\n",
      "Third Mithridatic War;impacted;Jerusalem\n",
      "Simon Maccabeus;played a crucial role in;war of liberation against the Syrians\n",
      "Simon Maccabeus;was appointed as;strategus by Antiochus VI\n",
      "Simon Maccabeus;secured;Judea's independence\n",
      "Simon Maccabeus;minted;coins\n",
      "Simon Maccabeus;fortified;cities\n",
      "Simon Maccabeus;brought;peace\n",
      "Simon Maccabeus;brought;alliances with Rome and other nations\n",
      "Simon Maccabeus;was honored by;the people\n",
      "Simon Maccabeus;became;high priest\n",
      "Simon Maccabeus;became;strategus\n",
      "Simon Maccabeus;became;ethnarch of the Jews\n",
      "Simon Maccabeus;marked;the beginning of the Hasmonean dynasty\n",
      "Simon Maccabeus;reign ended tragically with;violent death in 135 B.C.\n",
      "Simon Maccabeus;paved the way for;future events in Judea\n",
      "```\n"
     ]
    }
   ],
   "source": [
    "print(OUTPUT)"
   ]
  },
  {
   "cell_type": "code",
   "execution_count": 29,
   "metadata": {},
   "outputs": [
    {
     "data": {
      "text/html": [
       "<div>\n",
       "<style scoped>\n",
       "    .dataframe tbody tr th:only-of-type {\n",
       "        vertical-align: middle;\n",
       "    }\n",
       "\n",
       "    .dataframe tbody tr th {\n",
       "        vertical-align: top;\n",
       "    }\n",
       "\n",
       "    .dataframe thead th {\n",
       "        text-align: right;\n",
       "    }\n",
       "</style>\n",
       "<table border=\"1\" class=\"dataframe\">\n",
       "  <thead>\n",
       "    <tr style=\"text-align: right;\">\n",
       "      <th></th>\n",
       "      <th>subject</th>\n",
       "      <th>predicate</th>\n",
       "      <th>object</th>\n",
       "    </tr>\n",
       "  </thead>\n",
       "  <tbody>\n",
       "    <tr>\n",
       "      <th>0</th>\n",
       "      <td>Acra</td>\n",
       "      <td>built by</td>\n",
       "      <td>Antiochus Epiphanes</td>\n",
       "    </tr>\n",
       "    <tr>\n",
       "      <th>1</th>\n",
       "      <td>Acra</td>\n",
       "      <td>located in</td>\n",
       "      <td>Jerusalem</td>\n",
       "    </tr>\n",
       "    <tr>\n",
       "      <th>2</th>\n",
       "      <td>Acra</td>\n",
       "      <td>solved</td>\n",
       "      <td>mystery fortress</td>\n",
       "    </tr>\n",
       "    <tr>\n",
       "      <th>3</th>\n",
       "      <td>Acra</td>\n",
       "      <td>was crucial for</td>\n",
       "      <td>controlling the city</td>\n",
       "    </tr>\n",
       "    <tr>\n",
       "      <th>4</th>\n",
       "      <td>Acra</td>\n",
       "      <td>was crucial for</td>\n",
       "      <td>monitoring the temple</td>\n",
       "    </tr>\n",
       "    <tr>\n",
       "      <th>...</th>\n",
       "      <td>...</td>\n",
       "      <td>...</td>\n",
       "      <td>...</td>\n",
       "    </tr>\n",
       "    <tr>\n",
       "      <th>109</th>\n",
       "      <td>Simon Maccabeus</td>\n",
       "      <td>became</td>\n",
       "      <td>strategus</td>\n",
       "    </tr>\n",
       "    <tr>\n",
       "      <th>110</th>\n",
       "      <td>Simon Maccabeus</td>\n",
       "      <td>became</td>\n",
       "      <td>ethnarch of the Jews</td>\n",
       "    </tr>\n",
       "    <tr>\n",
       "      <th>111</th>\n",
       "      <td>Simon Maccabeus</td>\n",
       "      <td>marked</td>\n",
       "      <td>the beginning of the Hasmonean dynasty</td>\n",
       "    </tr>\n",
       "    <tr>\n",
       "      <th>112</th>\n",
       "      <td>Simon Maccabeus</td>\n",
       "      <td>reign ended tragically with</td>\n",
       "      <td>violent death in 135 B.C.</td>\n",
       "    </tr>\n",
       "    <tr>\n",
       "      <th>113</th>\n",
       "      <td>Simon Maccabeus</td>\n",
       "      <td>paved the way for</td>\n",
       "      <td>future events in Judea</td>\n",
       "    </tr>\n",
       "  </tbody>\n",
       "</table>\n",
       "<p>114 rows × 3 columns</p>\n",
       "</div>"
      ],
      "text/plain": [
       "             subject                    predicate  \\\n",
       "0               Acra                     built by   \n",
       "1               Acra                   located in   \n",
       "2               Acra                       solved   \n",
       "3               Acra              was crucial for   \n",
       "4               Acra              was crucial for   \n",
       "..               ...                          ...   \n",
       "109  Simon Maccabeus                       became   \n",
       "110  Simon Maccabeus                       became   \n",
       "111  Simon Maccabeus                       marked   \n",
       "112  Simon Maccabeus  reign ended tragically with   \n",
       "113  Simon Maccabeus            paved the way for   \n",
       "\n",
       "                                     object  \n",
       "0                       Antiochus Epiphanes  \n",
       "1                                 Jerusalem  \n",
       "2                          mystery fortress  \n",
       "3                      controlling the city  \n",
       "4                     monitoring the temple  \n",
       "..                                      ...  \n",
       "109                               strategus  \n",
       "110                    ethnarch of the Jews  \n",
       "111  the beginning of the Hasmonean dynasty  \n",
       "112               violent death in 135 B.C.  \n",
       "113                  future events in Judea  \n",
       "\n",
       "[114 rows x 3 columns]"
      ]
     },
     "execution_count": 29,
     "metadata": {},
     "output_type": "execute_result"
    }
   ],
   "source": [
    "OUTPUT = OUTPUT.replace(\"```csv\", \"\").replace(\"```\", \"\")\n",
    "pd.read_csv(StringIO(OUTPUT), sep=\";\", on_bad_lines='skip')  "
   ]
  },
  {
   "cell_type": "code",
   "execution_count": null,
   "metadata": {},
   "outputs": [],
   "source": []
  }
 ],
 "metadata": {
  "kernelspec": {
   "display_name": "Python 3 (ipykernel)",
   "language": "python",
   "name": "python3"
  },
  "language_info": {
   "codemirror_mode": {
    "name": "ipython",
    "version": 3
   },
   "file_extension": ".py",
   "mimetype": "text/x-python",
   "name": "python",
   "nbconvert_exporter": "python",
   "pygments_lexer": "ipython3",
   "version": "3.9.6"
  }
 },
 "nbformat": 4,
 "nbformat_minor": 4
}